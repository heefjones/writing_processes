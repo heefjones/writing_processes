{
 "cells": [
  {
   "cell_type": "markdown",
   "metadata": {},
   "source": [
    "# Inspect data"
   ]
  },
  {
   "cell_type": "code",
   "execution_count": 61,
   "metadata": {},
   "outputs": [],
   "source": [
    "import pandas as pd\n",
    "import numpy as np\n",
    "\n",
    "import matplotlib.pyplot as plt\n",
    "import seaborn as sns\n",
    "\n",
    "# set max rows displayed to 100\n",
    "pd.set_option('display.max_rows', 100)\n",
    "pd.set_option('display.max_columns', 100)"
   ]
  },
  {
   "cell_type": "code",
   "execution_count": 13,
   "metadata": {},
   "outputs": [],
   "source": [
    "# load the data into pandas dataframes\n",
    "scores = pd.read_csv('data/train_scores.csv')\n",
    "train = pd.read_csv('data/train_logs.csv')\n",
    "test = pd.read_csv('data/test_logs.csv')"
   ]
  },
  {
   "cell_type": "code",
   "execution_count": 3,
   "metadata": {},
   "outputs": [
    {
     "data": {
      "image/png": "[encoded data removed]",
      "text/plain": [
       "<Figure size 640x480 with 1 Axes>"
      ]
     },
     "metadata": {},
     "output_type": "display_data"
    }
   ],
   "source": [
    "plt.title('Distribution of scores')\n",
    "scores['score'].hist();"
   ]
  },
  {
   "cell_type": "code",
   "execution_count": 4,
   "metadata": {},
   "outputs": [
    {
     "data": {
      "text/plain": [
       "count    2471.000000\n",
       "mean        3.711251\n",
       "std         1.024937\n",
       "min         0.500000\n",
       "25%         3.000000\n",
       "50%         4.000000\n",
       "75%         4.500000\n",
       "max         6.000000\n",
       "Name: score, dtype: float64"
      ]
     },
     "execution_count": 4,
     "metadata": {},
     "output_type": "execute_result"
    }
   ],
   "source": [
    "scores['score'].describe()"
   ]
  },
  {
   "cell_type": "code",
   "execution_count": 5,
   "metadata": {},
   "outputs": [
    {
     "data": {
      "text/html": [
       "<div>\n",
       "<style scoped>\n",
       "    .dataframe tbody tr th:only-of-type {\n",
       "        vertical-align: middle;\n",
       "    }\n",
       "\n",
       "    .dataframe tbody tr th {\n",
       "        vertical-align: top;\n",
       "    }\n",
       "\n",
       "    .dataframe thead th {\n",
       "        text-align: right;\n",
       "    }\n",
       "</style>\n",
       "<table border=\"1\" class=\"dataframe\">\n",
       "  <thead>\n",
       "    <tr style=\"text-align: right;\">\n",
       "      <th></th>\n",
       "      <th>id</th>\n",
       "      <th>event_id</th>\n",
       "      <th>down_time</th>\n",
       "      <th>up_time</th>\n",
       "      <th>action_time</th>\n",
       "      <th>activity</th>\n",
       "      <th>down_event</th>\n",
       "      <th>up_event</th>\n",
       "      <th>text_change</th>\n",
       "      <th>cursor_position</th>\n",
       "      <th>word_count</th>\n",
       "    </tr>\n",
       "  </thead>\n",
       "  <tbody>\n",
       "    <tr>\n",
       "      <th>0</th>\n",
       "      <td>001519c8</td>\n",
       "      <td>1</td>\n",
       "      <td>4526</td>\n",
       "      <td>4557</td>\n",
       "      <td>31</td>\n",
       "      <td>Nonproduction</td>\n",
       "      <td>Leftclick</td>\n",
       "      <td>Leftclick</td>\n",
       "      <td>NoChange</td>\n",
       "      <td>0</td>\n",
       "      <td>0</td>\n",
       "    </tr>\n",
       "    <tr>\n",
       "      <th>1</th>\n",
       "      <td>001519c8</td>\n",
       "      <td>2</td>\n",
       "      <td>4558</td>\n",
       "      <td>4962</td>\n",
       "      <td>404</td>\n",
       "      <td>Nonproduction</td>\n",
       "      <td>Leftclick</td>\n",
       "      <td>Leftclick</td>\n",
       "      <td>NoChange</td>\n",
       "      <td>0</td>\n",
       "      <td>0</td>\n",
       "    </tr>\n",
       "  </tbody>\n",
       "</table>\n",
       "</div>"
      ],
      "text/plain": [
       "         id  event_id  down_time  up_time  action_time       activity  \\\n",
       "0  001519c8         1       4526     4557           31  Nonproduction   \n",
       "1  001519c8         2       4558     4962          404  Nonproduction   \n",
       "\n",
       "  down_event   up_event text_change  cursor_position  word_count  \n",
       "0  Leftclick  Leftclick    NoChange                0           0  \n",
       "1  Leftclick  Leftclick    NoChange                0           0  "
      ]
     },
     "execution_count": 5,
     "metadata": {},
     "output_type": "execute_result"
    }
   ],
   "source": [
    "train.head(2)"
   ]
  },
  {
   "cell_type": "code",
   "execution_count": 6,
   "metadata": {},
   "outputs": [
    {
     "data": {
      "text/html": [
       "<div>\n",
       "<style scoped>\n",
       "    .dataframe tbody tr th:only-of-type {\n",
       "        vertical-align: middle;\n",
       "    }\n",
       "\n",
       "    .dataframe tbody tr th {\n",
       "        vertical-align: top;\n",
       "    }\n",
       "\n",
       "    .dataframe thead th {\n",
       "        text-align: right;\n",
       "    }\n",
       "</style>\n",
       "<table border=\"1\" class=\"dataframe\">\n",
       "  <thead>\n",
       "    <tr style=\"text-align: right;\">\n",
       "      <th></th>\n",
       "      <th>id</th>\n",
       "      <th>event_id</th>\n",
       "      <th>down_time</th>\n",
       "      <th>up_time</th>\n",
       "      <th>action_time</th>\n",
       "      <th>activity</th>\n",
       "      <th>down_event</th>\n",
       "      <th>up_event</th>\n",
       "      <th>text_change</th>\n",
       "      <th>cursor_position</th>\n",
       "      <th>word_count</th>\n",
       "    </tr>\n",
       "  </thead>\n",
       "  <tbody>\n",
       "    <tr>\n",
       "      <th>0</th>\n",
       "      <td>0000aaaa</td>\n",
       "      <td>1</td>\n",
       "      <td>338433</td>\n",
       "      <td>338518</td>\n",
       "      <td>85</td>\n",
       "      <td>Input</td>\n",
       "      <td>Space</td>\n",
       "      <td>Space</td>\n",
       "      <td></td>\n",
       "      <td>0</td>\n",
       "      <td>0</td>\n",
       "    </tr>\n",
       "    <tr>\n",
       "      <th>1</th>\n",
       "      <td>0000aaaa</td>\n",
       "      <td>2</td>\n",
       "      <td>760073</td>\n",
       "      <td>760160</td>\n",
       "      <td>87</td>\n",
       "      <td>Input</td>\n",
       "      <td>Space</td>\n",
       "      <td>Space</td>\n",
       "      <td></td>\n",
       "      <td>1</td>\n",
       "      <td>0</td>\n",
       "    </tr>\n",
       "  </tbody>\n",
       "</table>\n",
       "</div>"
      ],
      "text/plain": [
       "         id  event_id  down_time  up_time  action_time activity down_event  \\\n",
       "0  0000aaaa         1     338433   338518           85    Input      Space   \n",
       "1  0000aaaa         2     760073   760160           87    Input      Space   \n",
       "\n",
       "  up_event text_change  cursor_position  word_count  \n",
       "0    Space                            0           0  \n",
       "1    Space                            1           0  "
      ]
     },
     "execution_count": 6,
     "metadata": {},
     "output_type": "execute_result"
    }
   ],
   "source": [
    "test.head(2)"
   ]
  },
  {
   "cell_type": "code",
   "execution_count": 7,
   "metadata": {},
   "outputs": [
    {
     "data": {
      "text/plain": [
       "2471"
      ]
     },
     "execution_count": 7,
     "metadata": {},
     "output_type": "execute_result"
    }
   ],
   "source": [
    "train.id.nunique()"
   ]
  },
  {
   "cell_type": "markdown",
   "metadata": {},
   "source": [
    "- 2471 total writers"
   ]
  },
  {
   "cell_type": "code",
   "execution_count": 10,
   "metadata": {},
   "outputs": [
    {
     "data": {
      "text/plain": [
       "array(['Nonproduction', 'Input', 'Remove/Cut', 'Replace',\n",
       "       'Move From [284, 292] To [282, 290]',\n",
       "       'Move From [287, 289] To [285, 287]',\n",
       "       'Move From [460, 461] To [465, 466]', 'Paste',\n",
       "       'Move From [905, 1314] To [907, 1316]',\n",
       "       'Move From [565, 743] To [669, 847]',\n",
       "       'Move From [669, 847] To [565, 743]',\n",
       "       'Move From [1041, 1121] To [1496, 1576]',\n",
       "       'Move From [1455, 1557] To [1323, 1425]',\n",
       "       'Move From [2268, 2275] To [2247, 2254]',\n",
       "       'Move From [213, 302] To [902, 991]',\n",
       "       'Move From [0, 158] To [234, 392]',\n",
       "       'Move From [460, 465] To [925, 930]',\n",
       "       'Move From [810, 906] To [816, 912]',\n",
       "       'Move From [186, 187] To [184, 185]',\n",
       "       'Move From [140, 272] To [299, 431]',\n",
       "       'Move From [114, 140] To [272, 298]',\n",
       "       'Move From [1386, 1450] To [1445, 1509]',\n",
       "       'Move From [442, 524] To [296, 378]',\n",
       "       'Move From [408, 414] To [390, 396]',\n",
       "       'Move From [1144, 1147] To [1142, 1145]',\n",
       "       'Move From [218, 220] To [206, 208]',\n",
       "       'Move From [164, 165] To [153, 154]',\n",
       "       'Move From [623, 632] To [624, 633]',\n",
       "       'Move From [747, 960] To [1041, 1254]',\n",
       "       'Move From [274, 314] To [299, 339]',\n",
       "       'Move From [624, 625] To [845, 846]',\n",
       "       'Move From [1861, 2063] To [1766, 1968]',\n",
       "       'Move From [1766, 1968] To [1861, 2063]',\n",
       "       'Move From [2091, 2179] To [252, 340]',\n",
       "       'Move From [923, 1077] To [340, 494]',\n",
       "       'Move From [0, 1] To [590, 591]',\n",
       "       'Move From [999, 1000] To [1000, 1001]',\n",
       "       'Move From [13, 65] To [9, 61]',\n",
       "       'Move From [1651, 1769] To [1565, 1683]',\n",
       "       'Move From [61, 136] To [0, 75]', 'Move From [0, 75] To [1, 76]',\n",
       "       'Move From [75, 134] To [304, 363]',\n",
       "       'Move From [289, 355] To [562, 628]',\n",
       "       'Move From [944, 1102] To [1050, 1208]',\n",
       "       'Move From [1306, 1371] To [1061, 1126]',\n",
       "       'Move From [1061, 1126] To [1306, 1371]',\n",
       "       'Move From [1361, 1362] To [1358, 1359]',\n",
       "       'Move From [51, 86] To [109, 144]',\n",
       "       'Move From [134, 169] To [122, 157]',\n",
       "       'Move From [382, 437] To [458, 513]'], dtype=object)"
      ]
     },
     "execution_count": 10,
     "metadata": {},
     "output_type": "execute_result"
    }
   ],
   "source": [
    "train['activity'].unique()"
   ]
  },
  {
   "cell_type": "code",
   "execution_count": 14,
   "metadata": {},
   "outputs": [],
   "source": [
    "# if activity column contains 'Move', set that value to 'Move'\n",
    "train.loc[train['activity'].str.contains('Move'), 'activity'] = 'Move'"
   ]
  },
  {
   "cell_type": "code",
   "execution_count": 15,
   "metadata": {},
   "outputs": [
    {
     "data": {
      "text/plain": [
       "array(['Nonproduction', 'Input', 'Remove/Cut', 'Replace', 'Move', 'Paste'],\n",
       "      dtype=object)"
      ]
     },
     "execution_count": 15,
     "metadata": {},
     "output_type": "execute_result"
    }
   ],
   "source": [
    "train['activity'].unique()"
   ]
  },
  {
   "cell_type": "code",
   "execution_count": 22,
   "metadata": {},
   "outputs": [
    {
     "name": "stdout",
     "output_type": "stream",
     "text": [
      "<class 'pandas.core.frame.DataFrame'>\n",
      "RangeIndex: 8405898 entries, 0 to 8405897\n",
      "Data columns (total 11 columns):\n",
      " #   Column           Dtype \n",
      "---  ------           ----- \n",
      " 0   id               object\n",
      " 1   event_id         int64 \n",
      " 2   down_time        int64 \n",
      " 3   up_time          int64 \n",
      " 4   action_time      int64 \n",
      " 5   activity         object\n",
      " 6   down_event       object\n",
      " 7   up_event         object\n",
      " 8   text_change      object\n",
      " 9   cursor_position  int64 \n",
      " 10  word_count       int64 \n",
      "dtypes: int64(6), object(5)\n",
      "memory usage: 705.5+ MB\n"
     ]
    }
   ],
   "source": [
    "train.info()"
   ]
  },
  {
   "cell_type": "code",
   "execution_count": 18,
   "metadata": {},
   "outputs": [
    {
     "data": {
      "text/plain": [
       "id                 0\n",
       "event_id           0\n",
       "down_time          0\n",
       "up_time            0\n",
       "action_time        0\n",
       "activity           0\n",
       "down_event         0\n",
       "up_event           0\n",
       "text_change        0\n",
       "cursor_position    0\n",
       "word_count         0\n",
       "dtype: int64"
      ]
     },
     "execution_count": 18,
     "metadata": {},
     "output_type": "execute_result"
    }
   ],
   "source": [
    "# look at nulls in train\n",
    "train.isnull().sum()"
   ]
  },
  {
   "cell_type": "code",
   "execution_count": 21,
   "metadata": {},
   "outputs": [
    {
     "data": {
      "text/plain": [
       "Index(['id', 'event_id', 'down_time', 'up_time', 'action_time', 'activity',\n",
       "       'down_event', 'up_event', 'text_change', 'cursor_position',\n",
       "       'word_count'],\n",
       "      dtype='object')"
      ]
     },
     "execution_count": 21,
     "metadata": {},
     "output_type": "execute_result"
    }
   ],
   "source": [
    "train.columns"
   ]
  },
  {
   "cell_type": "code",
   "execution_count": 41,
   "metadata": {},
   "outputs": [
    {
     "data": {
      "text/plain": [
       "131"
      ]
     },
     "execution_count": 41,
     "metadata": {},
     "output_type": "execute_result"
    }
   ],
   "source": [
    "train['down_event'].nunique()"
   ]
  },
  {
   "cell_type": "code",
   "execution_count": 40,
   "metadata": {},
   "outputs": [
    {
     "data": {
      "text/plain": [
       "130"
      ]
     },
     "execution_count": 40,
     "metadata": {},
     "output_type": "execute_result"
    }
   ],
   "source": [
    "train['up_event'].nunique()"
   ]
  },
  {
   "cell_type": "code",
   "execution_count": 42,
   "metadata": {},
   "outputs": [
    {
     "data": {
      "text/html": [
       "<div>\n",
       "<style scoped>\n",
       "    .dataframe tbody tr th:only-of-type {\n",
       "        vertical-align: middle;\n",
       "    }\n",
       "\n",
       "    .dataframe tbody tr th {\n",
       "        vertical-align: top;\n",
       "    }\n",
       "\n",
       "    .dataframe thead th {\n",
       "        text-align: right;\n",
       "    }\n",
       "</style>\n",
       "<table border=\"1\" class=\"dataframe\">\n",
       "  <thead>\n",
       "    <tr style=\"text-align: right;\">\n",
       "      <th></th>\n",
       "      <th>id</th>\n",
       "      <th>event_id</th>\n",
       "      <th>down_time</th>\n",
       "      <th>up_time</th>\n",
       "      <th>action_time</th>\n",
       "      <th>activity</th>\n",
       "      <th>down_event</th>\n",
       "      <th>up_event</th>\n",
       "      <th>text_change</th>\n",
       "      <th>cursor_position</th>\n",
       "      <th>word_count</th>\n",
       "    </tr>\n",
       "  </thead>\n",
       "  <tbody>\n",
       "    <tr>\n",
       "      <th>5115</th>\n",
       "      <td>0042269b</td>\n",
       "      <td>105</td>\n",
       "      <td>104507</td>\n",
       "      <td>104617</td>\n",
       "      <td>110</td>\n",
       "      <td>Replace</td>\n",
       "      <td>q</td>\n",
       "      <td>m</td>\n",
       "      <td>qqqqqqq qqq qqqq qqqq qqqq qq qqqqqqqq qqqqqqq...</td>\n",
       "      <td>1</td>\n",
       "      <td>4</td>\n",
       "    </tr>\n",
       "    <tr>\n",
       "      <th>5232</th>\n",
       "      <td>0042269b</td>\n",
       "      <td>222</td>\n",
       "      <td>158578</td>\n",
       "      <td>158638</td>\n",
       "      <td>60</td>\n",
       "      <td>Replace</td>\n",
       "      <td>q</td>\n",
       "      <td>i</td>\n",
       "      <td>qqqqqqq  =&gt; q</td>\n",
       "      <td>15</td>\n",
       "      <td>14</td>\n",
       "    </tr>\n",
       "    <tr>\n",
       "      <th>6276</th>\n",
       "      <td>0042269b</td>\n",
       "      <td>1266</td>\n",
       "      <td>473329</td>\n",
       "      <td>473439</td>\n",
       "      <td>110</td>\n",
       "      <td>Replace</td>\n",
       "      <td>q</td>\n",
       "      <td>o</td>\n",
       "      <td>qqq qq qqq qqqqqqq qqqqqq qqqq qq  =&gt; q</td>\n",
       "      <td>194</td>\n",
       "      <td>128</td>\n",
       "    </tr>\n",
       "    <tr>\n",
       "      <th>6825</th>\n",
       "      <td>0042269b</td>\n",
       "      <td>1815</td>\n",
       "      <td>641821</td>\n",
       "      <td>641920</td>\n",
       "      <td>99</td>\n",
       "      <td>Replace</td>\n",
       "      <td>q</td>\n",
       "      <td>t</td>\n",
       "      <td>qqq qqqqq qq qqqqqqqq qqqq qqq qqqqqqq qq qqqq...</td>\n",
       "      <td>529</td>\n",
       "      <td>190</td>\n",
       "    </tr>\n",
       "    <tr>\n",
       "      <th>8223</th>\n",
       "      <td>0042269b</td>\n",
       "      <td>3213</td>\n",
       "      <td>1410198</td>\n",
       "      <td>1410293</td>\n",
       "      <td>95</td>\n",
       "      <td>Replace</td>\n",
       "      <td>q</td>\n",
       "      <td>a</td>\n",
       "      <td>qqqqqqq qqqqqqqqq qqqq qqq qq qqqq qqq qqqqqqq...</td>\n",
       "      <td>1539</td>\n",
       "      <td>282</td>\n",
       "    </tr>\n",
       "    <tr>\n",
       "      <th>...</th>\n",
       "      <td>...</td>\n",
       "      <td>...</td>\n",
       "      <td>...</td>\n",
       "      <td>...</td>\n",
       "      <td>...</td>\n",
       "      <td>...</td>\n",
       "      <td>...</td>\n",
       "      <td>...</td>\n",
       "      <td>...</td>\n",
       "      <td>...</td>\n",
       "      <td>...</td>\n",
       "    </tr>\n",
       "    <tr>\n",
       "      <th>8323360</th>\n",
       "      <td>fde20dd8</td>\n",
       "      <td>2019</td>\n",
       "      <td>495093</td>\n",
       "      <td>495205</td>\n",
       "      <td>112</td>\n",
       "      <td>Replace</td>\n",
       "      <td>q</td>\n",
       "      <td>i</td>\n",
       "      <td>qqqq  =&gt; q</td>\n",
       "      <td>530</td>\n",
       "      <td>167</td>\n",
       "    </tr>\n",
       "    <tr>\n",
       "      <th>8328686</th>\n",
       "      <td>fde20dd8</td>\n",
       "      <td>7345</td>\n",
       "      <td>1760415</td>\n",
       "      <td>1760572</td>\n",
       "      <td>157</td>\n",
       "      <td>Replace</td>\n",
       "      <td>q</td>\n",
       "      <td>y</td>\n",
       "      <td>qq qqq qqq'q qqqqq qqqqqq qq qqq qqqqqqq =&gt; q</td>\n",
       "      <td>3218</td>\n",
       "      <td>700</td>\n",
       "    </tr>\n",
       "    <tr>\n",
       "      <th>8378372</th>\n",
       "      <td>ff90a677</td>\n",
       "      <td>29</td>\n",
       "      <td>50477</td>\n",
       "      <td>50647</td>\n",
       "      <td>170</td>\n",
       "      <td>Nonproduction</td>\n",
       "      <td>a</td>\n",
       "      <td>A</td>\n",
       "      <td>NoChange</td>\n",
       "      <td>18</td>\n",
       "      <td>4</td>\n",
       "    </tr>\n",
       "    <tr>\n",
       "      <th>8378374</th>\n",
       "      <td>ff90a677</td>\n",
       "      <td>31</td>\n",
       "      <td>50703</td>\n",
       "      <td>50837</td>\n",
       "      <td>134</td>\n",
       "      <td>Replace</td>\n",
       "      <td>q</td>\n",
       "      <td>i</td>\n",
       "      <td>q qq qqqqqqq qqqq  =&gt; q</td>\n",
       "      <td>1</td>\n",
       "      <td>1</td>\n",
       "    </tr>\n",
       "    <tr>\n",
       "      <th>8403087</th>\n",
       "      <td>fff05981</td>\n",
       "      <td>809</td>\n",
       "      <td>513680</td>\n",
       "      <td>513815</td>\n",
       "      <td>135</td>\n",
       "      <td>Replace</td>\n",
       "      <td>q</td>\n",
       "      <td>a</td>\n",
       "      <td>qqqqqqqq qq  =&gt; q</td>\n",
       "      <td>217</td>\n",
       "      <td>37</td>\n",
       "    </tr>\n",
       "  </tbody>\n",
       "</table>\n",
       "<p>534 rows × 11 columns</p>\n",
       "</div>"
      ],
      "text/plain": [
       "               id  event_id  down_time  up_time  action_time       activity  \\\n",
       "5115     0042269b       105     104507   104617          110        Replace   \n",
       "5232     0042269b       222     158578   158638           60        Replace   \n",
       "6276     0042269b      1266     473329   473439          110        Replace   \n",
       "6825     0042269b      1815     641821   641920           99        Replace   \n",
       "8223     0042269b      3213    1410198  1410293           95        Replace   \n",
       "...           ...       ...        ...      ...          ...            ...   \n",
       "8323360  fde20dd8      2019     495093   495205          112        Replace   \n",
       "8328686  fde20dd8      7345    1760415  1760572          157        Replace   \n",
       "8378372  ff90a677        29      50477    50647          170  Nonproduction   \n",
       "8378374  ff90a677        31      50703    50837          134        Replace   \n",
       "8403087  fff05981       809     513680   513815          135        Replace   \n",
       "\n",
       "        down_event up_event  \\\n",
       "5115             q        m   \n",
       "5232             q        i   \n",
       "6276             q        o   \n",
       "6825             q        t   \n",
       "8223             q        a   \n",
       "...            ...      ...   \n",
       "8323360          q        i   \n",
       "8328686          q        y   \n",
       "8378372          a        A   \n",
       "8378374          q        i   \n",
       "8403087          q        a   \n",
       "\n",
       "                                               text_change  cursor_position  \\\n",
       "5115     qqqqqqq qqq qqqq qqqq qqqq qq qqqqqqqq qqqqqqq...                1   \n",
       "5232                                         qqqqqqq  => q               15   \n",
       "6276               qqq qq qqq qqqqqqq qqqqqq qqqq qq  => q              194   \n",
       "6825     qqq qqqqq qq qqqqqqqq qqqq qqq qqqqqqq qq qqqq...              529   \n",
       "8223     qqqqqqq qqqqqqqqq qqqq qqq qq qqqq qqq qqqqqqq...             1539   \n",
       "...                                                    ...              ...   \n",
       "8323360                                         qqqq  => q              530   \n",
       "8328686      qq qqq qqq'q qqqqq qqqqqq qq qqq qqqqqqq => q             3218   \n",
       "8378372                                           NoChange               18   \n",
       "8378374                            q qq qqqqqqq qqqq  => q                1   \n",
       "8403087                                  qqqqqqqq qq  => q              217   \n",
       "\n",
       "         word_count  \n",
       "5115              4  \n",
       "5232             14  \n",
       "6276            128  \n",
       "6825            190  \n",
       "8223            282  \n",
       "...             ...  \n",
       "8323360         167  \n",
       "8328686         700  \n",
       "8378372           4  \n",
       "8378374           1  \n",
       "8403087          37  \n",
       "\n",
       "[534 rows x 11 columns]"
      ]
     },
     "execution_count": 42,
     "metadata": {},
     "output_type": "execute_result"
    }
   ],
   "source": [
    "# where down and up event differ\n",
    "train[train['down_event'] != train['up_event']]"
   ]
  },
  {
   "cell_type": "markdown",
   "metadata": {},
   "source": [
    "# Create feature df"
   ]
  },
  {
   "cell_type": "markdown",
   "metadata": {},
   "source": [
    "### Features that may determine the Quality of an Essay:\n",
    "\n",
    "- Total keys\n",
    "- Word count\n",
    "- tot keys / word count (keys pressed per word)\n",
    "- avg action time\n",
    "- std action time\n",
    "- proportion of each of the 6 actions"
   ]
  },
  {
   "cell_type": "code",
   "execution_count": 76,
   "metadata": {},
   "outputs": [],
   "source": [
    "# group users by id\n",
    "grouped = train.groupby('id')\n",
    "\n",
    "# Calculate summary statistics for each user\n",
    "features = grouped.agg({\n",
    "    'down_time': ['sum', 'mean', 'std', 'min', 'max'],  # Total, average, standard deviation, min, and max of down time\n",
    "    'up_time': ['sum', 'mean', 'std', 'min', 'max'],    # Total, average, standard deviation, min, and max of up time\n",
    "    'action_time': ['sum', 'mean', 'std', 'min', 'max'],# Total, average, standard deviation, min, and max of action time\n",
    "    'id': 'count'                                       # Total number of events (key presses)\n",
    "})\n",
    "\n",
    "# Flatten the multi-level columns\n",
    "features.columns = ['_'.join(col).strip() for col in features.columns.values]\n",
    "\n",
    "# Reset index to make 'id' a column again\n",
    "features.reset_index(inplace=True)"
   ]
  },
  {
   "cell_type": "code",
   "execution_count": 77,
   "metadata": {},
   "outputs": [],
   "source": [
    "# group by user and take the last 'word_count' value\n",
    "last_word_count = train.groupby('id')['word_count'].last().reset_index()\n",
    "\n",
    "# add to features df\n",
    "features = features.merge(last_word_count, on='id', how='left')"
   ]
  },
  {
   "cell_type": "code",
   "execution_count": 78,
   "metadata": {},
   "outputs": [],
   "source": [
    "# add col keys_per_word by dividing id_count by word_count\n",
    "features['keys_per_word'] = features['id_count'] / features['word_count']"
   ]
  },
  {
   "cell_type": "code",
   "execution_count": 82,
   "metadata": {},
   "outputs": [],
   "source": [
    "# Calculate the count of each activity type per user\n",
    "activity_counts = train.pivot_table(index='id', columns='activity', aggfunc='size', fill_value=0).reset_index()\n",
    "\n",
    "# Now, calculate the percentages by dividing each activity count by the total count of activities (id_count)\n",
    "activity_percentages = activity_counts.iloc[:, 1:].div(features['id_count'], axis=0)\n",
    "\n",
    "# Rename the columns to reflect that these are percentages\n",
    "activity_percentages.columns = [str(col) + '_percent' for col in activity_percentages.columns]\n",
    "\n",
    "# add the activity percentages to the features dataframe\n",
    "features = pd.concat([features, activity_percentages], axis=1)"
   ]
  },
  {
   "cell_type": "code",
   "execution_count": 90,
   "metadata": {},
   "outputs": [],
   "source": [
    "# add essay scores\n",
    "features = features.merge(scores, on='id', how='left')"
   ]
  },
  {
   "cell_type": "code",
   "execution_count": 91,
   "metadata": {},
   "outputs": [
    {
     "data": {
      "text/html": [
       "<div>\n",
       "<style scoped>\n",
       "    .dataframe tbody tr th:only-of-type {\n",
       "        vertical-align: middle;\n",
       "    }\n",
       "\n",
       "    .dataframe tbody tr th {\n",
       "        vertical-align: top;\n",
       "    }\n",
       "\n",
       "    .dataframe thead th {\n",
       "        text-align: right;\n",
       "    }\n",
       "</style>\n",
       "<table border=\"1\" class=\"dataframe\">\n",
       "  <thead>\n",
       "    <tr style=\"text-align: right;\">\n",
       "      <th></th>\n",
       "      <th>id</th>\n",
       "      <th>down_time_sum</th>\n",
       "      <th>down_time_mean</th>\n",
       "      <th>down_time_std</th>\n",
       "      <th>down_time_min</th>\n",
       "      <th>down_time_max</th>\n",
       "      <th>up_time_sum</th>\n",
       "      <th>up_time_mean</th>\n",
       "      <th>up_time_std</th>\n",
       "      <th>up_time_min</th>\n",
       "      <th>up_time_max</th>\n",
       "      <th>action_time_sum</th>\n",
       "      <th>action_time_mean</th>\n",
       "      <th>action_time_std</th>\n",
       "      <th>action_time_min</th>\n",
       "      <th>action_time_max</th>\n",
       "      <th>id_count</th>\n",
       "      <th>word_count</th>\n",
       "      <th>keys_per_word</th>\n",
       "      <th>Input_percent</th>\n",
       "      <th>Move_percent</th>\n",
       "      <th>Nonproduction_percent</th>\n",
       "      <th>Paste_percent</th>\n",
       "      <th>Remove/Cut_percent</th>\n",
       "      <th>Replace_percent</th>\n",
       "      <th>score</th>\n",
       "    </tr>\n",
       "  </thead>\n",
       "  <tbody>\n",
       "    <tr>\n",
       "      <th>0</th>\n",
       "      <td>001519c8</td>\n",
       "      <td>2168798234</td>\n",
       "      <td>8.481808e+05</td>\n",
       "      <td>395112.665961</td>\n",
       "      <td>4526</td>\n",
       "      <td>1801877</td>\n",
       "      <td>2169095477</td>\n",
       "      <td>8.482970e+05</td>\n",
       "      <td>395105.685655</td>\n",
       "      <td>4557</td>\n",
       "      <td>1801969</td>\n",
       "      <td>297243</td>\n",
       "      <td>116.246774</td>\n",
       "      <td>91.797374</td>\n",
       "      <td>0</td>\n",
       "      <td>2259</td>\n",
       "      <td>2557</td>\n",
       "      <td>255</td>\n",
       "      <td>10.027451</td>\n",
       "      <td>0.786077</td>\n",
       "      <td>0.001173</td>\n",
       "      <td>0.046930</td>\n",
       "      <td>0.000000</td>\n",
       "      <td>0.163082</td>\n",
       "      <td>0.002738</td>\n",
       "      <td>3.5</td>\n",
       "    </tr>\n",
       "    <tr>\n",
       "      <th>1</th>\n",
       "      <td>0022f953</td>\n",
       "      <td>1273271023</td>\n",
       "      <td>5.188553e+05</td>\n",
       "      <td>384959.404177</td>\n",
       "      <td>30623</td>\n",
       "      <td>1788842</td>\n",
       "      <td>1273546414</td>\n",
       "      <td>5.189676e+05</td>\n",
       "      <td>384952.728796</td>\n",
       "      <td>30853</td>\n",
       "      <td>1788969</td>\n",
       "      <td>275391</td>\n",
       "      <td>112.221271</td>\n",
       "      <td>55.431189</td>\n",
       "      <td>0</td>\n",
       "      <td>1758</td>\n",
       "      <td>2454</td>\n",
       "      <td>320</td>\n",
       "      <td>7.668750</td>\n",
       "      <td>0.789731</td>\n",
       "      <td>0.000000</td>\n",
       "      <td>0.103504</td>\n",
       "      <td>0.000407</td>\n",
       "      <td>0.105949</td>\n",
       "      <td>0.000407</td>\n",
       "      <td>3.5</td>\n",
       "    </tr>\n",
       "    <tr>\n",
       "      <th>2</th>\n",
       "      <td>0042269b</td>\n",
       "      <td>3426641982</td>\n",
       "      <td>8.284918e+05</td>\n",
       "      <td>489500.796565</td>\n",
       "      <td>4441</td>\n",
       "      <td>1771219</td>\n",
       "      <td>3427063183</td>\n",
       "      <td>8.285936e+05</td>\n",
       "      <td>489500.438784</td>\n",
       "      <td>4540</td>\n",
       "      <td>1771669</td>\n",
       "      <td>421201</td>\n",
       "      <td>101.837766</td>\n",
       "      <td>82.383766</td>\n",
       "      <td>0</td>\n",
       "      <td>3005</td>\n",
       "      <td>4136</td>\n",
       "      <td>404</td>\n",
       "      <td>10.237624</td>\n",
       "      <td>0.849855</td>\n",
       "      <td>0.000000</td>\n",
       "      <td>0.042311</td>\n",
       "      <td>0.000000</td>\n",
       "      <td>0.106141</td>\n",
       "      <td>0.001692</td>\n",
       "      <td>6.0</td>\n",
       "    </tr>\n",
       "    <tr>\n",
       "      <th>3</th>\n",
       "      <td>0059420b</td>\n",
       "      <td>1222211589</td>\n",
       "      <td>7.854830e+05</td>\n",
       "      <td>385205.014399</td>\n",
       "      <td>41395</td>\n",
       "      <td>1404394</td>\n",
       "      <td>1222401185</td>\n",
       "      <td>7.856049e+05</td>\n",
       "      <td>385206.081250</td>\n",
       "      <td>41513</td>\n",
       "      <td>1404469</td>\n",
       "      <td>189596</td>\n",
       "      <td>121.848329</td>\n",
       "      <td>113.768226</td>\n",
       "      <td>0</td>\n",
       "      <td>806</td>\n",
       "      <td>1556</td>\n",
       "      <td>206</td>\n",
       "      <td>7.553398</td>\n",
       "      <td>0.838046</td>\n",
       "      <td>0.000000</td>\n",
       "      <td>0.063625</td>\n",
       "      <td>0.000643</td>\n",
       "      <td>0.097044</td>\n",
       "      <td>0.000643</td>\n",
       "      <td>2.0</td>\n",
       "    </tr>\n",
       "    <tr>\n",
       "      <th>4</th>\n",
       "      <td>0075873a</td>\n",
       "      <td>1805499474</td>\n",
       "      <td>7.133542e+05</td>\n",
       "      <td>405576.409034</td>\n",
       "      <td>78470</td>\n",
       "      <td>1662390</td>\n",
       "      <td>1805813176</td>\n",
       "      <td>7.134781e+05</td>\n",
       "      <td>405575.631746</td>\n",
       "      <td>78693</td>\n",
       "      <td>1662472</td>\n",
       "      <td>313702</td>\n",
       "      <td>123.943896</td>\n",
       "      <td>62.082013</td>\n",
       "      <td>0</td>\n",
       "      <td>701</td>\n",
       "      <td>2531</td>\n",
       "      <td>252</td>\n",
       "      <td>10.043651</td>\n",
       "      <td>0.767286</td>\n",
       "      <td>0.000000</td>\n",
       "      <td>0.028447</td>\n",
       "      <td>0.000000</td>\n",
       "      <td>0.204267</td>\n",
       "      <td>0.000000</td>\n",
       "      <td>4.0</td>\n",
       "    </tr>\n",
       "    <tr>\n",
       "      <th>...</th>\n",
       "      <td>...</td>\n",
       "      <td>...</td>\n",
       "      <td>...</td>\n",
       "      <td>...</td>\n",
       "      <td>...</td>\n",
       "      <td>...</td>\n",
       "      <td>...</td>\n",
       "      <td>...</td>\n",
       "      <td>...</td>\n",
       "      <td>...</td>\n",
       "      <td>...</td>\n",
       "      <td>...</td>\n",
       "      <td>...</td>\n",
       "      <td>...</td>\n",
       "      <td>...</td>\n",
       "      <td>...</td>\n",
       "      <td>...</td>\n",
       "      <td>...</td>\n",
       "      <td>...</td>\n",
       "      <td>...</td>\n",
       "      <td>...</td>\n",
       "      <td>...</td>\n",
       "      <td>...</td>\n",
       "      <td>...</td>\n",
       "      <td>...</td>\n",
       "      <td>...</td>\n",
       "    </tr>\n",
       "    <tr>\n",
       "      <th>2466</th>\n",
       "      <td>ffb8c745</td>\n",
       "      <td>3488386746</td>\n",
       "      <td>7.361019e+05</td>\n",
       "      <td>503882.020411</td>\n",
       "      <td>22467</td>\n",
       "      <td>1791581</td>\n",
       "      <td>3488886416</td>\n",
       "      <td>7.362073e+05</td>\n",
       "      <td>503869.416702</td>\n",
       "      <td>22551</td>\n",
       "      <td>1791649</td>\n",
       "      <td>499670</td>\n",
       "      <td>105.437856</td>\n",
       "      <td>63.622575</td>\n",
       "      <td>0</td>\n",
       "      <td>3323</td>\n",
       "      <td>4739</td>\n",
       "      <td>273</td>\n",
       "      <td>17.358974</td>\n",
       "      <td>0.757122</td>\n",
       "      <td>0.000000</td>\n",
       "      <td>0.039882</td>\n",
       "      <td>0.000000</td>\n",
       "      <td>0.202574</td>\n",
       "      <td>0.000422</td>\n",
       "      <td>3.5</td>\n",
       "    </tr>\n",
       "    <tr>\n",
       "      <th>2467</th>\n",
       "      <td>ffbef7e5</td>\n",
       "      <td>2192480040</td>\n",
       "      <td>8.419662e+05</td>\n",
       "      <td>512744.745940</td>\n",
       "      <td>21732</td>\n",
       "      <td>1799124</td>\n",
       "      <td>2192694261</td>\n",
       "      <td>8.420485e+05</td>\n",
       "      <td>512743.480803</td>\n",
       "      <td>22027</td>\n",
       "      <td>1799174</td>\n",
       "      <td>214221</td>\n",
       "      <td>82.266129</td>\n",
       "      <td>36.178818</td>\n",
       "      <td>0</td>\n",
       "      <td>1144</td>\n",
       "      <td>2604</td>\n",
       "      <td>438</td>\n",
       "      <td>5.945205</td>\n",
       "      <td>0.919739</td>\n",
       "      <td>0.000000</td>\n",
       "      <td>0.056836</td>\n",
       "      <td>0.000000</td>\n",
       "      <td>0.023041</td>\n",
       "      <td>0.000384</td>\n",
       "      <td>4.0</td>\n",
       "    </tr>\n",
       "    <tr>\n",
       "      <th>2468</th>\n",
       "      <td>ffccd6fd</td>\n",
       "      <td>3764472937</td>\n",
       "      <td>1.229015e+06</td>\n",
       "      <td>514320.848199</td>\n",
       "      <td>23482</td>\n",
       "      <td>1959273</td>\n",
       "      <td>3764704517</td>\n",
       "      <td>1.229091e+06</td>\n",
       "      <td>514304.092076</td>\n",
       "      <td>23570</td>\n",
       "      <td>1959363</td>\n",
       "      <td>231580</td>\n",
       "      <td>75.605615</td>\n",
       "      <td>63.494975</td>\n",
       "      <td>0</td>\n",
       "      <td>564</td>\n",
       "      <td>3063</td>\n",
       "      <td>201</td>\n",
       "      <td>15.238806</td>\n",
       "      <td>0.930134</td>\n",
       "      <td>0.000000</td>\n",
       "      <td>0.041136</td>\n",
       "      <td>0.000000</td>\n",
       "      <td>0.028730</td>\n",
       "      <td>0.000000</td>\n",
       "      <td>1.5</td>\n",
       "    </tr>\n",
       "    <tr>\n",
       "      <th>2469</th>\n",
       "      <td>ffec5b38</td>\n",
       "      <td>1869073112</td>\n",
       "      <td>5.765185e+05</td>\n",
       "      <td>334477.976640</td>\n",
       "      <td>19885</td>\n",
       "      <td>1508335</td>\n",
       "      <td>1869362551</td>\n",
       "      <td>5.766078e+05</td>\n",
       "      <td>334470.259981</td>\n",
       "      <td>20088</td>\n",
       "      <td>1508504</td>\n",
       "      <td>289439</td>\n",
       "      <td>89.277915</td>\n",
       "      <td>54.515788</td>\n",
       "      <td>0</td>\n",
       "      <td>1388</td>\n",
       "      <td>3242</td>\n",
       "      <td>413</td>\n",
       "      <td>7.849879</td>\n",
       "      <td>0.892967</td>\n",
       "      <td>0.000000</td>\n",
       "      <td>0.021900</td>\n",
       "      <td>0.000000</td>\n",
       "      <td>0.085133</td>\n",
       "      <td>0.000000</td>\n",
       "      <td>5.0</td>\n",
       "    </tr>\n",
       "    <tr>\n",
       "      <th>2470</th>\n",
       "      <td>fff05981</td>\n",
       "      <td>3897099261</td>\n",
       "      <td>1.076844e+06</td>\n",
       "      <td>581107.759299</td>\n",
       "      <td>39727</td>\n",
       "      <td>2070065</td>\n",
       "      <td>3897400496</td>\n",
       "      <td>1.076927e+06</td>\n",
       "      <td>581107.579304</td>\n",
       "      <td>39880</td>\n",
       "      <td>2070133</td>\n",
       "      <td>301235</td>\n",
       "      <td>83.237082</td>\n",
       "      <td>63.738723</td>\n",
       "      <td>0</td>\n",
       "      <td>1915</td>\n",
       "      <td>3619</td>\n",
       "      <td>240</td>\n",
       "      <td>15.079167</td>\n",
       "      <td>0.677535</td>\n",
       "      <td>0.000276</td>\n",
       "      <td>0.232937</td>\n",
       "      <td>0.000276</td>\n",
       "      <td>0.085659</td>\n",
       "      <td>0.003316</td>\n",
       "      <td>4.0</td>\n",
       "    </tr>\n",
       "  </tbody>\n",
       "</table>\n",
       "<p>2471 rows × 26 columns</p>\n",
       "</div>"
      ],
      "text/plain": [
       "            id  down_time_sum  down_time_mean  down_time_std  down_time_min  \\\n",
       "0     001519c8     2168798234    8.481808e+05  395112.665961           4526   \n",
       "1     0022f953     1273271023    5.188553e+05  384959.404177          30623   \n",
       "2     0042269b     3426641982    8.284918e+05  489500.796565           4441   \n",
       "3     0059420b     1222211589    7.854830e+05  385205.014399          41395   \n",
       "4     0075873a     1805499474    7.133542e+05  405576.409034          78470   \n",
       "...        ...            ...             ...            ...            ...   \n",
       "2466  ffb8c745     3488386746    7.361019e+05  503882.020411          22467   \n",
       "2467  ffbef7e5     2192480040    8.419662e+05  512744.745940          21732   \n",
       "2468  ffccd6fd     3764472937    1.229015e+06  514320.848199          23482   \n",
       "2469  ffec5b38     1869073112    5.765185e+05  334477.976640          19885   \n",
       "2470  fff05981     3897099261    1.076844e+06  581107.759299          39727   \n",
       "\n",
       "      down_time_max  up_time_sum  up_time_mean    up_time_std  up_time_min  \\\n",
       "0           1801877   2169095477  8.482970e+05  395105.685655         4557   \n",
       "1           1788842   1273546414  5.189676e+05  384952.728796        30853   \n",
       "2           1771219   3427063183  8.285936e+05  489500.438784         4540   \n",
       "3           1404394   1222401185  7.856049e+05  385206.081250        41513   \n",
       "4           1662390   1805813176  7.134781e+05  405575.631746        78693   \n",
       "...             ...          ...           ...            ...          ...   \n",
       "2466        1791581   3488886416  7.362073e+05  503869.416702        22551   \n",
       "2467        1799124   2192694261  8.420485e+05  512743.480803        22027   \n",
       "2468        1959273   3764704517  1.229091e+06  514304.092076        23570   \n",
       "2469        1508335   1869362551  5.766078e+05  334470.259981        20088   \n",
       "2470        2070065   3897400496  1.076927e+06  581107.579304        39880   \n",
       "\n",
       "      up_time_max  action_time_sum  action_time_mean  action_time_std  \\\n",
       "0         1801969           297243        116.246774        91.797374   \n",
       "1         1788969           275391        112.221271        55.431189   \n",
       "2         1771669           421201        101.837766        82.383766   \n",
       "3         1404469           189596        121.848329       113.768226   \n",
       "4         1662472           313702        123.943896        62.082013   \n",
       "...           ...              ...               ...              ...   \n",
       "2466      1791649           499670        105.437856        63.622575   \n",
       "2467      1799174           214221         82.266129        36.178818   \n",
       "2468      1959363           231580         75.605615        63.494975   \n",
       "2469      1508504           289439         89.277915        54.515788   \n",
       "2470      2070133           301235         83.237082        63.738723   \n",
       "\n",
       "      action_time_min  action_time_max  id_count  word_count  keys_per_word  \\\n",
       "0                   0             2259      2557         255      10.027451   \n",
       "1                   0             1758      2454         320       7.668750   \n",
       "2                   0             3005      4136         404      10.237624   \n",
       "3                   0              806      1556         206       7.553398   \n",
       "4                   0              701      2531         252      10.043651   \n",
       "...               ...              ...       ...         ...            ...   \n",
       "2466                0             3323      4739         273      17.358974   \n",
       "2467                0             1144      2604         438       5.945205   \n",
       "2468                0              564      3063         201      15.238806   \n",
       "2469                0             1388      3242         413       7.849879   \n",
       "2470                0             1915      3619         240      15.079167   \n",
       "\n",
       "      Input_percent  Move_percent  Nonproduction_percent  Paste_percent  \\\n",
       "0          0.786077      0.001173               0.046930       0.000000   \n",
       "1          0.789731      0.000000               0.103504       0.000407   \n",
       "2          0.849855      0.000000               0.042311       0.000000   \n",
       "3          0.838046      0.000000               0.063625       0.000643   \n",
       "4          0.767286      0.000000               0.028447       0.000000   \n",
       "...             ...           ...                    ...            ...   \n",
       "2466       0.757122      0.000000               0.039882       0.000000   \n",
       "2467       0.919739      0.000000               0.056836       0.000000   \n",
       "2468       0.930134      0.000000               0.041136       0.000000   \n",
       "2469       0.892967      0.000000               0.021900       0.000000   \n",
       "2470       0.677535      0.000276               0.232937       0.000276   \n",
       "\n",
       "      Remove/Cut_percent  Replace_percent  score  \n",
       "0               0.163082         0.002738    3.5  \n",
       "1               0.105949         0.000407    3.5  \n",
       "2               0.106141         0.001692    6.0  \n",
       "3               0.097044         0.000643    2.0  \n",
       "4               0.204267         0.000000    4.0  \n",
       "...                  ...              ...    ...  \n",
       "2466            0.202574         0.000422    3.5  \n",
       "2467            0.023041         0.000384    4.0  \n",
       "2468            0.028730         0.000000    1.5  \n",
       "2469            0.085133         0.000000    5.0  \n",
       "2470            0.085659         0.003316    4.0  \n",
       "\n",
       "[2471 rows x 26 columns]"
      ]
     },
     "execution_count": 91,
     "metadata": {},
     "output_type": "execute_result"
    }
   ],
   "source": [
    "features"
   ]
  },
  {
   "cell_type": "markdown",
   "metadata": {},
   "source": [
    "- Have the final features df with 24 total features to train models on."
   ]
  },
  {
   "cell_type": "markdown",
   "metadata": {},
   "source": [
    "# Split and Scale data"
   ]
  },
  {
   "cell_type": "code",
   "execution_count": 126,
   "metadata": {},
   "outputs": [],
   "source": [
    "from sklearn.model_selection import train_test_split\n",
    "from sklearn.preprocessing import StandardScaler\n",
    "from sklearn.metrics import mean_squared_error"
   ]
  },
  {
   "cell_type": "code",
   "execution_count": 103,
   "metadata": {},
   "outputs": [],
   "source": [
    "# split into train and test sets\n",
    "X_train, X_test, y_train, y_test = train_test_split(features.drop(['id', 'score'], axis=1),\n",
    "                                                    features['score'],\n",
    "                                                    test_size=0.1,\n",
    "                                                    random_state=0)"
   ]
  },
  {
   "cell_type": "code",
   "execution_count": 104,
   "metadata": {},
   "outputs": [],
   "source": [
    "scaler = StandardScaler()\n",
    "X_train = scaler.fit_transform(X_train)\n",
    "X_test = scaler.transform(X_test)"
   ]
  },
  {
   "cell_type": "markdown",
   "metadata": {},
   "source": [
    "# Linear Regression"
   ]
  },
  {
   "cell_type": "code",
   "execution_count": 105,
   "metadata": {},
   "outputs": [
    {
     "data": {
      "text/plain": [
       "(0.46747674445175735, 0.4805672992539548)"
      ]
     },
     "execution_count": 105,
     "metadata": {},
     "output_type": "execute_result"
    }
   ],
   "source": [
    "from sklearn.linear_model import LinearRegression\n",
    "\n",
    "linreg = LinearRegression()\n",
    "linreg.fit(X_train, y_train)\n",
    "\n",
    "linreg.score(X_train, y_train), linreg.score(X_test, y_test)"
   ]
  },
  {
   "cell_type": "code",
   "execution_count": 106,
   "metadata": {},
   "outputs": [
    {
     "data": {
      "text/plain": [
       "(0.751577621232963, 0.7037707860466264)"
      ]
     },
     "execution_count": 106,
     "metadata": {},
     "output_type": "execute_result"
    }
   ],
   "source": [
    "mean_squared_error(y_train, linreg.predict(X_train), squared=False), mean_squared_error(y_test, linreg.predict(X_test), squared=False)"
   ]
  },
  {
   "cell_type": "markdown",
   "metadata": {},
   "source": [
    "# Decsion Tree"
   ]
  },
  {
   "cell_type": "code",
   "execution_count": 107,
   "metadata": {},
   "outputs": [
    {
     "data": {
      "text/plain": [
       "(1.0, 0.1531867185601684)"
      ]
     },
     "execution_count": 107,
     "metadata": {},
     "output_type": "execute_result"
    }
   ],
   "source": [
    "from sklearn.tree import DecisionTreeRegressor\n",
    "\n",
    "dt = DecisionTreeRegressor()\n",
    "dt.fit(X_train, y_train)\n",
    "\n",
    "dt.score(X_train, y_train), dt.score(X_test, y_test)"
   ]
  },
  {
   "cell_type": "code",
   "execution_count": 108,
   "metadata": {},
   "outputs": [
    {
     "data": {
      "text/plain": [
       "(0.0, 0.8985876014164422)"
      ]
     },
     "execution_count": 108,
     "metadata": {},
     "output_type": "execute_result"
    }
   ],
   "source": [
    "mean_squared_error(y_train, dt.predict(X_train), squared=False), mean_squared_error(y_test, dt.predict(X_test), squared=False)"
   ]
  },
  {
   "cell_type": "code",
   "execution_count": 117,
   "metadata": {},
   "outputs": [
    {
     "data": {
      "image/png": "[encoded data removed]",
      "text/plain": [
       "<Figure size 1000x600 with 1 Axes>"
      ]
     },
     "metadata": {},
     "output_type": "display_data"
    }
   ],
   "source": [
    "# visualize feature importances\n",
    "importances = pd.DataFrame({'feature': features.drop(['id', 'score'], axis=1).columns,\n",
    "                            'importance': dt.feature_importances_}).sort_values('importance', ascending=False)\n",
    "\n",
    "# plot importances\n",
    "plt.figure(figsize=(10, 6))\n",
    "plt.title('Feature Importances')\n",
    "sns.barplot(x='importance', y='feature', data=importances);"
   ]
  },
  {
   "cell_type": "code",
   "execution_count": 120,
   "metadata": {},
   "outputs": [
    {
     "data": {
      "text/plain": [
       "24"
      ]
     },
     "execution_count": 120,
     "metadata": {},
     "output_type": "execute_result"
    }
   ],
   "source": [
    "# look at max depth of tree\n",
    "dt.get_depth()"
   ]
  },
  {
   "cell_type": "code",
   "execution_count": 122,
   "metadata": {},
   "outputs": [
    {
     "data": {
      "image/png": "[encoded data removed]",
      "text/plain": [
       "<Figure size 1000x600 with 1 Axes>"
      ]
     },
     "metadata": {},
     "output_type": "display_data"
    }
   ],
   "source": [
    "# plot train and test rmse for depths 1-20\n",
    "train_rmse = []\n",
    "test_rmse = []\n",
    "\n",
    "for i in range(1, 21):\n",
    "    dt = DecisionTreeRegressor(max_depth=i)\n",
    "    dt.fit(X_train, y_train)\n",
    "    train_rmse.append(mean_squared_error(y_train, dt.predict(X_train), squared=False))\n",
    "    test_rmse.append(mean_squared_error(y_test, dt.predict(X_test), squared=False))\n",
    "\n",
    "plt.figure(figsize=(10, 6))\n",
    "plt.title('RMSE vs Max Depth')\n",
    "plt.plot(range(1, 21), train_rmse, label='train')\n",
    "plt.plot(range(1, 21), test_rmse, label='test')\n",
    "plt.xlabel('Max Depth')\n",
    "plt.ylabel('RMSE')\n",
    "plt.legend();\n"
   ]
  },
  {
   "cell_type": "code",
   "execution_count": 123,
   "metadata": {},
   "outputs": [
    {
     "data": {
      "text/plain": [
       "(0.5916179076893884, 0.5445334539768479)"
      ]
     },
     "execution_count": 123,
     "metadata": {},
     "output_type": "execute_result"
    }
   ],
   "source": [
    "dt = DecisionTreeRegressor(max_depth=5)\n",
    "dt.fit(X_train, y_train)\n",
    "\n",
    "dt.score(X_train, y_train), dt.score(X_test, y_test)"
   ]
  },
  {
   "cell_type": "code",
   "execution_count": 124,
   "metadata": {},
   "outputs": [
    {
     "data": {
      "text/plain": [
       "(0.6581697167178641, 0.6590142921589233)"
      ]
     },
     "execution_count": 124,
     "metadata": {},
     "output_type": "execute_result"
    }
   ],
   "source": [
    "mean_squared_error(y_train, dt.predict(X_train), squared=False), mean_squared_error(y_test, dt.predict(X_test), squared=False)"
   ]
  },
  {
   "cell_type": "markdown",
   "metadata": {},
   "source": [
    "- Dt with dpeth=5 gives test RMSE of 0.66. This beats the LinReg."
   ]
  },
  {
   "cell_type": "markdown",
   "metadata": {},
   "source": [
    "# Random Forest"
   ]
  },
  {
   "cell_type": "code",
   "execution_count": 125,
   "metadata": {},
   "outputs": [
    {
     "data": {
      "image/png": "[encoded data removed]",
      "text/plain": [
       "<Figure size 1000x600 with 1 Axes>"
      ]
     },
     "metadata": {},
     "output_type": "display_data"
    }
   ],
   "source": [
    "from sklearn.ensemble import RandomForestRegressor\n",
    "\n",
    "# repeat for random forest\n",
    "train_rmse = []\n",
    "test_rmse = []\n",
    "\n",
    "for i in range(1, 21):\n",
    "    rf = RandomForestRegressor(max_depth=i)\n",
    "    rf.fit(X_train, y_train)\n",
    "    train_rmse.append(mean_squared_error(y_train, rf.predict(X_train), squared=False))\n",
    "    test_rmse.append(mean_squared_error(y_test, rf.predict(X_test), squared=False))\n",
    "\n",
    "plt.figure(figsize=(10, 6))\n",
    "plt.title('RMSE vs Max Depth')\n",
    "plt.plot(range(1, 21), train_rmse, label='train')\n",
    "plt.plot(range(1, 21), test_rmse, label='test')\n",
    "plt.xlabel('Max Depth')\n",
    "plt.ylabel('RMSE')\n",
    "plt.legend();"
   ]
  },
  {
   "cell_type": "markdown",
   "metadata": {},
   "source": [
    "- Comparable to DT but less efficient."
   ]
  },
  {
   "cell_type": "markdown",
   "metadata": {},
   "source": [
    "# KNN"
   ]
  },
  {
   "cell_type": "code",
   "execution_count": 129,
   "metadata": {},
   "outputs": [
    {
     "data": {
      "image/png": "[encoded data removed]",
      "text/plain": [
       "<Figure size 1000x600 with 1 Axes>"
      ]
     },
     "metadata": {},
     "output_type": "display_data"
    }
   ],
   "source": [
    "from sklearn.neighbors import KNeighborsRegressor\n",
    "\n",
    "# k nearest neighbors\n",
    "train_rmse = []\n",
    "test_rmse = []\n",
    "\n",
    "for i in range(1, 101, 1):\n",
    "    knn = KNeighborsRegressor(n_neighbors=i)\n",
    "    knn.fit(X_train, y_train)\n",
    "    train_rmse.append(mean_squared_error(y_train, knn.predict(X_train), squared=False))\n",
    "    test_rmse.append(mean_squared_error(y_test, knn.predict(X_test), squared=False))\n",
    "\n",
    "plt.figure(figsize=(10, 6))\n",
    "plt.title('RMSE vs K')\n",
    "plt.plot(range(1, 101, 1), train_rmse, label='train')\n",
    "plt.plot(range(1, 101, 1), test_rmse, label='test')\n",
    "plt.xlabel('K')\n",
    "plt.ylabel('RMSE')\n",
    "plt.legend();"
   ]
  },
  {
   "cell_type": "code",
   "execution_count": 134,
   "metadata": {},
   "outputs": [
    {
     "data": {
      "text/plain": [
       "(26, 0.6911220804435002)"
      ]
     },
     "execution_count": 134,
     "metadata": {},
     "output_type": "execute_result"
    }
   ],
   "source": [
    "np.argmin(test_rmse), np.min(test_rmse)"
   ]
  },
  {
   "cell_type": "markdown",
   "metadata": {},
   "source": [
    "- KNN slightly worse than DT"
   ]
  },
  {
   "cell_type": "markdown",
   "metadata": {},
   "source": [
    "# XGBoost"
   ]
  },
  {
   "cell_type": "code",
   "execution_count": 158,
   "metadata": {},
   "outputs": [
    {
     "data": {
      "text/plain": [
       "(0.9113442670958216, 0.5455224702736102)"
      ]
     },
     "execution_count": 158,
     "metadata": {},
     "output_type": "execute_result"
    }
   ],
   "source": [
    "from xgboost import XGBRegressor\n",
    "\n",
    "# xgboost\n",
    "xgb = XGBRegressor(n_estimators=10000, learning_rate=0.001, n_jobs=-1)\n",
    "xgb.fit(X_train, y_train)\n",
    "\n",
    "xgb.score(X_train, y_train), xgb.score(X_test, y_test)"
   ]
  },
  {
   "cell_type": "code",
   "execution_count": 159,
   "metadata": {},
   "outputs": [
    {
     "data": {
      "text/plain": [
       "(0.30666058738952723, 0.6582983997542508)"
      ]
     },
     "execution_count": 159,
     "metadata": {},
     "output_type": "execute_result"
    }
   ],
   "source": [
    "mean_squared_error(y_train, xgb.predict(X_train), squared=False), mean_squared_error(y_test, xgb.predict(X_test), squared=False)"
   ]
  },
  {
   "cell_type": "markdown",
   "metadata": {},
   "source": [
    "# PyTorch"
   ]
  },
  {
   "cell_type": "code",
   "execution_count": 135,
   "metadata": {},
   "outputs": [],
   "source": [
    "# import pytorch packages\n",
    "import torch\n",
    "import torch.nn as nn\n",
    "import torch.nn.functional as F\n",
    "from torch.utils.data import DataLoader, TensorDataset\n",
    "from torch.optim import AdamW"
   ]
  },
  {
   "cell_type": "code",
   "execution_count": 141,
   "metadata": {},
   "outputs": [
    {
     "data": {
      "text/plain": [
       "device(type='cuda')"
      ]
     },
     "execution_count": 141,
     "metadata": {},
     "output_type": "execute_result"
    }
   ],
   "source": [
    "device = torch.device('cuda' if torch.cuda.is_available() else 'cpu')\n",
    "device"
   ]
  },
  {
   "cell_type": "code",
   "execution_count": 143,
   "metadata": {},
   "outputs": [],
   "source": [
    "# create a tensor from the numpy array\n",
    "X_train_tensor = torch.from_numpy(X_train).float().to(device)\n",
    "y_train_tensor = torch.from_numpy(y_train.values).float().to(device)\n",
    "\n",
    "X_test_tensor = torch.from_numpy(X_test).float().to(device)\n",
    "y_test_tensor = torch.from_numpy(y_test.values).float().to(device)\n",
    "\n",
    "# create a dataset and dataloader\n",
    "train_data = TensorDataset(X_train_tensor, y_train_tensor)\n",
    "train_loader = DataLoader(train_data, batch_size=32)\n",
    "\n",
    "test_data = TensorDataset(X_test_tensor, y_test_tensor)\n",
    "test_loader = DataLoader(test_data, batch_size=32)"
   ]
  },
  {
   "cell_type": "code",
   "execution_count": 146,
   "metadata": {},
   "outputs": [
    {
     "data": {
      "text/plain": [
       "(torch.Size([2223, 24]), torch.Size([2223]))"
      ]
     },
     "execution_count": 146,
     "metadata": {},
     "output_type": "execute_result"
    }
   ],
   "source": [
    "X_train_tensor.shape, y_train_tensor.shape"
   ]
  },
  {
   "cell_type": "code",
   "execution_count": 147,
   "metadata": {},
   "outputs": [],
   "source": [
    "# create a neural network\n",
    "class Net(nn.Module):\n",
    "    def __init__(self):\n",
    "        super().__init__()\n",
    "        self.fc1 = nn.Linear(24, 64)\n",
    "        self.fc2 = nn.Linear(64, 64)\n",
    "        self.fc3 = nn.Linear(64, 1)\n",
    "\n",
    "    def forward(self, x):\n",
    "        x = F.relu(self.fc1(x))  # activation function\n",
    "        x = F.relu(self.fc2(x))  # activation function\n",
    "        x = self.fc3(x)\n",
    "        return x"
   ]
  },
  {
   "cell_type": "code",
   "execution_count": 152,
   "metadata": {},
   "outputs": [],
   "source": [
    "# train the model\n",
    "# train the model\n",
    "net = Net().to(device)\n",
    "criterion = nn.MSELoss()\n",
    "optimizer = AdamW(net.parameters(), lr=0.001)\n"
   ]
  },
  {
   "cell_type": "code",
   "execution_count": 153,
   "metadata": {},
   "outputs": [
    {
     "name": "stdout",
     "output_type": "stream",
     "text": [
      "Epoch 1, train RMSE: 2.991109905402123, test RMSE: 1.7517708903681641\n",
      "Epoch 2, train RMSE: 1.6319379379538268, test RMSE: 1.3482408223206728\n",
      "Epoch 3, train RMSE: 1.277188514885877, test RMSE: 1.1479590613082358\n",
      "Epoch 4, train RMSE: 1.0538766592004842, test RMSE: 0.963495041604094\n",
      "Epoch 5, train RMSE: 0.8987776509246891, test RMSE: 0.8225832821654182\n",
      "Epoch 6, train RMSE: 0.8061865017473582, test RMSE: 0.7361723282213586\n",
      "Epoch 7, train RMSE: 0.7520253624127547, test RMSE: 0.6948429702941418\n",
      "Epoch 8, train RMSE: 0.7264487553994908, test RMSE: 0.6795349607631669\n",
      "Epoch 9, train RMSE: 0.7142557630901082, test RMSE: 0.6747283809595178\n",
      "Epoch 10, train RMSE: 0.7075020898615277, test RMSE: 0.6699128831532428\n",
      "Epoch 11, train RMSE: 0.7015757947554746, test RMSE: 0.6707571400046617\n",
      "Epoch 12, train RMSE: 0.7015812437434344, test RMSE: 0.66386885343984\n",
      "Epoch 13, train RMSE: 0.6990767627807749, test RMSE: 0.6739048292205643\n",
      "Epoch 14, train RMSE: 0.7068417646733848, test RMSE: 0.6622908689496697\n",
      "Epoch 15, train RMSE: 0.7095149272822466, test RMSE: 0.686285867730829\n",
      "Epoch 16, train RMSE: 0.7083622132819821, test RMSE: 0.6574043129917221\n",
      "Epoch 17, train RMSE: 0.7000997099182951, test RMSE: 0.6787973335220133\n",
      "Epoch 18, train RMSE: 0.6999945578314926, test RMSE: 0.655629631140674\n",
      "Epoch 19, train RMSE: 0.6892970165837398, test RMSE: 0.668674497709536\n",
      "Epoch 20, train RMSE: 0.6848256529146475, test RMSE: 0.6549453084348968\n",
      "Epoch 21, train RMSE: 0.6778051947902451, test RMSE: 0.6621219555045017\n",
      "Epoch 22, train RMSE: 0.6764592718727144, test RMSE: 0.6557987597493123\n",
      "Epoch 23, train RMSE: 0.6725322615129626, test RMSE: 0.6611195482644837\n",
      "Epoch 24, train RMSE: 0.6719446231722942, test RMSE: 0.6559692616789871\n",
      "Epoch 25, train RMSE: 0.6687982353365616, test RMSE: 0.6603037483169747\n",
      "Epoch 26, train RMSE: 0.669077997503499, test RMSE: 0.6553060577505229\n",
      "Epoch 27, train RMSE: 0.6664519778732391, test RMSE: 0.6612237983201524\n",
      "Epoch 28, train RMSE: 0.6682801482435764, test RMSE: 0.6544735513399996\n",
      "Epoch 29, train RMSE: 0.6661114702430407, test RMSE: 0.6619282083584085\n",
      "Epoch 30, train RMSE: 0.6684296021262095, test RMSE: 0.6547627768791984\n",
      "Epoch 31, train RMSE: 0.6662573825881628, test RMSE: 0.6637671515077106\n",
      "Epoch 32, train RMSE: 0.6772532415646373, test RMSE: 0.6539344353110466\n",
      "Epoch 33, train RMSE: 0.6763296433282573, test RMSE: 0.6666432972005846\n",
      "Epoch 34, train RMSE: 0.6764367912776071, test RMSE: 0.6541786770315391\n",
      "Epoch 35, train RMSE: 0.6716729966210973, test RMSE: 0.667478370244621\n",
      "Epoch 36, train RMSE: 0.6683692462883644, test RMSE: 0.6556070874015456\n",
      "Epoch 37, train RMSE: 0.6554452894517787, test RMSE: 0.6565095098873314\n",
      "Epoch 38, train RMSE: 0.6518715857181395, test RMSE: 0.6557272833149966\n",
      "Epoch 39, train RMSE: 0.6486049716521036, test RMSE: 0.6561611404885287\n",
      "Epoch 40, train RMSE: 0.6473984993778643, test RMSE: 0.6564555839545365\n",
      "Epoch 41, train RMSE: 0.645458324737474, test RMSE: 0.6564044770578015\n",
      "Epoch 42, train RMSE: 0.6445779892459522, test RMSE: 0.6566611546036573\n",
      "Epoch 43, train RMSE: 0.643166644990749, test RMSE: 0.6569914574428816\n",
      "Epoch 44, train RMSE: 0.6421235746509312, test RMSE: 0.6567887354192471\n",
      "Epoch 45, train RMSE: 0.6407836802274369, test RMSE: 0.657177967241834\n",
      "Epoch 46, train RMSE: 0.6397377574129699, test RMSE: 0.657309242137994\n",
      "Epoch 47, train RMSE: 0.638536785266057, test RMSE: 0.6575952773810401\n",
      "Epoch 48, train RMSE: 0.6377369882288375, test RMSE: 0.658082798223321\n",
      "Epoch 49, train RMSE: 0.6365363253375341, test RMSE: 0.6579527194657311\n",
      "Epoch 50, train RMSE: 0.6355725957683503, test RMSE: 0.6589775397144649\n",
      "Epoch 51, train RMSE: 0.6343188802605688, test RMSE: 0.6587801365229284\n",
      "Epoch 52, train RMSE: 0.6338961083247576, test RMSE: 0.6584978745430915\n",
      "Epoch 53, train RMSE: 0.6324067912654532, test RMSE: 0.6594429055723515\n",
      "Epoch 54, train RMSE: 0.6332779652602873, test RMSE: 0.6606312149183178\n",
      "Epoch 55, train RMSE: 0.6322778323497469, test RMSE: 0.6604821822589905\n",
      "Epoch 56, train RMSE: 0.6443952702672895, test RMSE: 0.6648199669991608\n",
      "Epoch 57, train RMSE: 0.6541850167251435, test RMSE: 0.6644063788492329\n",
      "Epoch 58, train RMSE: 0.6645104274387792, test RMSE: 0.6694470688724804\n",
      "Epoch 59, train RMSE: 0.668073836006135, test RMSE: 0.6727591424816595\n",
      "Epoch 60, train RMSE: 0.6586919865135539, test RMSE: 0.6718933080795871\n",
      "Epoch 61, train RMSE: 0.6360175864945353, test RMSE: 0.6612380801849987\n",
      "Epoch 62, train RMSE: 0.6280125659692257, test RMSE: 0.6669650763479432\n",
      "Epoch 63, train RMSE: 0.6235569676238322, test RMSE: 0.664982565049843\n",
      "Epoch 64, train RMSE: 0.6221867755382869, test RMSE: 0.6660843671074762\n",
      "Epoch 65, train RMSE: 0.6207079121642467, test RMSE: 0.6649459656071529\n",
      "Epoch 66, train RMSE: 0.6198588240059629, test RMSE: 0.6660925102043381\n",
      "Epoch 67, train RMSE: 0.6186841107732112, test RMSE: 0.6661088604144906\n",
      "Epoch 68, train RMSE: 0.6175094647672251, test RMSE: 0.6668792841290165\n",
      "Epoch 69, train RMSE: 0.6163989121723645, test RMSE: 0.6655072260255822\n",
      "Epoch 70, train RMSE: 0.6160610084807547, test RMSE: 0.6675746044871903\n",
      "Epoch 71, train RMSE: 0.6151609490277166, test RMSE: 0.6652583546328908\n",
      "Epoch 72, train RMSE: 0.6165713934256628, test RMSE: 0.6670658830447723\n",
      "Epoch 73, train RMSE: 0.6145511160003969, test RMSE: 0.6639074200579252\n",
      "Epoch 74, train RMSE: 0.6145737171190497, test RMSE: 0.6677145808999332\n",
      "Epoch 75, train RMSE: 0.6121071028008648, test RMSE: 0.6665544288126924\n",
      "Epoch 76, train RMSE: 0.6134154147844847, test RMSE: 0.6683556679779467\n",
      "Epoch 77, train RMSE: 0.6127148754228419, test RMSE: 0.6659985117797219\n",
      "Epoch 78, train RMSE: 0.6185343888959023, test RMSE: 0.6709039346394775\n",
      "Epoch 79, train RMSE: 0.6164200344889307, test RMSE: 0.6666444008556097\n",
      "Epoch 80, train RMSE: 0.6203421192709293, test RMSE: 0.6710787007617308\n",
      "Epoch 81, train RMSE: 0.6119730303455732, test RMSE: 0.6662774060948362\n",
      "Epoch 82, train RMSE: 0.6112516046266726, test RMSE: 0.6698216427259774\n",
      "Epoch 83, train RMSE: 0.6054247536913143, test RMSE: 0.6674400071756879\n",
      "Epoch 84, train RMSE: 0.6066403570482499, test RMSE: 0.6703835695333556\n",
      "Epoch 85, train RMSE: 0.6024769114373532, test RMSE: 0.6678785910187669\n",
      "Epoch 86, train RMSE: 0.6040605281709973, test RMSE: 0.672266363778559\n",
      "Epoch 87, train RMSE: 0.6004223211455904, test RMSE: 0.6702587459591902\n",
      "Epoch 88, train RMSE: 0.6012136615680236, test RMSE: 0.6722237214278833\n",
      "Epoch 89, train RMSE: 0.5979310243760001, test RMSE: 0.6725999419805492\n",
      "Epoch 90, train RMSE: 0.59945755283929, test RMSE: 0.6744090658135888\n",
      "Epoch 91, train RMSE: 0.5967849171293912, test RMSE: 0.6733358409339373\n",
      "Epoch 92, train RMSE: 0.5985230678864026, test RMSE: 0.6756291852322087\n",
      "Epoch 93, train RMSE: 0.5950666220930867, test RMSE: 0.6751672789139217\n",
      "Epoch 94, train RMSE: 0.5979695908319357, test RMSE: 0.6765160342023471\n",
      "Epoch 95, train RMSE: 0.5937420353319416, test RMSE: 0.673616851635251\n",
      "Epoch 96, train RMSE: 0.5961828923669134, test RMSE: 0.6775716316882292\n",
      "Epoch 97, train RMSE: 0.5914268495104025, test RMSE: 0.6767338119588695\n",
      "Epoch 98, train RMSE: 0.5964287457402646, test RMSE: 0.6806636657056925\n",
      "Epoch 99, train RMSE: 0.5926326872797485, test RMSE: 0.6765214278768751\n",
      "Epoch 100, train RMSE: 0.5967377458483453, test RMSE: 0.6801414618011664\n"
     ]
    }
   ],
   "source": [
    "epochs = 100\n",
    "train_losses = []\n",
    "test_losses = []\n",
    "\n",
    "for epoch in range(epochs):\n",
    "    # train\n",
    "    net.train()\n",
    "    train_batch_losses = []\n",
    "    for X_batch, y_batch in train_loader:\n",
    "        optimizer.zero_grad()\n",
    "        y_pred = net(X_batch).squeeze(1)\n",
    "        loss = criterion(y_pred, y_batch)\n",
    "        loss.backward()\n",
    "        optimizer.step()\n",
    "        train_batch_losses.append(loss.item())\n",
    "    train_rmse = np.sqrt(np.mean(train_batch_losses))\n",
    "    train_losses.append(train_rmse)\n",
    "\n",
    "    # test\n",
    "    net.eval()\n",
    "    with torch.inference_mode():\n",
    "        test_batch_losses = []\n",
    "        for X_batch, y_batch in test_loader:\n",
    "            y_pred = net(X_batch).squeeze(1)\n",
    "            loss = criterion(y_pred, y_batch)\n",
    "            test_batch_losses.append(loss.item())\n",
    "        test_rmse = np.sqrt(np.mean(test_batch_losses))\n",
    "        test_losses.append(test_rmse)\n",
    "\n",
    "    print(f'Epoch {epoch + 1}, train RMSE: {train_losses[-1]}, test RMSE: {test_losses[-1]}')"
   ]
  },
  {
   "cell_type": "code",
   "execution_count": null,
   "metadata": {},
   "outputs": [],
   "source": []
  },
  {
   "cell_type": "code",
   "execution_count": null,
   "metadata": {},
   "outputs": [],
   "source": []
  }
 ],
 "metadata": {
  "kernelspec": {
   "display_name": "torch_env",
   "language": "python",
   "name": "python3"
  },
  "language_info": {
   "codemirror_mode": {
    "name": "ipython",
    "version": 3
   },
   "file_extension": ".py",
   "mimetype": "text/x-python",
   "name": "python",
   "nbconvert_exporter": "python",
   "pygments_lexer": "ipython3",
   "version": "3.8.17"
  }
 },
 "nbformat": 4,
 "nbformat_minor": 2
}
