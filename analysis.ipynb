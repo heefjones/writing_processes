{
 "cells": [
  {
   "cell_type": "markdown",
   "metadata": {},
   "source": [
    "# Import Data"
   ]
  },
  {
   "cell_type": "code",
   "execution_count": 1,
   "metadata": {},
   "outputs": [],
   "source": [
    "from helper import *"
   ]
  },
  {
   "cell_type": "code",
   "execution_count": 2,
   "metadata": {
    "execution": {
     "iopub.execute_input": "2024-01-08T17:02:19.887998Z",
     "iopub.status.busy": "2024-01-08T17:02:19.887480Z",
     "iopub.status.idle": "2024-01-08T17:02:37.504495Z",
     "shell.execute_reply": "2024-01-08T17:02:37.503359Z",
     "shell.execute_reply.started": "2024-01-08T17:02:19.887964Z"
    },
    "trusted": true
   },
   "outputs": [
    {
     "name": "stdout",
     "output_type": "stream",
     "text": [
      "Shape: (8405898, 12)\n",
      "Null values:\n"
     ]
    },
    {
     "data": {
      "text/html": [
       "<div>\n",
       "<style scoped>\n",
       "    .dataframe tbody tr th:only-of-type {\n",
       "        vertical-align: middle;\n",
       "    }\n",
       "\n",
       "    .dataframe tbody tr th {\n",
       "        vertical-align: top;\n",
       "    }\n",
       "\n",
       "    .dataframe thead th {\n",
       "        text-align: right;\n",
       "    }\n",
       "</style>\n",
       "<table border=\"1\" class=\"dataframe\">\n",
       "  <thead>\n",
       "    <tr style=\"text-align: right;\">\n",
       "      <th></th>\n",
       "      <th>id</th>\n",
       "      <th>event_id</th>\n",
       "      <th>down_time</th>\n",
       "      <th>up_time</th>\n",
       "      <th>action_time</th>\n",
       "      <th>activity</th>\n",
       "      <th>down_event</th>\n",
       "      <th>up_event</th>\n",
       "      <th>text_change</th>\n",
       "      <th>cursor_position</th>\n",
       "      <th>word_count</th>\n",
       "      <th>score</th>\n",
       "    </tr>\n",
       "  </thead>\n",
       "  <tbody>\n",
       "    <tr>\n",
       "      <th>0</th>\n",
       "      <td>0</td>\n",
       "      <td>0</td>\n",
       "      <td>0</td>\n",
       "      <td>0</td>\n",
       "      <td>0</td>\n",
       "      <td>0</td>\n",
       "      <td>0</td>\n",
       "      <td>0</td>\n",
       "      <td>0</td>\n",
       "      <td>0</td>\n",
       "      <td>0</td>\n",
       "      <td>0</td>\n",
       "    </tr>\n",
       "  </tbody>\n",
       "</table>\n",
       "</div>"
      ],
      "text/plain": [
       "   id  event_id  down_time  up_time  action_time  activity  down_event  \\\n",
       "0   0         0          0        0            0         0           0   \n",
       "\n",
       "   up_event  text_change  cursor_position  word_count  score  \n",
       "0         0            0                0           0      0  "
      ]
     },
     "metadata": {},
     "output_type": "display_data"
    }
   ],
   "source": [
    "# root dir\n",
    "root = 'data/'\n",
    "\n",
    "# load in features and labels\n",
    "logs = pd.read_csv(root + 'train_logs.csv')\n",
    "scores = pd.read_csv(root + 'train_scores.csv')\n",
    "\n",
    "# map scores to logs using id\n",
    "logs = logs.merge(scores, on='id')\n",
    "\n",
    "# check shape and nulls\n",
    "show_shape_and_nulls(logs)"
   ]
  },
  {
   "cell_type": "markdown",
   "metadata": {},
   "source": [
    "- No null values.\n",
    "- __logs__ is a massive dataset containing over 8 million rows, each being an independent keystroke/cursor action used in producing an essay."
   ]
  },
  {
   "cell_type": "code",
   "execution_count": 3,
   "metadata": {},
   "outputs": [
    {
     "name": "stdout",
     "output_type": "stream",
     "text": [
      "\"id\" (object) has 2471 unique values\n",
      "\n",
      "\"event_id\" (int64) has 12876 unique values\n",
      "\n",
      "\"down_time\" (int64) has 1836078 unique values\n",
      "\n",
      "\"up_time\" (int64) has 1835993 unique values\n",
      "\n",
      "\"action_time\" (int64) has 3509 unique values\n",
      "\n",
      "\"activity\" (object) has 50 unique values\n",
      "\n",
      "\"down_event\" (object) has 131 unique values\n",
      "\n",
      "\"up_event\" (object) has 130 unique values\n",
      "\n",
      "\"text_change\" (object) has 4111 unique values\n",
      "\n",
      "\"cursor_position\" (int64) has 7803 unique values\n",
      "\n",
      "\"word_count\" (int64) has 1327 unique values\n",
      "\n"
     ]
    }
   ],
   "source": [
    "# look at unique vals\n",
    "show_unique_vals_and_dtypes(logs)"
   ]
  },
  {
   "cell_type": "markdown",
   "metadata": {},
   "source": [
    "- \"id\" pertains to the writer. There are 2471 unique writers in the data.\n",
    "- Most cols are numerical."
   ]
  },
  {
   "cell_type": "code",
   "execution_count": 4,
   "metadata": {},
   "outputs": [
    {
     "data": {
      "text/plain": [
       "array(['Nonproduction', 'Input', 'Remove/Cut', 'Replace',\n",
       "       'Move From [284, 292] To [282, 290]',\n",
       "       'Move From [287, 289] To [285, 287]',\n",
       "       'Move From [460, 461] To [465, 466]', 'Paste',\n",
       "       'Move From [905, 1314] To [907, 1316]',\n",
       "       'Move From [565, 743] To [669, 847]'], dtype=object)"
      ]
     },
     "execution_count": 4,
     "metadata": {},
     "output_type": "execute_result"
    }
   ],
   "source": [
    "# activity col\n",
    "logs.activity.unique()[:10]"
   ]
  },
  {
   "cell_type": "markdown",
   "metadata": {},
   "source": [
    "- \"activity\" really only contains 6 unique categories, but the \"Move From\" contains many unique [x1,x2] values."
   ]
  },
  {
   "cell_type": "code",
   "execution_count": 3,
   "metadata": {},
   "outputs": [
    {
     "data": {
      "text/plain": [
       "activity\n",
       "Input            0.800247\n",
       "Remove/Cut       0.115414\n",
       "Nonproduction    0.083733\n",
       "Replace          0.000529\n",
       "Paste            0.000071\n",
       "Move             0.000005\n",
       "Name: proportion, dtype: float64"
      ]
     },
     "execution_count": 3,
     "metadata": {},
     "output_type": "execute_result"
    }
   ],
   "source": [
    "# combine 'Move' activities\n",
    "logs.loc[logs['activity'].str.contains('Move', na=False), 'activity'] = 'Move'\n",
    "\n",
    "# distribution of activities\n",
    "logs['activity'].value_counts(normalize=True)"
   ]
  },
  {
   "cell_type": "markdown",
   "metadata": {},
   "source": [
    "- 80% of activities are \"Input\".\n",
    "- \"Cut\" and \"Nonproduction\" make up about 10% each.\n",
    "- \"Replace\", \"Paste\", and \"Move\" activities make up a very small percentage."
   ]
  },
  {
   "cell_type": "markdown",
   "metadata": {},
   "source": [
    "# Scores"
   ]
  },
  {
   "cell_type": "code",
   "execution_count": 31,
   "metadata": {},
   "outputs": [
    {
     "data": {
      "text/html": [
       "<div>\n",
       "<style scoped>\n",
       "    .dataframe tbody tr th:only-of-type {\n",
       "        vertical-align: middle;\n",
       "    }\n",
       "\n",
       "    .dataframe tbody tr th {\n",
       "        vertical-align: top;\n",
       "    }\n",
       "\n",
       "    .dataframe thead th {\n",
       "        text-align: right;\n",
       "    }\n",
       "</style>\n",
       "<table border=\"1\" class=\"dataframe\">\n",
       "  <thead>\n",
       "    <tr style=\"text-align: right;\">\n",
       "      <th></th>\n",
       "      <th>count</th>\n",
       "      <th>mean</th>\n",
       "      <th>std</th>\n",
       "      <th>min</th>\n",
       "      <th>25%</th>\n",
       "      <th>50%</th>\n",
       "      <th>75%</th>\n",
       "      <th>max</th>\n",
       "    </tr>\n",
       "  </thead>\n",
       "  <tbody>\n",
       "    <tr>\n",
       "      <th>score</th>\n",
       "      <td>2471.0</td>\n",
       "      <td>3.711251</td>\n",
       "      <td>1.024937</td>\n",
       "      <td>0.5</td>\n",
       "      <td>3.0</td>\n",
       "      <td>4.0</td>\n",
       "      <td>4.5</td>\n",
       "      <td>6.0</td>\n",
       "    </tr>\n",
       "  </tbody>\n",
       "</table>\n",
       "</div>"
      ],
      "text/plain": [
       "        count      mean       std  min  25%  50%  75%  max\n",
       "score  2471.0  3.711251  1.024937  0.5  3.0  4.0  4.5  6.0"
      ]
     },
     "execution_count": 31,
     "metadata": {},
     "output_type": "execute_result"
    }
   ],
   "source": [
    "# describe scores\n",
    "scores[['score']].describe().T"
   ]
  },
  {
   "cell_type": "markdown",
   "metadata": {},
   "source": [
    "- Labels are in half-point increments, with most falling in the range of 3-4.5."
   ]
  },
  {
   "cell_type": "code",
   "execution_count": 7,
   "metadata": {
    "execution": {
     "iopub.execute_input": "2024-01-08T17:02:37.896655Z",
     "iopub.status.busy": "2024-01-08T17:02:37.896037Z",
     "iopub.status.idle": "2024-01-08T17:02:37.909317Z",
     "shell.execute_reply": "2024-01-08T17:02:37.908188Z",
     "shell.execute_reply.started": "2024-01-08T17:02:37.896621Z"
    },
    "trusted": true
   },
   "outputs": [
    {
     "data": {
      "image/png": "[encoded data removed]",
      "text/plain": [
       "<Figure size 1800x900 with 1 Axes>"
      ]
     },
     "metadata": {},
     "output_type": "display_data"
    }
   ],
   "source": [
    "# histogram of scores\n",
    "plot_hist_with_annot(scores, 'score', bins=None, vertical_lines=[1.25, 2.75, 4.75])"
   ]
  },
  {
   "cell_type": "markdown",
   "metadata": {},
   "source": [
    "- Scores are relatively normally distributed, with a slight left skew."
   ]
  },
  {
   "cell_type": "markdown",
   "metadata": {},
   "source": [
    "# Data Cleaning"
   ]
  },
  {
   "cell_type": "markdown",
   "metadata": {},
   "source": [
    "## Time"
   ]
  },
  {
   "cell_type": "code",
   "execution_count": 4,
   "metadata": {},
   "outputs": [],
   "source": [
    "# assert that action_time col is equal to (up_time - down_time)\n",
    "assert logs.action_time.equals(logs.up_time - logs.down_time)"
   ]
  },
  {
   "cell_type": "markdown",
   "metadata": {},
   "source": [
    "- action_time represents how long a single action took."
   ]
  },
  {
   "cell_type": "code",
   "execution_count": 5,
   "metadata": {},
   "outputs": [
    {
     "data": {
      "text/html": [
       "<div>\n",
       "<style scoped>\n",
       "    .dataframe tbody tr th:only-of-type {\n",
       "        vertical-align: middle;\n",
       "    }\n",
       "\n",
       "    .dataframe tbody tr th {\n",
       "        vertical-align: top;\n",
       "    }\n",
       "\n",
       "    .dataframe thead th {\n",
       "        text-align: right;\n",
       "    }\n",
       "</style>\n",
       "<table border=\"1\" class=\"dataframe\">\n",
       "  <thead>\n",
       "    <tr style=\"text-align: right;\">\n",
       "      <th></th>\n",
       "      <th>id</th>\n",
       "      <th>event_id</th>\n",
       "      <th>down_time</th>\n",
       "      <th>up_time</th>\n",
       "      <th>action_time</th>\n",
       "      <th>activity</th>\n",
       "      <th>down_event</th>\n",
       "      <th>up_event</th>\n",
       "      <th>text_change</th>\n",
       "      <th>cursor_position</th>\n",
       "      <th>word_count</th>\n",
       "      <th>score</th>\n",
       "    </tr>\n",
       "  </thead>\n",
       "  <tbody>\n",
       "    <tr>\n",
       "      <th>0</th>\n",
       "      <td>001519c8</td>\n",
       "      <td>1</td>\n",
       "      <td>4526</td>\n",
       "      <td>4557</td>\n",
       "      <td>31</td>\n",
       "      <td>Nonproduction</td>\n",
       "      <td>Leftclick</td>\n",
       "      <td>Leftclick</td>\n",
       "      <td>NoChange</td>\n",
       "      <td>0</td>\n",
       "      <td>0</td>\n",
       "      <td>3.5</td>\n",
       "    </tr>\n",
       "    <tr>\n",
       "      <th>2556</th>\n",
       "      <td>001519c8</td>\n",
       "      <td>2557</td>\n",
       "      <td>1801877</td>\n",
       "      <td>1801969</td>\n",
       "      <td>92</td>\n",
       "      <td>Nonproduction</td>\n",
       "      <td>Leftclick</td>\n",
       "      <td>Leftclick</td>\n",
       "      <td>NoChange</td>\n",
       "      <td>1046</td>\n",
       "      <td>255</td>\n",
       "      <td>3.5</td>\n",
       "    </tr>\n",
       "  </tbody>\n",
       "</table>\n",
       "</div>"
      ],
      "text/plain": [
       "            id  event_id  down_time  up_time  action_time       activity  \\\n",
       "0     001519c8         1       4526     4557           31  Nonproduction   \n",
       "2556  001519c8      2557    1801877  1801969           92  Nonproduction   \n",
       "\n",
       "     down_event   up_event text_change  cursor_position  word_count  score  \n",
       "0     Leftclick  Leftclick    NoChange                0           0    3.5  \n",
       "2556  Leftclick  Leftclick    NoChange             1046         255    3.5  "
      ]
     },
     "metadata": {},
     "output_type": "display_data"
    },
    {
     "data": {
      "text/html": [
       "<div>\n",
       "<style scoped>\n",
       "    .dataframe tbody tr th:only-of-type {\n",
       "        vertical-align: middle;\n",
       "    }\n",
       "\n",
       "    .dataframe tbody tr th {\n",
       "        vertical-align: top;\n",
       "    }\n",
       "\n",
       "    .dataframe thead th {\n",
       "        text-align: right;\n",
       "    }\n",
       "</style>\n",
       "<table border=\"1\" class=\"dataframe\">\n",
       "  <thead>\n",
       "    <tr style=\"text-align: right;\">\n",
       "      <th></th>\n",
       "      <th>id</th>\n",
       "      <th>event_id</th>\n",
       "      <th>down_time</th>\n",
       "      <th>up_time</th>\n",
       "      <th>action_time</th>\n",
       "      <th>activity</th>\n",
       "      <th>down_event</th>\n",
       "      <th>up_event</th>\n",
       "      <th>text_change</th>\n",
       "      <th>cursor_position</th>\n",
       "      <th>word_count</th>\n",
       "      <th>score</th>\n",
       "    </tr>\n",
       "  </thead>\n",
       "  <tbody>\n",
       "    <tr>\n",
       "      <th>2557</th>\n",
       "      <td>0022f953</td>\n",
       "      <td>1</td>\n",
       "      <td>30623</td>\n",
       "      <td>30853</td>\n",
       "      <td>230</td>\n",
       "      <td>Nonproduction</td>\n",
       "      <td>Leftclick</td>\n",
       "      <td>Leftclick</td>\n",
       "      <td>NoChange</td>\n",
       "      <td>0</td>\n",
       "      <td>0</td>\n",
       "      <td>3.5</td>\n",
       "    </tr>\n",
       "    <tr>\n",
       "      <th>5010</th>\n",
       "      <td>0022f953</td>\n",
       "      <td>2454</td>\n",
       "      <td>1788842</td>\n",
       "      <td>1788969</td>\n",
       "      <td>127</td>\n",
       "      <td>Nonproduction</td>\n",
       "      <td>ArrowDown</td>\n",
       "      <td>ArrowDown</td>\n",
       "      <td>NoChange</td>\n",
       "      <td>1519</td>\n",
       "      <td>320</td>\n",
       "      <td>3.5</td>\n",
       "    </tr>\n",
       "  </tbody>\n",
       "</table>\n",
       "</div>"
      ],
      "text/plain": [
       "            id  event_id  down_time  up_time  action_time       activity  \\\n",
       "2557  0022f953         1      30623    30853          230  Nonproduction   \n",
       "5010  0022f953      2454    1788842  1788969          127  Nonproduction   \n",
       "\n",
       "     down_event   up_event text_change  cursor_position  word_count  score  \n",
       "2557  Leftclick  Leftclick    NoChange                0           0    3.5  \n",
       "5010  ArrowDown  ArrowDown    NoChange             1519         320    3.5  "
      ]
     },
     "metadata": {},
     "output_type": "display_data"
    }
   ],
   "source": [
    "# get unique ids\n",
    "ids = logs.id.unique()\n",
    "\n",
    "# look at first and loast rows for the first and second id\n",
    "show_first_last_rows(logs, ids[0])\n",
    "show_first_last_rows(logs, ids[1])"
   ]
  },
  {
   "cell_type": "markdown",
   "metadata": {},
   "source": [
    "- User 001519c8 waited til 4056 milliseconds (4 seconds) to make their first action. \n",
    "- User 0022f953 waited over 30 seconds."
   ]
  },
  {
   "cell_type": "markdown",
   "metadata": {},
   "source": [
    "## Activity"
   ]
  },
  {
   "cell_type": "code",
   "execution_count": 8,
   "metadata": {},
   "outputs": [
    {
     "name": "stdout",
     "output_type": "stream",
     "text": [
      "\n",
      "Nonproduction has 94 unique events\n",
      "Nonproduction has 1 unique text changes\n",
      "['NoChange']\n",
      "\n",
      "Input has 48 unique events\n",
      "Input has 47 unique text changes\n",
      "\n",
      "Remove/Cut has 5 unique events\n",
      "Remove/Cut has 2179 unique text changes\n",
      "['Rightclick', 'z', 'Delete', 'Backspace', 'x']\n",
      "\n",
      "Replace has 46 unique events\n",
      "Replace has 1826 unique text changes\n",
      "\n",
      "Move has 2 unique events\n",
      "Move has 35 unique text changes\n",
      "['Leftclick', 'z']\n",
      "\n",
      "Paste has 22 unique events\n",
      "Paste has 328 unique text changes\n"
     ]
    }
   ],
   "source": [
    "for activity in logs['activity'].unique():\n",
    "    # get rows where activity == activity\n",
    "    activity_df = logs.query('activity == @activity')\n",
    "\n",
    "    # get num of unique events\n",
    "    unique_events = list(set(activity_df['down_event'].unique()) | set(activity_df['up_event'].unique()))\n",
    "    unique_text_change = activity_df['text_change'].unique()\n",
    "    print(f'\\n{activity} has {len(unique_events)} unique events')\n",
    "    print(f'{activity} has {len(unique_text_change)} unique text changes')\n",
    "\n",
    "    # print if under 20\n",
    "    if len(unique_events) <= 20:\n",
    "        print(unique_events)\n",
    "    if len(unique_text_change) <= 20:\n",
    "        print(unique_text_change)"
   ]
  },
  {
   "cell_type": "markdown",
   "metadata": {},
   "source": [
    "### Nonproduction"
   ]
  },
  {
   "cell_type": "code",
   "execution_count": 7,
   "metadata": {},
   "outputs": [
    {
     "data": {
      "text/plain": [
       "text_change\n",
       "NoChange    703851\n",
       "Name: count, dtype: int64"
      ]
     },
     "metadata": {},
     "output_type": "display_data"
    },
    {
     "data": {
      "text/plain": [
       "activity\n",
       "Nonproduction    703851\n",
       "Name: count, dtype: int64"
      ]
     },
     "metadata": {},
     "output_type": "display_data"
    }
   ],
   "source": [
    "# look at Nonproduction\n",
    "display(logs.query('activity == \"Nonproduction\"')['text_change'].value_counts())\n",
    "display(logs.query('text_change == \"NoChange\"')['activity'].value_counts())"
   ]
  },
  {
   "cell_type": "markdown",
   "metadata": {},
   "source": [
    "- \"Nonproduction\" activity values and \"NoChange\" text_change values are synonomous.\n",
    "- Even though \"Nonproduction\" activity values have 94 unique events, these really don't matter, because the user isn't modifying anything."
   ]
  },
  {
   "cell_type": "markdown",
   "metadata": {},
   "source": [
    "### Input"
   ]
  },
  {
   "cell_type": "code",
   "execution_count": null,
   "metadata": {},
   "outputs": [
    {
     "data": {
      "image/png": "[encoded data removed]",
      "text/plain": [
       "<Figure size 1200x600 with 2 Axes>"
      ]
     },
     "metadata": {},
     "output_type": "display_data"
    }
   ],
   "source": [
    "# get top 10 Input down_event and text_change values\n",
    "top_10_down_event = logs.query('activity == \"Input\"')['down_event'].value_counts(normalize=True).head(10)\n",
    "top_10_text_change = logs.query('activity == \"Input\"')['text_change'].value_counts(normalize=True).head(10)\n",
    "\n",
    "# plot both next to each other\n",
    "fig, ax = plt.subplots(1, 2, figsize=(12, 6))\n",
    "top_10_down_event.plot(kind='bar', ax=ax[0], title='Top 10 Input down_event')\n",
    "top_10_text_change.plot(kind='bar', ax=ax[1], title='Top 10 Input text_change')\n",
    "\n",
    "# make x label rotation 0\n",
    "for a in ax:\n",
    "    a.set_xticklabels(a.get_xticklabels(), rotation=0)\n",
    "plt.tight_layout()\n",
    "plt.show()"
   ]
  },
  {
   "cell_type": "markdown",
   "metadata": {},
   "source": [
    "- \"q\" values make up 80% of the \"Input\" values in the dataset. This essentially represents a single character (a-z) input.\n",
    "- Spaces (' ') make up about 18%.\n",
    "- Punctuation, other special chars (\"Enter\" or \"\\n\"), and revision (Backspace/Delete) make up the other 2%."
   ]
  },
  {
   "cell_type": "markdown",
   "metadata": {},
   "source": [
    "### Remove/Cut"
   ]
  },
  {
   "cell_type": "code",
   "execution_count": 36,
   "metadata": {},
   "outputs": [
    {
     "data": {
      "text/plain": [
       "down_event\n",
       "Backspace     0.988736\n",
       "Delete        0.010963\n",
       "x             0.000128\n",
       "z             0.000095\n",
       "Rightclick    0.000078\n",
       "Name: proportion, dtype: float64"
      ]
     },
     "metadata": {},
     "output_type": "display_data"
    },
    {
     "data": {
      "text/plain": [
       "up_event\n",
       "Backspace     0.988736\n",
       "Delete        0.010963\n",
       "x             0.000128\n",
       "z             0.000095\n",
       "Rightclick    0.000078\n",
       "Name: proportion, dtype: float64"
      ]
     },
     "metadata": {},
     "output_type": "display_data"
    }
   ],
   "source": [
    "# get removes\n",
    "removes = logs.query('activity == \"Remove/Cut\"')\n",
    "\n",
    "# look at value counts\n",
    "display(removes.down_event.value_counts(normalize=True))\n",
    "display(removes.up_event.value_counts(normalize=True))"
   ]
  },
  {
   "cell_type": "markdown",
   "metadata": {},
   "source": [
    "- Vast majority (99%) of event values for Remove/Cut are Backspace/Delete actions."
   ]
  },
  {
   "cell_type": "markdown",
   "metadata": {},
   "source": [
    "### Replace\n",
    "This is technically a combination of \"Remove/Cut\" and \"Input\" activities at the same time."
   ]
  },
  {
   "cell_type": "code",
   "execution_count": null,
   "metadata": {},
   "outputs": [
    {
     "name": "stdout",
     "output_type": "stream",
     "text": [
      "{1826}\n",
      "[' qqq qqqqq  =>  ' 'qqqqq qq => q' 'qqqq  => q' 'qqqqqqq qqqqqq  => q'\n",
      " 'qq qqqqqqqq qqqqq => q' 'qqqqq  => q' 'qqqqqqqqq  => q' 'qqqqqq => q'\n",
      " 'qqqqqqq qqq qqqq qqqq qqqq qq qqqqqqqq qqqqqqq  => q' 'qqqqqqq  => q']\n"
     ]
    }
   ],
   "source": [
    "# get replace\n",
    "replace = logs.query('activity == \"Replace\"')\n",
    "\n",
    "# get unique values\n",
    "unique = replace.text_change.unique()\n",
    "\n",
    "# print count and first 10\n",
    "print({len(unique)})\n",
    "print(unique[:10])"
   ]
  },
  {
   "cell_type": "markdown",
   "metadata": {},
   "source": [
    "- The arrow (=>) indicates that the text on the left is being replaced by the text on the right. \"qqqq qqqq => q\" indicates that 2 four-letter words are being replaced by a single character."
   ]
  },
  {
   "cell_type": "code",
   "execution_count": null,
   "metadata": {},
   "outputs": [
    {
     "data": {
      "text/html": [
       "<div>\n",
       "<style scoped>\n",
       "    .dataframe tbody tr th:only-of-type {\n",
       "        vertical-align: middle;\n",
       "    }\n",
       "\n",
       "    .dataframe tbody tr th {\n",
       "        vertical-align: top;\n",
       "    }\n",
       "\n",
       "    .dataframe thead th {\n",
       "        text-align: right;\n",
       "    }\n",
       "</style>\n",
       "<table border=\"1\" class=\"dataframe\">\n",
       "  <thead>\n",
       "    <tr style=\"text-align: right;\">\n",
       "      <th></th>\n",
       "      <th>id</th>\n",
       "      <th>event_id</th>\n",
       "      <th>down_time</th>\n",
       "      <th>up_time</th>\n",
       "      <th>action_time</th>\n",
       "      <th>activity</th>\n",
       "      <th>down_event</th>\n",
       "      <th>up_event</th>\n",
       "      <th>text_change</th>\n",
       "      <th>cursor_position</th>\n",
       "      <th>word_count</th>\n",
       "    </tr>\n",
       "  </thead>\n",
       "  <tbody>\n",
       "    <tr>\n",
       "      <th>462</th>\n",
       "      <td>001519c8</td>\n",
       "      <td>463</td>\n",
       "      <td>455954</td>\n",
       "      <td>456082</td>\n",
       "      <td>128</td>\n",
       "      <td>Replace</td>\n",
       "      <td>Space</td>\n",
       "      <td>Space</td>\n",
       "      <td>qqq qqqqq  =&gt;</td>\n",
       "      <td>161</td>\n",
       "      <td>39</td>\n",
       "    </tr>\n",
       "  </tbody>\n",
       "</table>\n",
       "</div>"
      ],
      "text/plain": [
       "           id  event_id  down_time  up_time  action_time activity down_event  \\\n",
       "462  001519c8       463     455954   456082          128  Replace      Space   \n",
       "\n",
       "    up_event       text_change  cursor_position  word_count  \n",
       "462    Space   qqq qqqqq  =>                161          39  "
      ]
     },
     "execution_count": 42,
     "metadata": {},
     "output_type": "execute_result"
    }
   ],
   "source": [
    "# get a row where text_change is equal to 2 words replaced by a space\n",
    "logs.query(\"text_change == ' qqq qqqqq  =>  '\")"
   ]
  },
  {
   "cell_type": "code",
   "execution_count": null,
   "metadata": {},
   "outputs": [
    {
     "data": {
      "text/html": [
       "<div>\n",
       "<style scoped>\n",
       "    .dataframe tbody tr th:only-of-type {\n",
       "        vertical-align: middle;\n",
       "    }\n",
       "\n",
       "    .dataframe tbody tr th {\n",
       "        vertical-align: top;\n",
       "    }\n",
       "\n",
       "    .dataframe thead th {\n",
       "        text-align: right;\n",
       "    }\n",
       "</style>\n",
       "<table border=\"1\" class=\"dataframe\">\n",
       "  <thead>\n",
       "    <tr style=\"text-align: right;\">\n",
       "      <th></th>\n",
       "      <th>id</th>\n",
       "      <th>event_id</th>\n",
       "      <th>down_time</th>\n",
       "      <th>up_time</th>\n",
       "      <th>action_time</th>\n",
       "      <th>activity</th>\n",
       "      <th>down_event</th>\n",
       "      <th>up_event</th>\n",
       "      <th>text_change</th>\n",
       "      <th>cursor_position</th>\n",
       "      <th>word_count</th>\n",
       "    </tr>\n",
       "  </thead>\n",
       "  <tbody>\n",
       "    <tr>\n",
       "      <th>461</th>\n",
       "      <td>001519c8</td>\n",
       "      <td>462</td>\n",
       "      <td>453154</td>\n",
       "      <td>455413</td>\n",
       "      <td>2259</td>\n",
       "      <td>Nonproduction</td>\n",
       "      <td>Leftclick</td>\n",
       "      <td>Leftclick</td>\n",
       "      <td>NoChange</td>\n",
       "      <td>171</td>\n",
       "      <td>41</td>\n",
       "    </tr>\n",
       "    <tr>\n",
       "      <th>462</th>\n",
       "      <td>001519c8</td>\n",
       "      <td>463</td>\n",
       "      <td>455954</td>\n",
       "      <td>456082</td>\n",
       "      <td>128</td>\n",
       "      <td>Replace</td>\n",
       "      <td>Space</td>\n",
       "      <td>Space</td>\n",
       "      <td>qqq qqqqq  =&gt;</td>\n",
       "      <td>161</td>\n",
       "      <td>39</td>\n",
       "    </tr>\n",
       "  </tbody>\n",
       "</table>\n",
       "</div>"
      ],
      "text/plain": [
       "           id  event_id  down_time  up_time  action_time       activity  \\\n",
       "461  001519c8       462     453154   455413         2259  Nonproduction   \n",
       "462  001519c8       463     455954   456082          128        Replace   \n",
       "\n",
       "    down_event   up_event       text_change  cursor_position  word_count  \n",
       "461  Leftclick  Leftclick          NoChange              171          41  \n",
       "462      Space      Space   qqq qqqqq  =>                161          39  "
      ]
     },
     "execution_count": 43,
     "metadata": {},
     "output_type": "execute_result"
    }
   ],
   "source": [
    "# look at row 462 and its prior row\n",
    "logs.loc[[461, 462]]"
   ]
  },
  {
   "cell_type": "markdown",
   "metadata": {},
   "source": [
    "- When text_change shows 2 words to the left of the \"=>\", we can see the word count drop by 2, as we are replacing these 2 words with only a space."
   ]
  },
  {
   "cell_type": "code",
   "execution_count": null,
   "metadata": {},
   "outputs": [
    {
     "data": {
      "text/html": [
       "<div>\n",
       "<style scoped>\n",
       "    .dataframe tbody tr th:only-of-type {\n",
       "        vertical-align: middle;\n",
       "    }\n",
       "\n",
       "    .dataframe tbody tr th {\n",
       "        vertical-align: top;\n",
       "    }\n",
       "\n",
       "    .dataframe thead th {\n",
       "        text-align: right;\n",
       "    }\n",
       "</style>\n",
       "<table border=\"1\" class=\"dataframe\">\n",
       "  <thead>\n",
       "    <tr style=\"text-align: right;\">\n",
       "      <th></th>\n",
       "      <th>id</th>\n",
       "      <th>event_id</th>\n",
       "      <th>down_time</th>\n",
       "      <th>up_time</th>\n",
       "      <th>action_time</th>\n",
       "      <th>activity</th>\n",
       "      <th>down_event</th>\n",
       "      <th>up_event</th>\n",
       "      <th>text_change</th>\n",
       "      <th>cursor_position</th>\n",
       "      <th>word_count</th>\n",
       "    </tr>\n",
       "  </thead>\n",
       "  <tbody>\n",
       "    <tr>\n",
       "      <th>5115</th>\n",
       "      <td>0042269b</td>\n",
       "      <td>105</td>\n",
       "      <td>104507</td>\n",
       "      <td>104617</td>\n",
       "      <td>110</td>\n",
       "      <td>Replace</td>\n",
       "      <td>q</td>\n",
       "      <td>m</td>\n",
       "      <td>qqqqqqq qqq qqqq qqqq qqqq qq qqqqqqqq qqqqqqq  =&gt; q</td>\n",
       "      <td>1</td>\n",
       "      <td>4</td>\n",
       "    </tr>\n",
       "  </tbody>\n",
       "</table>\n",
       "</div>"
      ],
      "text/plain": [
       "            id  event_id  down_time  up_time  action_time activity down_event  \\\n",
       "5115  0042269b       105     104507   104617          110  Replace          q   \n",
       "\n",
       "     up_event                                           text_change  \\\n",
       "5115        m  qqqqqqq qqq qqqq qqqq qqqq qq qqqqqqqq qqqqqqq  => q   \n",
       "\n",
       "      cursor_position  word_count  \n",
       "5115                1           4  "
      ]
     },
     "execution_count": 51,
     "metadata": {},
     "output_type": "execute_result"
    }
   ],
   "source": [
    "# get a row where text_change is equal to 8 words replaced by a character\n",
    "logs.query(\"text_change == 'qqqqqqq qqq qqqq qqqq qqqq qq qqqqqqqq qqqqqqq  => q'\")"
   ]
  },
  {
   "cell_type": "code",
   "execution_count": null,
   "metadata": {},
   "outputs": [
    {
     "data": {
      "text/html": [
       "<div>\n",
       "<style scoped>\n",
       "    .dataframe tbody tr th:only-of-type {\n",
       "        vertical-align: middle;\n",
       "    }\n",
       "\n",
       "    .dataframe tbody tr th {\n",
       "        vertical-align: top;\n",
       "    }\n",
       "\n",
       "    .dataframe thead th {\n",
       "        text-align: right;\n",
       "    }\n",
       "</style>\n",
       "<table border=\"1\" class=\"dataframe\">\n",
       "  <thead>\n",
       "    <tr style=\"text-align: right;\">\n",
       "      <th></th>\n",
       "      <th>id</th>\n",
       "      <th>event_id</th>\n",
       "      <th>down_time</th>\n",
       "      <th>up_time</th>\n",
       "      <th>action_time</th>\n",
       "      <th>activity</th>\n",
       "      <th>down_event</th>\n",
       "      <th>up_event</th>\n",
       "      <th>text_change</th>\n",
       "      <th>cursor_position</th>\n",
       "      <th>word_count</th>\n",
       "    </tr>\n",
       "  </thead>\n",
       "  <tbody>\n",
       "    <tr>\n",
       "      <th>5114</th>\n",
       "      <td>0042269b</td>\n",
       "      <td>104</td>\n",
       "      <td>104404</td>\n",
       "      <td>104404</td>\n",
       "      <td>0</td>\n",
       "      <td>Nonproduction</td>\n",
       "      <td>Shift</td>\n",
       "      <td>Shift</td>\n",
       "      <td>NoChange</td>\n",
       "      <td>47</td>\n",
       "      <td>12</td>\n",
       "    </tr>\n",
       "    <tr>\n",
       "      <th>5115</th>\n",
       "      <td>0042269b</td>\n",
       "      <td>105</td>\n",
       "      <td>104507</td>\n",
       "      <td>104617</td>\n",
       "      <td>110</td>\n",
       "      <td>Replace</td>\n",
       "      <td>q</td>\n",
       "      <td>m</td>\n",
       "      <td>qqqqqqq qqq qqqq qqqq qqqq qq qqqqqqqq qqqqqqq  =&gt; q</td>\n",
       "      <td>1</td>\n",
       "      <td>4</td>\n",
       "    </tr>\n",
       "  </tbody>\n",
       "</table>\n",
       "</div>"
      ],
      "text/plain": [
       "            id  event_id  down_time  up_time  action_time       activity  \\\n",
       "5114  0042269b       104     104404   104404            0  Nonproduction   \n",
       "5115  0042269b       105     104507   104617          110        Replace   \n",
       "\n",
       "     down_event up_event  \\\n",
       "5114      Shift    Shift   \n",
       "5115          q        m   \n",
       "\n",
       "                                               text_change  cursor_position  \\\n",
       "5114                                              NoChange               47   \n",
       "5115  qqqqqqq qqq qqqq qqqq qqqq qq qqqqqqqq qqqqqqq  => q                1   \n",
       "\n",
       "      word_count  \n",
       "5114          12  \n",
       "5115           4  "
      ]
     },
     "execution_count": 52,
     "metadata": {},
     "output_type": "execute_result"
    }
   ],
   "source": [
    "# look at row 5115 and its prior row\n",
    "logs.loc[[5114, 5115]]"
   ]
  },
  {
   "cell_type": "markdown",
   "metadata": {},
   "source": [
    "- When now see 8 words (46 characters) to the left of the \"=>\", the word_count drops by 8, even though a character is replacing these.\n",
    "- The cursor_position value is dropping by 46, which coincides with the number of characters that we are replacing."
   ]
  },
  {
   "cell_type": "markdown",
   "metadata": {},
   "source": [
    "### Move"
   ]
  },
  {
   "cell_type": "code",
   "execution_count": null,
   "metadata": {},
   "outputs": [
    {
     "name": "stdout",
     "output_type": "stream",
     "text": [
      "{35}\n",
      "['qqqqqqq ' 'qq' 'q'\n",
      " ' qqqqq qqqq qqqqqqq qqqq qqqq qqqqqq qqqqqqqq qq qqq qqqqq qq qqqqqqqqqqq qqqqqq qqq qqqqqqqqqqqq qqqqqqqqq qq qqq qqqqqqq. \\n\\nqqqqqqq qqqqqqq qq qqqq qqqqqq qqq qqqqqqqqqqq qqqq qqq qqqq qq qq qqqqqq qq qqqqqq qq qqqq qqqqqqq qqqqqqq q qqqqqqqqq qq qqqqqqqq qqqqqqqqq qqqq qqqqq qqqqqqq qqqqqq qq qqqqqqq qqqqqqq qq qqqq qqqqqqqqq. qqqq qqqqq qq qqqqqqqqqq qq qqq qqqq qqqqq qqqqq qq qqq qqqqqqqqqq qqqq qqqq '\n",
      " 'qqqq qqqqqq q qqqq qq qqqqq qqqq qqqq qqqqqqq. qq qqqqqqq qqqqqqqqq qqqq qqq qqqqq qqqqqqqqqqq qq qqq qqqqqqq qqqq qq qqqqqqqq qq qqq qqqqqqq q qqq qq qqqqqqqq. qqqq qqq qqqqqqqq'\n",
      " 'q qqqqq qqqq qqqq qqqqqqqqq qq qqqqq qqqqq qqqq qq qqqqq qqqqq qqq qqq qqqqqqq. '\n",
      " 'qqq qqqqqq qqqq qqqqqq qq qq qqqqq qq qqq qqqqq qq qqqqq qqqqqqqq qqqqq qq qq qqq qqqqqqqqq qq qqqqqq?'\n",
      " 'qqqqqqq'\n",
      " ' qq qqqq qq qqqq. qqqq qqqq qqqqqqqq qqq qqqqqqqq. qqqqqqqq qq qqqq qqqqqqqqq qq qqqqqqqq'\n",
      " 'qqq qqqqqqq qq qqqqqqqqqq qqq qqqqq qqqq q qqqqqq qqqqqq qq qqqqqq qqqqqqqqq qq qqq qqqqq qq qqqqqqq qqqqqqqqqqq qqq qqq qqqq qqqqqq qq qqqqq qqqq qqqq qqqq. ']\n"
     ]
    }
   ],
   "source": [
    "# get replace\n",
    "move = logs.query('activity == \"Move\"')\n",
    "\n",
    "# look at 3 rows of move\n",
    "move.head(3)"
   ]
  },
  {
   "cell_type": "markdown",
   "metadata": {},
   "source": [
    "- Lets get this user ID and a few concurrent actions to see how the Move action effects cursor_position and word_count."
   ]
  },
  {
   "cell_type": "code",
   "execution_count": 21,
   "metadata": {},
   "outputs": [
    {
     "data": {
      "text/html": [
       "<div>\n",
       "<style scoped>\n",
       "    .dataframe tbody tr th:only-of-type {\n",
       "        vertical-align: middle;\n",
       "    }\n",
       "\n",
       "    .dataframe tbody tr th {\n",
       "        vertical-align: top;\n",
       "    }\n",
       "\n",
       "    .dataframe thead th {\n",
       "        text-align: right;\n",
       "    }\n",
       "</style>\n",
       "<table border=\"1\" class=\"dataframe\">\n",
       "  <thead>\n",
       "    <tr style=\"text-align: right;\">\n",
       "      <th></th>\n",
       "      <th>id</th>\n",
       "      <th>event_id</th>\n",
       "      <th>down_time</th>\n",
       "      <th>up_time</th>\n",
       "      <th>action_time</th>\n",
       "      <th>activity</th>\n",
       "      <th>down_event</th>\n",
       "      <th>up_event</th>\n",
       "      <th>text_change</th>\n",
       "      <th>cursor_position</th>\n",
       "      <th>word_count</th>\n",
       "    </tr>\n",
       "  </thead>\n",
       "  <tbody>\n",
       "    <tr>\n",
       "      <th>2358</th>\n",
       "      <td>001519c8</td>\n",
       "      <td>2359</td>\n",
       "      <td>1379890</td>\n",
       "      <td>1380270</td>\n",
       "      <td>380</td>\n",
       "      <td>Nonproduction</td>\n",
       "      <td>Leftclick</td>\n",
       "      <td>Leftclick</td>\n",
       "      <td>NoChange</td>\n",
       "      <td>292</td>\n",
       "      <td>244</td>\n",
       "    </tr>\n",
       "    <tr>\n",
       "      <th>2359</th>\n",
       "      <td>001519c8</td>\n",
       "      <td>2360</td>\n",
       "      <td>1380334</td>\n",
       "      <td>1380334</td>\n",
       "      <td>0</td>\n",
       "      <td>Move</td>\n",
       "      <td>Leftclick</td>\n",
       "      <td>Leftclick</td>\n",
       "      <td>qqqqqqq</td>\n",
       "      <td>290</td>\n",
       "      <td>244</td>\n",
       "    </tr>\n",
       "    <tr>\n",
       "      <th>2360</th>\n",
       "      <td>001519c8</td>\n",
       "      <td>2361</td>\n",
       "      <td>1381747</td>\n",
       "      <td>1381763</td>\n",
       "      <td>16</td>\n",
       "      <td>Nonproduction</td>\n",
       "      <td>Leftclick</td>\n",
       "      <td>Leftclick</td>\n",
       "      <td>NoChange</td>\n",
       "      <td>368</td>\n",
       "      <td>244</td>\n",
       "    </tr>\n",
       "    <tr>\n",
       "      <th>2361</th>\n",
       "      <td>001519c8</td>\n",
       "      <td>2362</td>\n",
       "      <td>1382693</td>\n",
       "      <td>1382843</td>\n",
       "      <td>150</td>\n",
       "      <td>Nonproduction</td>\n",
       "      <td>Leftclick</td>\n",
       "      <td>Leftclick</td>\n",
       "      <td>NoChange</td>\n",
       "      <td>289</td>\n",
       "      <td>244</td>\n",
       "    </tr>\n",
       "    <tr>\n",
       "      <th>2362</th>\n",
       "      <td>001519c8</td>\n",
       "      <td>2363</td>\n",
       "      <td>1382896</td>\n",
       "      <td>1382896</td>\n",
       "      <td>0</td>\n",
       "      <td>Move</td>\n",
       "      <td>Leftclick</td>\n",
       "      <td>Leftclick</td>\n",
       "      <td>qq</td>\n",
       "      <td>287</td>\n",
       "      <td>244</td>\n",
       "    </tr>\n",
       "    <tr>\n",
       "      <th>2363</th>\n",
       "      <td>001519c8</td>\n",
       "      <td>2364</td>\n",
       "      <td>1384340</td>\n",
       "      <td>1385567</td>\n",
       "      <td>1227</td>\n",
       "      <td>Nonproduction</td>\n",
       "      <td>Leftclick</td>\n",
       "      <td>Leftclick</td>\n",
       "      <td>NoChange</td>\n",
       "      <td>297</td>\n",
       "      <td>244</td>\n",
       "    </tr>\n",
       "    <tr>\n",
       "      <th>2364</th>\n",
       "      <td>001519c8</td>\n",
       "      <td>2365</td>\n",
       "      <td>1386525</td>\n",
       "      <td>1386655</td>\n",
       "      <td>130</td>\n",
       "      <td>Replace</td>\n",
       "      <td>q</td>\n",
       "      <td>q</td>\n",
       "      <td>qqqqqqq qqqqqq  =&gt; q</td>\n",
       "      <td>283</td>\n",
       "      <td>242</td>\n",
       "    </tr>\n",
       "  </tbody>\n",
       "</table>\n",
       "</div>"
      ],
      "text/plain": [
       "            id  event_id  down_time  up_time  action_time       activity  \\\n",
       "2358  001519c8      2359    1379890  1380270          380  Nonproduction   \n",
       "2359  001519c8      2360    1380334  1380334            0           Move   \n",
       "2360  001519c8      2361    1381747  1381763           16  Nonproduction   \n",
       "2361  001519c8      2362    1382693  1382843          150  Nonproduction   \n",
       "2362  001519c8      2363    1382896  1382896            0           Move   \n",
       "2363  001519c8      2364    1384340  1385567         1227  Nonproduction   \n",
       "2364  001519c8      2365    1386525  1386655          130        Replace   \n",
       "\n",
       "     down_event   up_event           text_change  cursor_position  word_count  \n",
       "2358  Leftclick  Leftclick              NoChange              292         244  \n",
       "2359  Leftclick  Leftclick              qqqqqqq               290         244  \n",
       "2360  Leftclick  Leftclick              NoChange              368         244  \n",
       "2361  Leftclick  Leftclick              NoChange              289         244  \n",
       "2362  Leftclick  Leftclick                    qq              287         244  \n",
       "2363  Leftclick  Leftclick              NoChange              297         244  \n",
       "2364          q          q  qqqqqqq qqqqqq  => q              283         242  "
      ]
     },
     "execution_count": 21,
     "metadata": {},
     "output_type": "execute_result"
    }
   ],
   "source": [
    "# look at rows with indices 2358-2364\n",
    "logs.loc[2358:2364]"
   ]
  },
  {
   "cell_type": "markdown",
   "metadata": {},
   "source": [
    "- In row 2359, the user is moving a 7-character word back 2 cursor positions. word_count does not change, as nothing is being added with this action."
   ]
  },
  {
   "cell_type": "markdown",
   "metadata": {},
   "source": [
    "### Paste"
   ]
  },
  {
   "cell_type": "code",
   "execution_count": 31,
   "metadata": {},
   "outputs": [
    {
     "data": {
      "text/html": [
       "<div>\n",
       "<style scoped>\n",
       "    .dataframe tbody tr th:only-of-type {\n",
       "        vertical-align: middle;\n",
       "    }\n",
       "\n",
       "    .dataframe tbody tr th {\n",
       "        vertical-align: top;\n",
       "    }\n",
       "\n",
       "    .dataframe thead th {\n",
       "        text-align: right;\n",
       "    }\n",
       "</style>\n",
       "<table border=\"1\" class=\"dataframe\">\n",
       "  <thead>\n",
       "    <tr style=\"text-align: right;\">\n",
       "      <th></th>\n",
       "      <th>id</th>\n",
       "      <th>event_id</th>\n",
       "      <th>down_time</th>\n",
       "      <th>up_time</th>\n",
       "      <th>action_time</th>\n",
       "      <th>activity</th>\n",
       "      <th>down_event</th>\n",
       "      <th>up_event</th>\n",
       "      <th>text_change</th>\n",
       "      <th>cursor_position</th>\n",
       "      <th>word_count</th>\n",
       "    </tr>\n",
       "  </thead>\n",
       "  <tbody>\n",
       "    <tr>\n",
       "      <th>5406117</th>\n",
       "      <td>a8219621</td>\n",
       "      <td>663</td>\n",
       "      <td>421627</td>\n",
       "      <td>421708</td>\n",
       "      <td>81</td>\n",
       "      <td>Paste</td>\n",
       "      <td>v</td>\n",
       "      <td>v</td>\n",
       "      <td>qq qq qqqqqqqqqq qq qqq qqq qqqqqqqqq, qqqqqqq qq qq qqq qqq qq qqqq qq qqq qqqqqqqqqqq. \\n</td>\n",
       "      <td>90</td>\n",
       "      <td>73</td>\n",
       "    </tr>\n",
       "  </tbody>\n",
       "</table>\n",
       "</div>"
      ],
      "text/plain": [
       "               id  event_id  down_time  up_time  action_time activity  \\\n",
       "5406117  a8219621       663     421627   421708           81    Paste   \n",
       "\n",
       "        down_event up_event  \\\n",
       "5406117          v        v   \n",
       "\n",
       "                                                                                         text_change  \\\n",
       "5406117  qq qq qqqqqqqqqq qq qqq qqq qqqqqqqqq, qqqqqqq qq qq qqq qqq qq qqqq qq qqq qqqqqqqqqqq. \\n   \n",
       "\n",
       "         cursor_position  word_count  \n",
       "5406117               90          73  "
      ]
     },
     "execution_count": 31,
     "metadata": {},
     "output_type": "execute_result"
    }
   ],
   "source": [
    "# get paste activity\n",
    "paste = logs.query('activity == \"Paste\"')\n",
    "\n",
    "# view a row\n",
    "paste.sample()"
   ]
  },
  {
   "cell_type": "code",
   "execution_count": 32,
   "metadata": {},
   "outputs": [
    {
     "data": {
      "text/html": [
       "<div>\n",
       "<style scoped>\n",
       "    .dataframe tbody tr th:only-of-type {\n",
       "        vertical-align: middle;\n",
       "    }\n",
       "\n",
       "    .dataframe tbody tr th {\n",
       "        vertical-align: top;\n",
       "    }\n",
       "\n",
       "    .dataframe thead th {\n",
       "        text-align: right;\n",
       "    }\n",
       "</style>\n",
       "<table border=\"1\" class=\"dataframe\">\n",
       "  <thead>\n",
       "    <tr style=\"text-align: right;\">\n",
       "      <th></th>\n",
       "      <th>id</th>\n",
       "      <th>event_id</th>\n",
       "      <th>down_time</th>\n",
       "      <th>up_time</th>\n",
       "      <th>action_time</th>\n",
       "      <th>activity</th>\n",
       "      <th>down_event</th>\n",
       "      <th>up_event</th>\n",
       "      <th>text_change</th>\n",
       "      <th>cursor_position</th>\n",
       "      <th>word_count</th>\n",
       "    </tr>\n",
       "  </thead>\n",
       "  <tbody>\n",
       "    <tr>\n",
       "      <th>5406116</th>\n",
       "      <td>a8219621</td>\n",
       "      <td>662</td>\n",
       "      <td>421498</td>\n",
       "      <td>421498</td>\n",
       "      <td>0</td>\n",
       "      <td>Nonproduction</td>\n",
       "      <td>Control</td>\n",
       "      <td>Control</td>\n",
       "      <td>NoChange</td>\n",
       "      <td>0</td>\n",
       "      <td>56</td>\n",
       "    </tr>\n",
       "    <tr>\n",
       "      <th>5406117</th>\n",
       "      <td>a8219621</td>\n",
       "      <td>663</td>\n",
       "      <td>421627</td>\n",
       "      <td>421708</td>\n",
       "      <td>81</td>\n",
       "      <td>Paste</td>\n",
       "      <td>v</td>\n",
       "      <td>v</td>\n",
       "      <td>qq qq qqqqqqqqqq qq qqq qqq qqqqqqqqq, qqqqqqq qq qq qqq qqq qq qqqq qq qqq qqqqqqqqqqq. \\n</td>\n",
       "      <td>90</td>\n",
       "      <td>73</td>\n",
       "    </tr>\n",
       "    <tr>\n",
       "      <th>5406118</th>\n",
       "      <td>a8219621</td>\n",
       "      <td>664</td>\n",
       "      <td>425064</td>\n",
       "      <td>425190</td>\n",
       "      <td>126</td>\n",
       "      <td>Nonproduction</td>\n",
       "      <td>Leftclick</td>\n",
       "      <td>Leftclick</td>\n",
       "      <td>NoChange</td>\n",
       "      <td>420</td>\n",
       "      <td>73</td>\n",
       "    </tr>\n",
       "  </tbody>\n",
       "</table>\n",
       "</div>"
      ],
      "text/plain": [
       "               id  event_id  down_time  up_time  action_time       activity  \\\n",
       "5406116  a8219621       662     421498   421498            0  Nonproduction   \n",
       "5406117  a8219621       663     421627   421708           81          Paste   \n",
       "5406118  a8219621       664     425064   425190          126  Nonproduction   \n",
       "\n",
       "        down_event   up_event  \\\n",
       "5406116    Control    Control   \n",
       "5406117          v          v   \n",
       "5406118  Leftclick  Leftclick   \n",
       "\n",
       "                                                                                         text_change  \\\n",
       "5406116                                                                                     NoChange   \n",
       "5406117  qq qq qqqqqqqqqq qq qqq qqq qqqqqqqqq, qqqqqqq qq qq qqq qqq qq qqqq qq qqq qqqqqqqqqqq. \\n   \n",
       "5406118                                                                                     NoChange   \n",
       "\n",
       "         cursor_position  word_count  \n",
       "5406116                0          56  \n",
       "5406117               90          73  \n",
       "5406118              420          73  "
      ]
     },
     "execution_count": 32,
     "metadata": {},
     "output_type": "execute_result"
    }
   ],
   "source": [
    "# look at rows with indices 5406116-5406118\n",
    "logs.loc[5406116:5406118]"
   ]
  },
  {
   "cell_type": "markdown",
   "metadata": {},
   "source": [
    "- In this paste example, the user pasted 17 words and word_count increased by 17."
   ]
  },
  {
   "cell_type": "markdown",
   "metadata": {},
   "source": [
    "## Text Change"
   ]
  },
  {
   "cell_type": "code",
   "execution_count": 42,
   "metadata": {},
   "outputs": [
    {
     "data": {
      "image/png": "[encoded data removed]",
      "text/plain": [
       "<Figure size 640x480 with 1 Axes>"
      ]
     },
     "metadata": {},
     "output_type": "display_data"
    }
   ],
   "source": [
    "# plot the top 10 most common text_change values\n",
    "logs['text_change'].value_counts(normalize=True)[:10].plot(kind='bar', color='skyblue', edgecolor='black')\n",
    "plt.title('Top 10 text_change')\n",
    "plt.tight_layout()\n",
    "plt.show()"
   ]
  },
  {
   "cell_type": "markdown",
   "metadata": {},
   "source": [
    "- \"q\" values make up the majority of text_change values in the dataset."
   ]
  },
  {
   "cell_type": "code",
   "execution_count": 43,
   "metadata": {},
   "outputs": [
    {
     "data": {
      "image/png": "[encoded data removed]",
      "text/plain": [
       "<Figure size 640x480 with 1 Axes>"
      ]
     },
     "metadata": {},
     "output_type": "display_data"
    }
   ],
   "source": [
    "# get rows where text_change is q, NoChange, or neither\n",
    "q = logs.query('text_change == \"q\"')\n",
    "no_change = logs.query('text_change == \"NoChange\"')\n",
    "other_text_change = logs.query('text_change != \"q\" and text_change != \"NoChange\"')\n",
    "\n",
    "# look at proportions\n",
    "q_proportion = len(q) / len(logs)\n",
    "no_change_proportion = len(no_change) / len(logs)\n",
    "other_text_change_proportion = len(other_text_change) / len(logs)\n",
    "\n",
    "# plot\n",
    "plt.bar(['q', 'NoChange', 'Other'], [q_proportion, no_change_proportion, other_text_change_proportion], color='skyblue', edgecolor='black')\n",
    "plt.title('Proportion of text_change values')\n",
    "plt.tight_layout()\n",
    "plt.show()"
   ]
  },
  {
   "cell_type": "markdown",
   "metadata": {},
   "source": [
    "- About 73% of all text changes are \"q\" (a single char input).\n",
    "- 8% are \"NoChange\", which we've already establised to be \"Nonproduction\" activities. The only thing that may change in these actions is the cursor_position.\n",
    "- 19% are \"Other\", which we will inspect now."
   ]
  },
  {
   "cell_type": "markdown",
   "metadata": {},
   "source": [
    "## Down/Up Events"
   ]
  },
  {
   "cell_type": "markdown",
   "metadata": {},
   "source": [
    "### Mismatching Events"
   ]
  },
  {
   "cell_type": "code",
   "execution_count": 46,
   "metadata": {},
   "outputs": [
    {
     "name": "stdout",
     "output_type": "stream",
     "text": [
      "0.01% of rows have different down and up events\n"
     ]
    },
    {
     "data": {
      "text/plain": [
       "activity\n",
       "Replace          523\n",
       "Input              7\n",
       "Nonproduction      4\n",
       "Name: count, dtype: int64"
      ]
     },
     "execution_count": 46,
     "metadata": {},
     "output_type": "execute_result"
    }
   ],
   "source": [
    "# where down and up event differ\n",
    "diff_events = logs.query('down_event != up_event')['activity'].value_counts()\n",
    "\n",
    "# calculate proportion\n",
    "diff_events_pct = diff_events.sum() / logs.shape[0]\n",
    "\n",
    "# print proportion and actual values\n",
    "print(f'{diff_events_pct:.2%} of rows have different down and up events')\n",
    "diff_events"
   ]
  },
  {
   "cell_type": "markdown",
   "metadata": {},
   "source": [
    "- Mismatching down/up events only make up a fraction of our data (0.01%).\n",
    "- It is pretty much always a \"Replace\" activity."
   ]
  },
  {
   "cell_type": "code",
   "execution_count": 47,
   "metadata": {},
   "outputs": [
    {
     "name": "stdout",
     "output_type": "stream",
     "text": [
      "336 ids (out of 2471) have at least one instance of different down and up events.\n"
     ]
    },
    {
     "data": {
      "text/plain": [
       "4.144345238095238"
      ]
     },
     "execution_count": 47,
     "metadata": {},
     "output_type": "execute_result"
    }
   ],
   "source": [
    "# get ids that contain at least one instance of different down and up events\n",
    "ids_diff_events = logs.query('down_event != up_event')['id'].unique()\n",
    "\n",
    "# print number of ids\n",
    "print(f'{len(ids_diff_events)} ids (out of {logs.id.nunique()}) have at least one instance of different down and up events.')\n",
    "\n",
    "# index into scores and get mean score for ids_diff_events\n",
    "scores.query('id in @ids_diff_events')['score'].mean()"
   ]
  },
  {
   "cell_type": "markdown",
   "metadata": {},
   "source": [
    "- Only about 13% of our writers had at least one instance of different down and up events.\n",
    "- Their mean sore was 4.14, which is actually 0.44 points above the overall mean."
   ]
  },
  {
   "cell_type": "markdown",
   "metadata": {},
   "source": [
    "### Unique Events"
   ]
  },
  {
   "cell_type": "code",
   "execution_count": 48,
   "metadata": {},
   "outputs": [
    {
     "name": "stdout",
     "output_type": "stream",
     "text": [
      "132\n",
      "['!', '\"', '#', '$', '%', '&', \"'\", '(', ')', '*', '+', ',', '-', '.', '/', '0', '1', '2', '5', ':', ';', '<', '=', '>', '?', '@', 'A', 'Alt', 'AltGraph', 'ArrowDown', 'ArrowLeft', 'ArrowRight', 'ArrowUp', 'AudioVolumeDown', 'AudioVolumeMute', 'AudioVolumeUp', 'Backspace', 'C', 'Cancel', 'CapsLock', 'Clear', 'ContextMenu', 'Control', 'Dead', 'Delete', 'End', 'Enter', 'Escape', 'F', 'F1', 'F10', 'F11', 'F12', 'F15', 'F2', 'F3', 'F6', 'Home', 'I', 'Insert', 'Leftclick', 'M', 'MediaPlayPause', 'MediaTrackNext', 'MediaTrackPrevious', 'Meta', 'Middleclick', 'ModeChange', 'NumLock', 'OS', 'PageDown', 'PageUp', 'Pause', 'Process', 'Rightclick', 'S', 'ScrollLock', 'Shift', 'Space', 'T', 'Tab', 'Unidentified', 'Unknownclick', 'V', '[', '\\\\', ']', '^', '_', '`', 'a', 'b', 'c', 'd', 'e', 'f', 'g', 'h', 'i', 'j', 'k', 'l', 'm', 'n', 'o', 'p', 'q', 'r', 's', 't', 'u', 'v', 'w', 'x', 'y', 'z', '{', '|', '}', '~', '\\x80', '\\x96', '\\x97', '\\x9b', '¡', '¿', 'Â´', 'Ä±', 'Å\\x9f', 'Ë\\x86', 'â\\x80\\x93', 'ä']\n"
     ]
    }
   ],
   "source": [
    "# unique down + up events\n",
    "unique_events = list(set(logs['down_event'].unique()) | set(logs['up_event'].unique()))\n",
    "print(len(unique_events))\n",
    "print(sorted(unique_events))"
   ]
  },
  {
   "cell_type": "markdown",
   "metadata": {},
   "source": [
    "- 132 unique events.\n",
    "- Many of the strange events are improper encodings (\"â\\x80\\x93\" = \"-\"). I will remap these, and do the same for the text_change column."
   ]
  },
  {
   "cell_type": "code",
   "execution_count": 4,
   "metadata": {},
   "outputs": [
    {
     "data": {
      "image/png": "[encoded data removed]",
      "text/plain": [
       "<Figure size 1500x500 with 2 Axes>"
      ]
     },
     "metadata": {},
     "output_type": "display_data"
    }
   ],
   "source": [
    "# create encodings\n",
    "encodings = {\n",
    "    '\\x80': '€',  # Euro sign (Windows-1252)\n",
    "    '\\x96': '–',  # En dash (Windows-1252)\n",
    "    '\\x97': '—',  # Em dash (Windows-1252)\n",
    "    '\\x9b': '‚',  # Single low quotation mark (Windows-1252)\n",
    "    'Â´': '´',  # Acute accent (UTF-8)\n",
    "    'Ä±': 'ı',  # Dotless 'i' (Turkish, UTF-8)\n",
    "    'Å\\x9f': 'ş',  # S-cedilla (Turkish, UTF-8)\n",
    "    'Ë\\x86': 'ˆ',  # Circumflex modifier (UTF-8)\n",
    "    'â\\x80\\x93': '–'  # En dash (UTF-8)\n",
    "}\n",
    "\n",
    "# map to both down and up events\n",
    "logs['down_event'] = logs['down_event'].replace(encodings)\n",
    "logs['up_event'] = logs['up_event'].replace(encodings)\n",
    "logs['text_change'] = logs['text_change'].replace(encodings)\n",
    "\n",
    "# plot the top 30 most common down_event and up_event\n",
    "top_down_events = logs['down_event'].value_counts(normalize=True)[:10]\n",
    "top_up_events = logs['up_event'].value_counts(normalize=True)[:10]\n",
    "\n",
    "# plot both as barcharts\n",
    "fig, ax = plt.subplots(1, 2, figsize=(15, 5))\n",
    "top_down_events.plot(kind='bar', ax=ax[0], color='skyblue', edgecolor='black')\n",
    "top_up_events.plot(kind='bar', ax=ax[1], color='skyblue', edgecolor='black')\n",
    "ax[0].set_title('Top 10 down_event')\n",
    "ax[1].set_title('Top 10 up_event')\n",
    "plt.tight_layout()\n",
    "plt.show()"
   ]
  },
  {
   "cell_type": "markdown",
   "metadata": {},
   "source": [
    "- The 'q' action makes up over 60% of our events. This character is simply a fill-in value for and character (a-z) input."
   ]
  },
  {
   "cell_type": "code",
   "execution_count": 53,
   "metadata": {},
   "outputs": [
    {
     "data": {
      "text/plain": [
       "activity\n",
       "Nonproduction    9\n",
       "Paste            4\n",
       "Replace          2\n",
       "Name: count, dtype: int64"
      ]
     },
     "execution_count": 53,
     "metadata": {},
     "output_type": "execute_result"
    }
   ],
   "source": [
    "# inspect the 8 capital chars\n",
    "acfimstv = ['A', 'C', 'F', 'I', 'M', 'S', 'T', 'V']\n",
    "logs.query('down_event in @acfimstv or up_event in @acfimstv').activity.value_counts()"
   ]
  },
  {
   "cell_type": "markdown",
   "metadata": {},
   "source": [
    "- The capital char events are rare, and only found in \"Nonproduction\", \"Replace\", and \"Paste\" activities."
   ]
  },
  {
   "cell_type": "markdown",
   "metadata": {},
   "source": [
    "## Cursor Position"
   ]
  },
  {
   "cell_type": "code",
   "execution_count": 17,
   "metadata": {},
   "outputs": [
    {
     "data": {
      "image/png": "[encoded data removed]",
      "text/plain": [
       "<Figure size 640x480 with 1 Axes>"
      ]
     },
     "metadata": {},
     "output_type": "display_data"
    },
    {
     "data": {
      "text/html": [
       "<div>\n",
       "<style scoped>\n",
       "    .dataframe tbody tr th:only-of-type {\n",
       "        vertical-align: middle;\n",
       "    }\n",
       "\n",
       "    .dataframe tbody tr th {\n",
       "        vertical-align: top;\n",
       "    }\n",
       "\n",
       "    .dataframe thead th {\n",
       "        text-align: right;\n",
       "    }\n",
       "</style>\n",
       "<table border=\"1\" class=\"dataframe\">\n",
       "  <thead>\n",
       "    <tr style=\"text-align: right;\">\n",
       "      <th></th>\n",
       "      <th>count</th>\n",
       "      <th>mean</th>\n",
       "      <th>std</th>\n",
       "      <th>min</th>\n",
       "      <th>25%</th>\n",
       "      <th>50%</th>\n",
       "      <th>75%</th>\n",
       "      <th>max</th>\n",
       "    </tr>\n",
       "  </thead>\n",
       "  <tbody>\n",
       "    <tr>\n",
       "      <th>cursor_position</th>\n",
       "      <td>2471.0</td>\n",
       "      <td>1839.578308</td>\n",
       "      <td>1014.585047</td>\n",
       "      <td>0.0</td>\n",
       "      <td>1210.5</td>\n",
       "      <td>1624.0</td>\n",
       "      <td>2345.0</td>\n",
       "      <td>7534.0</td>\n",
       "    </tr>\n",
       "  </tbody>\n",
       "</table>\n",
       "</div>"
      ],
      "text/plain": [
       "                  count         mean          std  min     25%     50%  \\\n",
       "cursor_position  2471.0  1839.578308  1014.585047  0.0  1210.5  1624.0   \n",
       "\n",
       "                    75%     max  \n",
       "cursor_position  2345.0  7534.0  "
      ]
     },
     "execution_count": 17,
     "metadata": {},
     "output_type": "execute_result"
    }
   ],
   "source": [
    "# get final cursor_position value for each id\n",
    "final_cursor_position = logs.groupby('id')['cursor_position'].last()\n",
    "\n",
    "# plot\n",
    "final_cursor_position.plot(kind='hist', bins=20, color='skyblue', edgecolor='black')\n",
    "plt.title('Final cursor_position')\n",
    "plt.tight_layout()\n",
    "plt.show()\n",
    "\n",
    "# describe\n",
    "final_cursor_position.describe().to_frame().T"
   ]
  },
  {
   "cell_type": "code",
   "execution_count": 18,
   "metadata": {},
   "outputs": [
    {
     "data": {
      "text/html": [
       "<div>\n",
       "<style scoped>\n",
       "    .dataframe tbody tr th:only-of-type {\n",
       "        vertical-align: middle;\n",
       "    }\n",
       "\n",
       "    .dataframe tbody tr th {\n",
       "        vertical-align: top;\n",
       "    }\n",
       "\n",
       "    .dataframe thead th {\n",
       "        text-align: right;\n",
       "    }\n",
       "</style>\n",
       "<table border=\"1\" class=\"dataframe\">\n",
       "  <thead>\n",
       "    <tr style=\"text-align: right;\">\n",
       "      <th></th>\n",
       "      <th>score</th>\n",
       "      <th>cursor_position</th>\n",
       "    </tr>\n",
       "  </thead>\n",
       "  <tbody>\n",
       "    <tr>\n",
       "      <th>score</th>\n",
       "      <td>1.000000</td>\n",
       "      <td>0.476897</td>\n",
       "    </tr>\n",
       "    <tr>\n",
       "      <th>cursor_position</th>\n",
       "      <td>0.476897</td>\n",
       "      <td>1.000000</td>\n",
       "    </tr>\n",
       "  </tbody>\n",
       "</table>\n",
       "</div>"
      ],
      "text/plain": [
       "                    score  cursor_position\n",
       "score            1.000000         0.476897\n",
       "cursor_position  0.476897         1.000000"
      ]
     },
     "execution_count": 18,
     "metadata": {},
     "output_type": "execute_result"
    }
   ],
   "source": [
    "# map scores to final_cursor_position and view correlation\n",
    "final_cursor_position_score = final_cursor_position.to_frame().merge(scores, left_index=True, right_on='id')\n",
    "final_cursor_position_score[['score', 'cursor_position']].corr()"
   ]
  },
  {
   "cell_type": "code",
   "execution_count": 19,
   "metadata": {},
   "outputs": [
    {
     "data": {
      "text/html": [
       "<div>\n",
       "<style scoped>\n",
       "    .dataframe tbody tr th:only-of-type {\n",
       "        vertical-align: middle;\n",
       "    }\n",
       "\n",
       "    .dataframe tbody tr th {\n",
       "        vertical-align: top;\n",
       "    }\n",
       "\n",
       "    .dataframe thead th {\n",
       "        text-align: right;\n",
       "    }\n",
       "</style>\n",
       "<table border=\"1\" class=\"dataframe\">\n",
       "  <thead>\n",
       "    <tr style=\"text-align: right;\">\n",
       "      <th></th>\n",
       "      <th>score</th>\n",
       "      <th>cursor_position</th>\n",
       "    </tr>\n",
       "  </thead>\n",
       "  <tbody>\n",
       "    <tr>\n",
       "      <th>score</th>\n",
       "      <td>1.000000</td>\n",
       "      <td>0.622665</td>\n",
       "    </tr>\n",
       "    <tr>\n",
       "      <th>cursor_position</th>\n",
       "      <td>0.622665</td>\n",
       "      <td>1.000000</td>\n",
       "    </tr>\n",
       "  </tbody>\n",
       "</table>\n",
       "</div>"
      ],
      "text/plain": [
       "                    score  cursor_position\n",
       "score            1.000000         0.622665\n",
       "cursor_position  0.622665         1.000000"
      ]
     },
     "execution_count": 19,
     "metadata": {},
     "output_type": "execute_result"
    }
   ],
   "source": [
    "# get mean cursor_position for each id\n",
    "mean_cursor_position = logs.groupby('id')['cursor_position'].mean()\n",
    "\n",
    "# view correlation\n",
    "mean_cursor_position_score = mean_cursor_position.to_frame().merge(scores, left_index=True, right_on='id')\n",
    "mean_cursor_position_score[['score', 'cursor_position']].corr()"
   ]
  },
  {
   "cell_type": "markdown",
   "metadata": {},
   "source": [
    "- Cursor position has a moderate positive correlation with the essay score."
   ]
  },
  {
   "cell_type": "markdown",
   "metadata": {},
   "source": [
    "## Word Count"
   ]
  },
  {
   "cell_type": "code",
   "execution_count": 11,
   "metadata": {},
   "outputs": [
    {
     "data": {
      "image/png": "[encoded data removed]",
      "text/plain": [
       "<Figure size 640x480 with 1 Axes>"
      ]
     },
     "metadata": {},
     "output_type": "display_data"
    },
    {
     "data": {
      "text/html": [
       "<div>\n",
       "<style scoped>\n",
       "    .dataframe tbody tr th:only-of-type {\n",
       "        vertical-align: middle;\n",
       "    }\n",
       "\n",
       "    .dataframe tbody tr th {\n",
       "        vertical-align: top;\n",
       "    }\n",
       "\n",
       "    .dataframe thead th {\n",
       "        text-align: right;\n",
       "    }\n",
       "</style>\n",
       "<table border=\"1\" class=\"dataframe\">\n",
       "  <thead>\n",
       "    <tr style=\"text-align: right;\">\n",
       "      <th></th>\n",
       "      <th>count</th>\n",
       "      <th>mean</th>\n",
       "      <th>std</th>\n",
       "      <th>min</th>\n",
       "      <th>25%</th>\n",
       "      <th>50%</th>\n",
       "      <th>75%</th>\n",
       "      <th>max</th>\n",
       "    </tr>\n",
       "  </thead>\n",
       "  <tbody>\n",
       "    <tr>\n",
       "      <th>word_count</th>\n",
       "      <td>2471.0</td>\n",
       "      <td>386.1121</td>\n",
       "      <td>171.773394</td>\n",
       "      <td>35.0</td>\n",
       "      <td>250.0</td>\n",
       "      <td>346.0</td>\n",
       "      <td>477.0</td>\n",
       "      <td>1326.0</td>\n",
       "    </tr>\n",
       "  </tbody>\n",
       "</table>\n",
       "</div>"
      ],
      "text/plain": [
       "             count      mean         std   min    25%    50%    75%     max\n",
       "word_count  2471.0  386.1121  171.773394  35.0  250.0  346.0  477.0  1326.0"
      ]
     },
     "execution_count": 11,
     "metadata": {},
     "output_type": "execute_result"
    }
   ],
   "source": [
    "# get final word_count value for each id\n",
    "final_word_count = logs.groupby('id')['word_count'].last()\n",
    "\n",
    "# plot\n",
    "final_word_count.plot(kind='hist', bins=20, color='skyblue', edgecolor='black')\n",
    "plt.title('Final word_count')\n",
    "plt.tight_layout()\n",
    "plt.show()\n",
    "\n",
    "# describe\n",
    "final_word_count.describe().to_frame().T"
   ]
  },
  {
   "cell_type": "markdown",
   "metadata": {},
   "source": [
    "- Most word counts fell in the range of 200-500 words."
   ]
  },
  {
   "cell_type": "code",
   "execution_count": 15,
   "metadata": {},
   "outputs": [
    {
     "data": {
      "text/html": [
       "<div>\n",
       "<style scoped>\n",
       "    .dataframe tbody tr th:only-of-type {\n",
       "        vertical-align: middle;\n",
       "    }\n",
       "\n",
       "    .dataframe tbody tr th {\n",
       "        vertical-align: top;\n",
       "    }\n",
       "\n",
       "    .dataframe thead th {\n",
       "        text-align: right;\n",
       "    }\n",
       "</style>\n",
       "<table border=\"1\" class=\"dataframe\">\n",
       "  <thead>\n",
       "    <tr style=\"text-align: right;\">\n",
       "      <th></th>\n",
       "      <th>score</th>\n",
       "      <th>word_count</th>\n",
       "    </tr>\n",
       "  </thead>\n",
       "  <tbody>\n",
       "    <tr>\n",
       "      <th>score</th>\n",
       "      <td>1.000000</td>\n",
       "      <td>0.640241</td>\n",
       "    </tr>\n",
       "    <tr>\n",
       "      <th>word_count</th>\n",
       "      <td>0.640241</td>\n",
       "      <td>1.000000</td>\n",
       "    </tr>\n",
       "  </tbody>\n",
       "</table>\n",
       "</div>"
      ],
      "text/plain": [
       "               score  word_count\n",
       "score       1.000000    0.640241\n",
       "word_count  0.640241    1.000000"
      ]
     },
     "execution_count": 15,
     "metadata": {},
     "output_type": "execute_result"
    }
   ],
   "source": [
    "# map scores to final_word_count and view correlation\n",
    "final_word_count_score = final_word_count.to_frame().merge(scores, left_index=True, right_on='id')\n",
    "final_word_count_score[['score', 'word_count']].corr()"
   ]
  },
  {
   "cell_type": "markdown",
   "metadata": {},
   "source": [
    "- Final word count has a moderate positive correlation with the essay's score."
   ]
  },
  {
   "cell_type": "markdown",
   "metadata": {},
   "source": [
    "# Feature Engineering"
   ]
  },
  {
   "cell_type": "code",
   "execution_count": 4,
   "metadata": {},
   "outputs": [
    {
     "name": "stdout",
     "output_type": "stream",
     "text": [
      "(2471, 16)\n"
     ]
    },
    {
     "data": {
      "text/html": [
       "<div>\n",
       "<style scoped>\n",
       "    .dataframe tbody tr th:only-of-type {\n",
       "        vertical-align: middle;\n",
       "    }\n",
       "\n",
       "    .dataframe tbody tr th {\n",
       "        vertical-align: top;\n",
       "    }\n",
       "\n",
       "    .dataframe thead th {\n",
       "        text-align: right;\n",
       "    }\n",
       "</style>\n",
       "<table border=\"1\" class=\"dataframe\">\n",
       "  <thead>\n",
       "    <tr style=\"text-align: right;\">\n",
       "      <th></th>\n",
       "      <th>id</th>\n",
       "      <th>start_delay</th>\n",
       "      <th>tot_time</th>\n",
       "      <th>num_actions</th>\n",
       "      <th>mean_action_time</th>\n",
       "      <th>std_action_time</th>\n",
       "      <th>prop_nonproduction</th>\n",
       "      <th>prop_input</th>\n",
       "      <th>prop_remove_cut</th>\n",
       "      <th>prop_replace</th>\n",
       "      <th>prop_move</th>\n",
       "      <th>prop_paste</th>\n",
       "      <th>cursor_retraction</th>\n",
       "      <th>word_retraction</th>\n",
       "      <th>final_word_count</th>\n",
       "      <th>final_word_count_squared</th>\n",
       "    </tr>\n",
       "  </thead>\n",
       "  <tbody>\n",
       "    <tr>\n",
       "      <th>708</th>\n",
       "      <td>4b40b5c0</td>\n",
       "      <td>2313</td>\n",
       "      <td>126483</td>\n",
       "      <td>1502</td>\n",
       "      <td>84.20972</td>\n",
       "      <td>35.404345</td>\n",
       "      <td>0.061917</td>\n",
       "      <td>0.877497</td>\n",
       "      <td>0.060586</td>\n",
       "      <td>0.0</td>\n",
       "      <td>0.0</td>\n",
       "      <td>0.0</td>\n",
       "      <td>103</td>\n",
       "      <td>19</td>\n",
       "      <td>219</td>\n",
       "      <td>47961</td>\n",
       "    </tr>\n",
       "  </tbody>\n",
       "</table>\n",
       "</div>"
      ],
      "text/plain": [
       "           id  start_delay  tot_time  num_actions  mean_action_time  \\\n",
       "708  4b40b5c0         2313    126483         1502          84.20972   \n",
       "\n",
       "     std_action_time  prop_nonproduction  prop_input  prop_remove_cut  \\\n",
       "708        35.404345            0.061917    0.877497         0.060586   \n",
       "\n",
       "     prop_replace  prop_move  prop_paste  cursor_retraction  word_retraction  \\\n",
       "708           0.0        0.0         0.0                103               19   \n",
       "\n",
       "     final_word_count  final_word_count_squared  \n",
       "708               219                     47961  "
      ]
     },
     "execution_count": 4,
     "metadata": {},
     "output_type": "execute_result"
    }
   ],
   "source": [
    "# create features\n",
    "features = create_features(logs)\n",
    "\n",
    "# check\n",
    "print(features.shape)\n",
    "features.sample()"
   ]
  },
  {
   "cell_type": "code",
   "execution_count": 5,
   "metadata": {},
   "outputs": [
    {
     "data": {
      "image/png": "[encoded data removed]",
      "text/plain": [
       "<Figure size 2000x1000 with 15 Axes>"
      ]
     },
     "metadata": {},
     "output_type": "display_data"
    }
   ],
   "source": [
    "# plot histograms for all 15 features (check for normality)\n",
    "n_rows = 3\n",
    "n_cols = 5\n",
    "fig, ax = plt.subplots(n_rows, n_cols, figsize=(20, 10))\n",
    "for i, col in enumerate(features.columns[1:]):\n",
    "    sns.histplot(features[col], ax=ax[i // n_cols, i % n_cols], color='skyblue', edgecolor='black')\n",
    "    ax[i // n_cols, i % n_cols].set_title(col)\n",
    "plt.tight_layout()\n",
    "plt.show()"
   ]
  },
  {
   "cell_type": "markdown",
   "metadata": {},
   "source": [
    "- The only feature that looks normally distributed is mean_action_time.\n",
    "- We will use MinMaxScaler instead of StandaradScaler to address these non-normal distributions."
   ]
  },
  {
   "cell_type": "markdown",
   "metadata": {},
   "source": [
    "# Baseline (Linear Regression)"
   ]
  },
  {
   "cell_type": "code",
   "execution_count": null,
   "metadata": {},
   "outputs": [
    {
     "name": "stdout",
     "output_type": "stream",
     "text": [
      "RMSE: 0.7248\n"
     ]
    },
    {
     "data": {
      "image/png": "[encoded data removed]",
      "text/plain": [
       "<Figure size 1800x900 with 1 Axes>"
      ]
     },
     "metadata": {},
     "output_type": "display_data"
    },
    {
     "data": {
      "text/html": [
       "<div>\n",
       "<style scoped>\n",
       "    .dataframe tbody tr th:only-of-type {\n",
       "        vertical-align: middle;\n",
       "    }\n",
       "\n",
       "    .dataframe tbody tr th {\n",
       "        vertical-align: top;\n",
       "    }\n",
       "\n",
       "    .dataframe thead th {\n",
       "        text-align: right;\n",
       "    }\n",
       "</style>\n",
       "<table border=\"1\" class=\"dataframe\">\n",
       "  <thead>\n",
       "    <tr style=\"text-align: right;\">\n",
       "      <th></th>\n",
       "      <th>count</th>\n",
       "      <th>mean</th>\n",
       "      <th>std</th>\n",
       "      <th>min</th>\n",
       "      <th>25%</th>\n",
       "      <th>50%</th>\n",
       "      <th>75%</th>\n",
       "      <th>max</th>\n",
       "    </tr>\n",
       "  </thead>\n",
       "  <tbody>\n",
       "    <tr>\n",
       "      <th>preds</th>\n",
       "      <td>2471.0</td>\n",
       "      <td>3.709317</td>\n",
       "      <td>0.736617</td>\n",
       "      <td>0.685547</td>\n",
       "      <td>3.066317</td>\n",
       "      <td>3.671875</td>\n",
       "      <td>4.310791</td>\n",
       "      <td>5.572266</td>\n",
       "    </tr>\n",
       "  </tbody>\n",
       "</table>\n",
       "</div>"
      ],
      "text/plain": [
       "        count      mean       std       min       25%       50%       75%  \\\n",
       "preds  2471.0  3.709317  0.736617  0.685547  3.066317  3.671875  4.310791   \n",
       "\n",
       "            max  \n",
       "preds  5.572266  "
      ]
     },
     "execution_count": 11,
     "metadata": {},
     "output_type": "execute_result"
    }
   ],
   "source": [
    "# map scores to features\n",
    "features_scores = features.merge(scores, on='id')\n",
    "\n",
    "# define a pipeline\n",
    "model = LinearRegression()\n",
    "scaler = MinMaxScaler()\n",
    "pipeline = Pipeline([('scaler', scaler), ('model', model)])\n",
    "\n",
    "# get X and y\n",
    "X = features_scores.drop(columns=['id', 'score'])\n",
    "y = features_scores['score']\n",
    "\n",
    "# get preds\n",
    "preds = cross_val_predict(pipeline, X, y, cv=10)\n",
    "\n",
    "# round to nearest 0.5\n",
    "rounded_preds = np.round(preds * 2) / 2\n",
    "\n",
    "# clip to 0.5-6\n",
    "final_preds = np.clip(preds, 0.5, 6)\n",
    "\n",
    "# print RMSE\n",
    "rmse = root_mean_squared_error(y, final_preds)\n",
    "print(f'RMSE: {rmse:.4f}')\n",
    "\n",
    "# convert to df\n",
    "preds_df = pd.DataFrame(final_preds, columns=['preds'])\n",
    "\n",
    "# plot\n",
    "plot_hist_with_annot(preds_df, 'preds', bins=None, vertical_lines=[1.25, 2.75, 4.75])\n",
    "preds_df.describe().T"
   ]
  },
  {
   "cell_type": "markdown",
   "metadata": {},
   "source": [
    "- The model has a tendency to predict values 3-5 much more frequently than they actually occur.\n",
    "- In the original scores distribution, about 17% of the data had a score of 2.5 or less. The model is predicting in this range very rarely.\n",
    "- I did also try rounding the predictions to the nearest 0.5, but loss increased. Standardizing the preds (attempting to shift the distribution left) also increased RMSE."
   ]
  },
  {
   "cell_type": "code",
   "execution_count": null,
   "metadata": {},
   "outputs": [
    {
     "data": {
      "image/png": "[encoded data removed]",
      "text/plain": [
       "<Figure size 640x480 with 1 Axes>"
      ]
     },
     "metadata": {},
     "output_type": "display_data"
    }
   ],
   "source": [
    "# scatterplot with predicted on x and actual on y\n",
    "plt.scatter(y, final_preds, c='skyblue', edgecolor='black')\n",
    "plt.xlabel('Actual')\n",
    "plt.ylabel('Predicted')\n",
    "\n",
    "# add a diagonal line\n",
    "plt.plot([0, 6], [0, 6], color='red')\n",
    "plt.tight_layout()\n",
    "plt.show()"
   ]
  },
  {
   "cell_type": "markdown",
   "metadata": {},
   "source": [
    "- The linear model usually overpredicts for the lower scores, and overpredicts for the higher scores.\n",
    "- We will hypertune a non-linear model (XGBoost) to hopefully overcome these pitfalls."
   ]
  },
  {
   "cell_type": "markdown",
   "metadata": {},
   "source": [
    "# XGBoost"
   ]
  },
  {
   "cell_type": "code",
   "execution_count": 17,
   "metadata": {},
   "outputs": [
    {
     "name": "stdout",
     "output_type": "stream",
     "text": [
      "|   iter    |  target   | colsam... | colsam... | colsam... |   gamma   | learni... | max_depth | min_ch... | n_esti... | subsample |\n",
      "-------------------------------------------------------------------------------------------------------------------------------------\n",
      "| \u001b[0m1        \u001b[0m | \u001b[0m-0.6957  \u001b[0m | \u001b[0m0.5052   \u001b[0m | \u001b[0m0.7509   \u001b[0m | \u001b[0m0.7479   \u001b[0m | \u001b[0m0.06691  \u001b[0m | \u001b[0m0.01507  \u001b[0m | \u001b[0m4.53     \u001b[0m | \u001b[0m4.767    \u001b[0m | \u001b[0m323.3    \u001b[0m | \u001b[0m0.542    \u001b[0m |\n",
      "| \u001b[0m2        \u001b[0m | \u001b[0m-0.7037  \u001b[0m | \u001b[0m0.6727   \u001b[0m | \u001b[0m0.5834   \u001b[0m | \u001b[0m0.9393   \u001b[0m | \u001b[0m0.4755   \u001b[0m | \u001b[0m0.004836 \u001b[0m | \u001b[0m7.894    \u001b[0m | \u001b[0m6.155    \u001b[0m | \u001b[0m908.2    \u001b[0m | \u001b[0m0.8334   \u001b[0m |\n",
      "| \u001b[0m3        \u001b[0m | \u001b[0m-0.7121  \u001b[0m | \u001b[0m0.7739   \u001b[0m | \u001b[0m0.8512   \u001b[0m | \u001b[0m0.6932   \u001b[0m | \u001b[0m0.3472   \u001b[0m | \u001b[0m0.08266  \u001b[0m | \u001b[0m6.26     \u001b[0m | \u001b[0m9.465    \u001b[0m | \u001b[0m823.4    \u001b[0m | \u001b[0m0.9917   \u001b[0m |\n",
      "| \u001b[0m4        \u001b[0m | \u001b[0m-0.7168  \u001b[0m | \u001b[0m0.5848   \u001b[0m | \u001b[0m0.7605   \u001b[0m | \u001b[0m0.9728   \u001b[0m | \u001b[0m0.3248   \u001b[0m | \u001b[0m0.08622  \u001b[0m | \u001b[0m9.796    \u001b[0m | \u001b[0m2.67     \u001b[0m | \u001b[0m318.8    \u001b[0m | \u001b[0m0.9367   \u001b[0m |\n",
      "| \u001b[0m5        \u001b[0m | \u001b[0m-0.7204  \u001b[0m | \u001b[0m0.9531   \u001b[0m | \u001b[0m0.8791   \u001b[0m | \u001b[0m0.6735   \u001b[0m | \u001b[0m0.2318   \u001b[0m | \u001b[0m0.06144  \u001b[0m | \u001b[0m6.474    \u001b[0m | \u001b[0m5.302    \u001b[0m | \u001b[0m492.0    \u001b[0m | \u001b[0m0.9352   \u001b[0m |\n",
      "| \u001b[0m6        \u001b[0m | \u001b[0m-0.7023  \u001b[0m | \u001b[0m0.5937   \u001b[0m | \u001b[0m0.8438   \u001b[0m | \u001b[0m0.8518   \u001b[0m | \u001b[0m0.4626   \u001b[0m | \u001b[0m0.004906 \u001b[0m | \u001b[0m7.53     \u001b[0m | \u001b[0m6.742    \u001b[0m | \u001b[0m515.5    \u001b[0m | \u001b[0m0.5265   \u001b[0m |\n",
      "| \u001b[0m7        \u001b[0m | \u001b[0m-0.7055  \u001b[0m | \u001b[0m0.5193   \u001b[0m | \u001b[0m0.5848   \u001b[0m | \u001b[0m0.8973   \u001b[0m | \u001b[0m0.0813   \u001b[0m | \u001b[0m0.01474  \u001b[0m | \u001b[0m5.47     \u001b[0m | \u001b[0m5.36     \u001b[0m | \u001b[0m728.0    \u001b[0m | \u001b[0m0.9006   \u001b[0m |\n",
      "| \u001b[0m8        \u001b[0m | \u001b[0m-0.7087  \u001b[0m | \u001b[0m0.6334   \u001b[0m | \u001b[0m0.9547   \u001b[0m | \u001b[0m0.5114   \u001b[0m | \u001b[0m0.1876   \u001b[0m | \u001b[0m0.02076  \u001b[0m | \u001b[0m5.4      \u001b[0m | \u001b[0m4.997    \u001b[0m | \u001b[0m548.3    \u001b[0m | \u001b[0m0.7072   \u001b[0m |\n",
      "| \u001b[0m9        \u001b[0m | \u001b[0m-0.7125  \u001b[0m | \u001b[0m0.6071   \u001b[0m | \u001b[0m0.6083   \u001b[0m | \u001b[0m0.6162   \u001b[0m | \u001b[0m0.3645   \u001b[0m | \u001b[0m0.04218  \u001b[0m | \u001b[0m7.087    \u001b[0m | \u001b[0m5.449    \u001b[0m | \u001b[0m487.0    \u001b[0m | \u001b[0m0.8674   \u001b[0m |\n",
      "| \u001b[0m10       \u001b[0m | \u001b[0m-0.7014  \u001b[0m | \u001b[0m0.7781   \u001b[0m | \u001b[0m0.6513   \u001b[0m | \u001b[0m0.9854   \u001b[0m | \u001b[0m0.1124   \u001b[0m | \u001b[0m0.01474  \u001b[0m | \u001b[0m7.305    \u001b[0m | \u001b[0m5.427    \u001b[0m | \u001b[0m264.8    \u001b[0m | \u001b[0m0.5547   \u001b[0m |\n",
      "| \u001b[0m11       \u001b[0m | \u001b[0m-0.7107  \u001b[0m | \u001b[0m0.6912   \u001b[0m | \u001b[0m0.6206   \u001b[0m | \u001b[0m0.745    \u001b[0m | \u001b[0m0.1635   \u001b[0m | \u001b[0m0.07388  \u001b[0m | \u001b[0m3.698    \u001b[0m | \u001b[0m4.989    \u001b[0m | \u001b[0m325.3    \u001b[0m | \u001b[0m0.9495   \u001b[0m |\n",
      "| \u001b[0m12       \u001b[0m | \u001b[0m-0.7359  \u001b[0m | \u001b[0m0.7491   \u001b[0m | \u001b[0m0.7031   \u001b[0m | \u001b[0m0.7346   \u001b[0m | \u001b[0m0.1904   \u001b[0m | \u001b[0m0.04156  \u001b[0m | \u001b[0m7.179    \u001b[0m | \u001b[0m3.84     \u001b[0m | \u001b[0m528.5    \u001b[0m | \u001b[0m0.5344   \u001b[0m |\n",
      "| \u001b[0m13       \u001b[0m | \u001b[0m-0.7026  \u001b[0m | \u001b[0m0.7661   \u001b[0m | \u001b[0m0.5324   \u001b[0m | \u001b[0m0.5115   \u001b[0m | \u001b[0m0.08067  \u001b[0m | \u001b[0m0.01362  \u001b[0m | \u001b[0m7.347    \u001b[0m | \u001b[0m9.228    \u001b[0m | \u001b[0m394.7    \u001b[0m | \u001b[0m0.5208   \u001b[0m |\n",
      "| \u001b[0m14       \u001b[0m | \u001b[0m-0.7353  \u001b[0m | \u001b[0m0.5087   \u001b[0m | \u001b[0m0.7898   \u001b[0m | \u001b[0m0.5407   \u001b[0m | \u001b[0m0.4511   \u001b[0m | \u001b[0m0.09865  \u001b[0m | \u001b[0m8.65     \u001b[0m | \u001b[0m5.788    \u001b[0m | \u001b[0m870.8    \u001b[0m | \u001b[0m0.594    \u001b[0m |\n",
      "| \u001b[0m15       \u001b[0m | \u001b[0m-0.7305  \u001b[0m | \u001b[0m0.8161   \u001b[0m | \u001b[0m0.7165   \u001b[0m | \u001b[0m0.5716   \u001b[0m | \u001b[0m0.1779   \u001b[0m | \u001b[0m0.08184  \u001b[0m | \u001b[0m5.241    \u001b[0m | \u001b[0m3.815    \u001b[0m | \u001b[0m323.7    \u001b[0m | \u001b[0m0.7253   \u001b[0m |\n",
      "| \u001b[0m16       \u001b[0m | \u001b[0m-0.7284  \u001b[0m | \u001b[0m0.7853   \u001b[0m | \u001b[0m0.8142   \u001b[0m | \u001b[0m0.5363   \u001b[0m | \u001b[0m0.001289 \u001b[0m | \u001b[0m0.0464   \u001b[0m | \u001b[0m9.009    \u001b[0m | \u001b[0m2.743    \u001b[0m | \u001b[0m290.2    \u001b[0m | \u001b[0m0.6526   \u001b[0m |\n",
      "| \u001b[0m17       \u001b[0m | \u001b[0m-0.7447  \u001b[0m | \u001b[0m0.8832   \u001b[0m | \u001b[0m0.6289   \u001b[0m | \u001b[0m0.7997   \u001b[0m | \u001b[0m0.1553   \u001b[0m | \u001b[0m0.06106  \u001b[0m | \u001b[0m4.367    \u001b[0m | \u001b[0m1.255    \u001b[0m | \u001b[0m890.5    \u001b[0m | \u001b[0m0.6733   \u001b[0m |\n",
      "| \u001b[0m18       \u001b[0m | \u001b[0m-0.7107  \u001b[0m | \u001b[0m0.5782   \u001b[0m | \u001b[0m0.9901   \u001b[0m | \u001b[0m0.8445   \u001b[0m | \u001b[0m0.1811   \u001b[0m | \u001b[0m0.01429  \u001b[0m | \u001b[0m5.838    \u001b[0m | \u001b[0m4.543    \u001b[0m | \u001b[0m893.2    \u001b[0m | \u001b[0m0.6022   \u001b[0m |\n",
      "| \u001b[0m19       \u001b[0m | \u001b[0m-0.7218  \u001b[0m | \u001b[0m0.677    \u001b[0m | \u001b[0m0.7075   \u001b[0m | \u001b[0m0.785    \u001b[0m | \u001b[0m0.323    \u001b[0m | \u001b[0m0.05158  \u001b[0m | \u001b[0m5.429    \u001b[0m | \u001b[0m4.084    \u001b[0m | \u001b[0m311.0    \u001b[0m | \u001b[0m0.5576   \u001b[0m |\n",
      "| \u001b[0m20       \u001b[0m | \u001b[0m-0.7057  \u001b[0m | \u001b[0m0.6374   \u001b[0m | \u001b[0m0.5972   \u001b[0m | \u001b[0m0.946    \u001b[0m | \u001b[0m0.2104   \u001b[0m | \u001b[0m0.01009  \u001b[0m | \u001b[0m9.175    \u001b[0m | \u001b[0m3.265    \u001b[0m | \u001b[0m453.3    \u001b[0m | \u001b[0m0.516    \u001b[0m |\n",
      "| \u001b[0m21       \u001b[0m | \u001b[0m-0.7325  \u001b[0m | \u001b[0m0.617    \u001b[0m | \u001b[0m0.9136   \u001b[0m | \u001b[0m0.6019   \u001b[0m | \u001b[0m0.01861  \u001b[0m | \u001b[0m0.06816  \u001b[0m | \u001b[0m3.309    \u001b[0m | \u001b[0m6.336    \u001b[0m | \u001b[0m867.6    \u001b[0m | \u001b[0m0.8539   \u001b[0m |\n",
      "| \u001b[0m22       \u001b[0m | \u001b[0m-0.7428  \u001b[0m | \u001b[0m0.812    \u001b[0m | \u001b[0m0.9789   \u001b[0m | \u001b[0m0.5139   \u001b[0m | \u001b[0m0.2637   \u001b[0m | \u001b[0m0.09299  \u001b[0m | \u001b[0m5.653    \u001b[0m | \u001b[0m7.991    \u001b[0m | \u001b[0m533.8    \u001b[0m | \u001b[0m0.7441   \u001b[0m |\n",
      "| \u001b[0m23       \u001b[0m | \u001b[0m-0.736   \u001b[0m | \u001b[0m0.9609   \u001b[0m | \u001b[0m0.8194   \u001b[0m | \u001b[0m0.8442   \u001b[0m | \u001b[0m0.1438   \u001b[0m | \u001b[0m0.06032  \u001b[0m | \u001b[0m6.135    \u001b[0m | \u001b[0m2.462    \u001b[0m | \u001b[0m728.3    \u001b[0m | \u001b[0m0.6665   \u001b[0m |\n",
      "| \u001b[0m24       \u001b[0m | \u001b[0m-0.7158  \u001b[0m | \u001b[0m0.6017   \u001b[0m | \u001b[0m0.7586   \u001b[0m | \u001b[0m0.8785   \u001b[0m | \u001b[0m0.2018   \u001b[0m | \u001b[0m0.03283  \u001b[0m | \u001b[0m9.617    \u001b[0m | \u001b[0m8.274    \u001b[0m | \u001b[0m230.8    \u001b[0m | \u001b[0m0.5766   \u001b[0m |\n",
      "| \u001b[0m25       \u001b[0m | \u001b[0m-0.7108  \u001b[0m | \u001b[0m0.8514   \u001b[0m | \u001b[0m0.5355   \u001b[0m | \u001b[0m0.5352   \u001b[0m | \u001b[0m0.1072   \u001b[0m | \u001b[0m0.01184  \u001b[0m | \u001b[0m9.726    \u001b[0m | \u001b[0m1.332    \u001b[0m | \u001b[0m689.3    \u001b[0m | \u001b[0m0.9859   \u001b[0m |\n",
      "| \u001b[0m26       \u001b[0m | \u001b[0m-0.7542  \u001b[0m | \u001b[0m0.5262   \u001b[0m | \u001b[0m0.5845   \u001b[0m | \u001b[0m0.8764   \u001b[0m | \u001b[0m0.1203   \u001b[0m | \u001b[0m0.07418  \u001b[0m | \u001b[0m6.938    \u001b[0m | \u001b[0m8.979    \u001b[0m | \u001b[0m856.8    \u001b[0m | \u001b[0m0.5122   \u001b[0m |\n",
      "| \u001b[0m27       \u001b[0m | \u001b[0m-0.7339  \u001b[0m | \u001b[0m0.6589   \u001b[0m | \u001b[0m0.547    \u001b[0m | \u001b[0m0.5537   \u001b[0m | \u001b[0m0.00712  \u001b[0m | \u001b[0m0.08455  \u001b[0m | \u001b[0m4.697    \u001b[0m | \u001b[0m4.162    \u001b[0m | \u001b[0m373.2    \u001b[0m | \u001b[0m0.5144   \u001b[0m |\n",
      "| \u001b[0m28       \u001b[0m | \u001b[0m-0.7284  \u001b[0m | \u001b[0m0.5678   \u001b[0m | \u001b[0m0.6796   \u001b[0m | \u001b[0m0.7038   \u001b[0m | \u001b[0m0.03246  \u001b[0m | \u001b[0m0.08901  \u001b[0m | \u001b[0m5.713    \u001b[0m | \u001b[0m9.925    \u001b[0m | \u001b[0m262.0    \u001b[0m | \u001b[0m0.6716   \u001b[0m |\n",
      "| \u001b[0m29       \u001b[0m | \u001b[0m-0.7432  \u001b[0m | \u001b[0m0.8302   \u001b[0m | \u001b[0m0.7499   \u001b[0m | \u001b[0m0.9517   \u001b[0m | \u001b[0m0.01397  \u001b[0m | \u001b[0m0.05739  \u001b[0m | \u001b[0m4.432    \u001b[0m | \u001b[0m4.147    \u001b[0m | \u001b[0m747.7    \u001b[0m | \u001b[0m0.68     \u001b[0m |\n",
      "| \u001b[0m30       \u001b[0m | \u001b[0m-0.7346  \u001b[0m | \u001b[0m0.6955   \u001b[0m | \u001b[0m0.6242   \u001b[0m | \u001b[0m0.5717   \u001b[0m | \u001b[0m0.2806   \u001b[0m | \u001b[0m0.09675  \u001b[0m | \u001b[0m5.588    \u001b[0m | \u001b[0m4.538    \u001b[0m | \u001b[0m292.2    \u001b[0m | \u001b[0m0.6951   \u001b[0m |\n",
      "| \u001b[0m31       \u001b[0m | \u001b[0m-0.7     \u001b[0m | \u001b[0m0.8237   \u001b[0m | \u001b[0m0.8957   \u001b[0m | \u001b[0m0.5071   \u001b[0m | \u001b[0m0.1417   \u001b[0m | \u001b[0m0.03659  \u001b[0m | \u001b[0m4.917    \u001b[0m | \u001b[0m2.33     \u001b[0m | \u001b[0m168.9    \u001b[0m | \u001b[0m0.8409   \u001b[0m |\n",
      "| \u001b[0m32       \u001b[0m | \u001b[0m-0.7236  \u001b[0m | \u001b[0m0.7999   \u001b[0m | \u001b[0m0.681    \u001b[0m | \u001b[0m0.8447   \u001b[0m | \u001b[0m0.3568   \u001b[0m | \u001b[0m0.02087  \u001b[0m | \u001b[0m8.215    \u001b[0m | \u001b[0m5.305    \u001b[0m | \u001b[0m865.9    \u001b[0m | \u001b[0m0.5023   \u001b[0m |\n",
      "| \u001b[0m33       \u001b[0m | \u001b[0m-0.7176  \u001b[0m | \u001b[0m0.796    \u001b[0m | \u001b[0m0.9741   \u001b[0m | \u001b[0m0.5448   \u001b[0m | \u001b[0m0.3613   \u001b[0m | \u001b[0m0.09114  \u001b[0m | \u001b[0m3.944    \u001b[0m | \u001b[0m5.46     \u001b[0m | \u001b[0m356.5    \u001b[0m | \u001b[0m0.9032   \u001b[0m |\n",
      "| \u001b[0m34       \u001b[0m | \u001b[0m-0.7031  \u001b[0m | \u001b[0m0.7208   \u001b[0m | \u001b[0m0.9625   \u001b[0m | \u001b[0m0.9365   \u001b[0m | \u001b[0m0.3883   \u001b[0m | \u001b[0m0.01453  \u001b[0m | \u001b[0m5.727    \u001b[0m | \u001b[0m6.694    \u001b[0m | \u001b[0m523.4    \u001b[0m | \u001b[0m0.6199   \u001b[0m |\n",
      "| \u001b[0m35       \u001b[0m | \u001b[0m-0.708   \u001b[0m | \u001b[0m0.6959   \u001b[0m | \u001b[0m0.5307   \u001b[0m | \u001b[0m0.6632   \u001b[0m | \u001b[0m0.4082   \u001b[0m | \u001b[0m0.05845  \u001b[0m | \u001b[0m4.864    \u001b[0m | \u001b[0m6.358    \u001b[0m | \u001b[0m412.5    \u001b[0m | \u001b[0m0.9673   \u001b[0m |\n",
      "| \u001b[0m36       \u001b[0m | \u001b[0m-0.7367  \u001b[0m | \u001b[0m0.7782   \u001b[0m | \u001b[0m0.9097   \u001b[0m | \u001b[0m0.6429   \u001b[0m | \u001b[0m0.3739   \u001b[0m | \u001b[0m0.08489  \u001b[0m | \u001b[0m5.451    \u001b[0m | \u001b[0m2.032    \u001b[0m | \u001b[0m432.2    \u001b[0m | \u001b[0m0.5644   \u001b[0m |\n",
      "| \u001b[0m37       \u001b[0m | \u001b[0m-0.7284  \u001b[0m | \u001b[0m0.9409   \u001b[0m | \u001b[0m0.8875   \u001b[0m | \u001b[0m0.6092   \u001b[0m | \u001b[0m0.3791   \u001b[0m | \u001b[0m0.09075  \u001b[0m | \u001b[0m3.062    \u001b[0m | \u001b[0m5.689    \u001b[0m | \u001b[0m478.3    \u001b[0m | \u001b[0m0.8441   \u001b[0m |\n",
      "| \u001b[0m38       \u001b[0m | \u001b[0m-0.7023  \u001b[0m | \u001b[0m0.8439   \u001b[0m | \u001b[0m0.6907   \u001b[0m | \u001b[0m0.5311   \u001b[0m | \u001b[0m0.4161   \u001b[0m | \u001b[0m0.01313  \u001b[0m | \u001b[0m4.995    \u001b[0m | \u001b[0m3.741    \u001b[0m | \u001b[0m857.2    \u001b[0m | \u001b[0m0.837    \u001b[0m |\n",
      "| \u001b[0m39       \u001b[0m | \u001b[0m-0.741   \u001b[0m | \u001b[0m0.6333   \u001b[0m | \u001b[0m0.5326   \u001b[0m | \u001b[0m0.7748   \u001b[0m | \u001b[0m0.02719  \u001b[0m | \u001b[0m0.04657  \u001b[0m | \u001b[0m5.204    \u001b[0m | \u001b[0m4.736    \u001b[0m | \u001b[0m991.0    \u001b[0m | \u001b[0m0.9317   \u001b[0m |\n",
      "| \u001b[0m40       \u001b[0m | \u001b[0m-0.7088  \u001b[0m | \u001b[0m0.5236   \u001b[0m | \u001b[0m0.8242   \u001b[0m | \u001b[0m0.8586   \u001b[0m | \u001b[0m0.246    \u001b[0m | \u001b[0m0.07902  \u001b[0m | \u001b[0m3.785    \u001b[0m | \u001b[0m3.341    \u001b[0m | \u001b[0m261.2    \u001b[0m | \u001b[0m0.6913   \u001b[0m |\n",
      "| \u001b[0m41       \u001b[0m | \u001b[0m-0.7241  \u001b[0m | \u001b[0m0.6044   \u001b[0m | \u001b[0m0.517    \u001b[0m | \u001b[0m0.5131   \u001b[0m | \u001b[0m0.05909  \u001b[0m | \u001b[0m0.04617  \u001b[0m | \u001b[0m5.643    \u001b[0m | \u001b[0m9.148    \u001b[0m | \u001b[0m469.2    \u001b[0m | \u001b[0m0.6581   \u001b[0m |\n",
      "| \u001b[0m42       \u001b[0m | \u001b[0m-0.7435  \u001b[0m | \u001b[0m0.9912   \u001b[0m | \u001b[0m0.9128   \u001b[0m | \u001b[0m0.6832   \u001b[0m | \u001b[0m0.03381  \u001b[0m | \u001b[0m0.08601  \u001b[0m | \u001b[0m8.028    \u001b[0m | \u001b[0m5.156    \u001b[0m | \u001b[0m407.3    \u001b[0m | \u001b[0m0.7893   \u001b[0m |\n",
      "| \u001b[0m43       \u001b[0m | \u001b[0m-0.7624  \u001b[0m | \u001b[0m0.9697   \u001b[0m | \u001b[0m0.6602   \u001b[0m | \u001b[0m0.946    \u001b[0m | \u001b[0m0.3294   \u001b[0m | \u001b[0m0.09345  \u001b[0m | \u001b[0m4.725    \u001b[0m | \u001b[0m6.076    \u001b[0m | \u001b[0m942.0    \u001b[0m | \u001b[0m0.5726   \u001b[0m |\n",
      "| \u001b[0m44       \u001b[0m | \u001b[0m-0.7437  \u001b[0m | \u001b[0m0.5597   \u001b[0m | \u001b[0m0.8897   \u001b[0m | \u001b[0m0.6277   \u001b[0m | \u001b[0m0.4258   \u001b[0m | \u001b[0m0.09084  \u001b[0m | \u001b[0m5.808    \u001b[0m | \u001b[0m1.697    \u001b[0m | \u001b[0m935.9    \u001b[0m | \u001b[0m0.5561   \u001b[0m |\n",
      "| \u001b[0m45       \u001b[0m | \u001b[0m-0.7216  \u001b[0m | \u001b[0m0.8567   \u001b[0m | \u001b[0m0.8105   \u001b[0m | \u001b[0m0.683    \u001b[0m | \u001b[0m0.1452   \u001b[0m | \u001b[0m0.06405  \u001b[0m | \u001b[0m5.565    \u001b[0m | \u001b[0m5.184    \u001b[0m | \u001b[0m976.7    \u001b[0m | \u001b[0m0.9927   \u001b[0m |\n",
      "| \u001b[0m46       \u001b[0m | \u001b[0m-0.7161  \u001b[0m | \u001b[0m0.6793   \u001b[0m | \u001b[0m0.9534   \u001b[0m | \u001b[0m0.8964   \u001b[0m | \u001b[0m0.2372   \u001b[0m | \u001b[0m0.05069  \u001b[0m | \u001b[0m3.753    \u001b[0m | \u001b[0m5.176    \u001b[0m | \u001b[0m524.3    \u001b[0m | \u001b[0m0.7803   \u001b[0m |\n",
      "| \u001b[0m47       \u001b[0m | \u001b[0m-0.7465  \u001b[0m | \u001b[0m0.8076   \u001b[0m | \u001b[0m0.9256   \u001b[0m | \u001b[0m0.6008   \u001b[0m | \u001b[0m0.4151   \u001b[0m | \u001b[0m0.084    \u001b[0m | \u001b[0m3.437    \u001b[0m | \u001b[0m8.137    \u001b[0m | \u001b[0m777.0    \u001b[0m | \u001b[0m0.5369   \u001b[0m |\n",
      "| \u001b[0m48       \u001b[0m | \u001b[0m-0.7129  \u001b[0m | \u001b[0m0.9394   \u001b[0m | \u001b[0m0.7547   \u001b[0m | \u001b[0m0.8863   \u001b[0m | \u001b[0m0.3981   \u001b[0m | \u001b[0m0.0396   \u001b[0m | \u001b[0m4.325    \u001b[0m | \u001b[0m3.377    \u001b[0m | \u001b[0m436.9    \u001b[0m | \u001b[0m0.7334   \u001b[0m |\n",
      "| \u001b[0m49       \u001b[0m | \u001b[0m-0.7137  \u001b[0m | \u001b[0m0.5368   \u001b[0m | \u001b[0m0.6534   \u001b[0m | \u001b[0m0.8974   \u001b[0m | \u001b[0m0.1504   \u001b[0m | \u001b[0m0.04366  \u001b[0m | \u001b[0m9.962    \u001b[0m | \u001b[0m2.493    \u001b[0m | \u001b[0m318.8    \u001b[0m | \u001b[0m0.7442   \u001b[0m |\n",
      "| \u001b[0m50       \u001b[0m | \u001b[0m-0.7335  \u001b[0m | \u001b[0m0.8064   \u001b[0m | \u001b[0m0.8471   \u001b[0m | \u001b[0m0.7147   \u001b[0m | \u001b[0m0.2596   \u001b[0m | \u001b[0m0.09323  \u001b[0m | \u001b[0m4.182    \u001b[0m | \u001b[0m4.781    \u001b[0m | \u001b[0m323.4    \u001b[0m | \u001b[0m0.6234   \u001b[0m |\n",
      "| \u001b[0m51       \u001b[0m | \u001b[0m-0.71    \u001b[0m | \u001b[0m0.7003   \u001b[0m | \u001b[0m0.9437   \u001b[0m | \u001b[0m0.982    \u001b[0m | \u001b[0m0.1265   \u001b[0m | \u001b[0m0.01318  \u001b[0m | \u001b[0m6.593    \u001b[0m | \u001b[0m2.13     \u001b[0m | \u001b[0m140.2    \u001b[0m | \u001b[0m0.6868   \u001b[0m |\n",
      "| \u001b[0m52       \u001b[0m | \u001b[0m-0.703   \u001b[0m | \u001b[0m0.5609   \u001b[0m | \u001b[0m0.6956   \u001b[0m | \u001b[0m0.7392   \u001b[0m | \u001b[0m0.05659  \u001b[0m | \u001b[0m0.06028  \u001b[0m | \u001b[0m3.292    \u001b[0m | \u001b[0m2.907    \u001b[0m | \u001b[0m261.2    \u001b[0m | \u001b[0m0.7591   \u001b[0m |\n",
      "| \u001b[0m53       \u001b[0m | \u001b[0m-0.7208  \u001b[0m | \u001b[0m0.826    \u001b[0m | \u001b[0m0.5099   \u001b[0m | \u001b[0m0.6347   \u001b[0m | \u001b[0m0.1588   \u001b[0m | \u001b[0m0.03412  \u001b[0m | \u001b[0m7.5      \u001b[0m | \u001b[0m9.277    \u001b[0m | \u001b[0m394.7    \u001b[0m | \u001b[0m0.6246   \u001b[0m |\n",
      "| \u001b[0m54       \u001b[0m | \u001b[0m-0.6991  \u001b[0m | \u001b[0m0.8916   \u001b[0m | \u001b[0m0.8742   \u001b[0m | \u001b[0m0.9844   \u001b[0m | \u001b[0m0.3451   \u001b[0m | \u001b[0m0.004393 \u001b[0m | \u001b[0m4.273    \u001b[0m | \u001b[0m5.227    \u001b[0m | \u001b[0m687.8    \u001b[0m | \u001b[0m0.8977   \u001b[0m |\n",
      "| \u001b[0m55       \u001b[0m | \u001b[0m-0.6975  \u001b[0m | \u001b[0m0.6508   \u001b[0m | \u001b[0m0.8229   \u001b[0m | \u001b[0m0.7962   \u001b[0m | \u001b[0m0.4922   \u001b[0m | \u001b[0m0.006557 \u001b[0m | \u001b[0m5.329    \u001b[0m | \u001b[0m5.166    \u001b[0m | \u001b[0m548.4    \u001b[0m | \u001b[0m0.5292   \u001b[0m |\n",
      "| \u001b[0m56       \u001b[0m | \u001b[0m-0.7095  \u001b[0m | \u001b[0m0.6123   \u001b[0m | \u001b[0m0.5793   \u001b[0m | \u001b[0m0.5233   \u001b[0m | \u001b[0m0.2323   \u001b[0m | \u001b[0m0.02379  \u001b[0m | \u001b[0m4.455    \u001b[0m | \u001b[0m5.142    \u001b[0m | \u001b[0m687.8    \u001b[0m | \u001b[0m0.5784   \u001b[0m |\n",
      "| \u001b[0m57       \u001b[0m | \u001b[0m-0.7122  \u001b[0m | \u001b[0m0.7594   \u001b[0m | \u001b[0m0.6873   \u001b[0m | \u001b[0m0.9831   \u001b[0m | \u001b[0m0.1251   \u001b[0m | \u001b[0m0.03727  \u001b[0m | \u001b[0m4.696    \u001b[0m | \u001b[0m6.375    \u001b[0m | \u001b[0m412.6    \u001b[0m | \u001b[0m0.8424   \u001b[0m |\n",
      "| \u001b[0m58       \u001b[0m | \u001b[0m-0.7276  \u001b[0m | \u001b[0m0.9158   \u001b[0m | \u001b[0m0.7298   \u001b[0m | \u001b[0m0.8427   \u001b[0m | \u001b[0m0.1378   \u001b[0m | \u001b[0m0.07181  \u001b[0m | \u001b[0m9.59     \u001b[0m | \u001b[0m1.872    \u001b[0m | \u001b[0m524.4    \u001b[0m | \u001b[0m0.5962   \u001b[0m |\n",
      "| \u001b[0m59       \u001b[0m | \u001b[0m-0.7044  \u001b[0m | \u001b[0m0.8149   \u001b[0m | \u001b[0m0.7673   \u001b[0m | \u001b[0m0.8358   \u001b[0m | \u001b[0m0.2903   \u001b[0m | \u001b[0m0.0156   \u001b[0m | \u001b[0m4.461    \u001b[0m | \u001b[0m5.092    \u001b[0m | \u001b[0m687.7    \u001b[0m | \u001b[0m0.8066   \u001b[0m |\n",
      "| \u001b[0m60       \u001b[0m | \u001b[0m-0.7127  \u001b[0m | \u001b[0m0.7115   \u001b[0m | \u001b[0m0.6801   \u001b[0m | \u001b[0m0.559    \u001b[0m | \u001b[0m0.3993   \u001b[0m | \u001b[0m0.03471  \u001b[0m | \u001b[0m4.94     \u001b[0m | \u001b[0m5.302    \u001b[0m | \u001b[0m548.6    \u001b[0m | \u001b[0m0.7595   \u001b[0m |\n",
      "| \u001b[0m61       \u001b[0m | \u001b[0m-0.7107  \u001b[0m | \u001b[0m0.7524   \u001b[0m | \u001b[0m0.9059   \u001b[0m | \u001b[0m0.6763   \u001b[0m | \u001b[0m0.1829   \u001b[0m | \u001b[0m0.06622  \u001b[0m | \u001b[0m6.955    \u001b[0m | \u001b[0m4.007    \u001b[0m | \u001b[0m105.8    \u001b[0m | \u001b[0m0.7845   \u001b[0m |\n",
      "| \u001b[0m62       \u001b[0m | \u001b[0m-0.6967  \u001b[0m | \u001b[0m0.8435   \u001b[0m | \u001b[0m0.8031   \u001b[0m | \u001b[0m0.7723   \u001b[0m | \u001b[0m0.2045   \u001b[0m | \u001b[0m0.009586 \u001b[0m | \u001b[0m3.728    \u001b[0m | \u001b[0m3.192    \u001b[0m | \u001b[0m376.8    \u001b[0m | \u001b[0m0.6401   \u001b[0m |\n",
      "| \u001b[0m63       \u001b[0m | \u001b[0m-0.7256  \u001b[0m | \u001b[0m0.5873   \u001b[0m | \u001b[0m0.6449   \u001b[0m | \u001b[0m0.973    \u001b[0m | \u001b[0m0.4487   \u001b[0m | \u001b[0m0.04881  \u001b[0m | \u001b[0m5.562    \u001b[0m | \u001b[0m5.708    \u001b[0m | \u001b[0m548.1    \u001b[0m | \u001b[0m0.5681   \u001b[0m |\n",
      "| \u001b[0m64       \u001b[0m | \u001b[0m-0.6994  \u001b[0m | \u001b[0m0.8119   \u001b[0m | \u001b[0m0.9186   \u001b[0m | \u001b[0m0.794    \u001b[0m | \u001b[0m0.4293   \u001b[0m | \u001b[0m0.03309  \u001b[0m | \u001b[0m5.51     \u001b[0m | \u001b[0m9.62     \u001b[0m | \u001b[0m111.5    \u001b[0m | \u001b[0m0.6537   \u001b[0m |\n",
      "| \u001b[0m65       \u001b[0m | \u001b[0m-0.6995  \u001b[0m | \u001b[0m0.7859   \u001b[0m | \u001b[0m0.8747   \u001b[0m | \u001b[0m0.765    \u001b[0m | \u001b[0m0.05498  \u001b[0m | \u001b[0m0.02125  \u001b[0m | \u001b[0m5.2      \u001b[0m | \u001b[0m5.34     \u001b[0m | \u001b[0m222.6    \u001b[0m | \u001b[0m0.6507   \u001b[0m |\n",
      "| \u001b[0m66       \u001b[0m | \u001b[0m-0.7333  \u001b[0m | \u001b[0m0.816    \u001b[0m | \u001b[0m0.529    \u001b[0m | \u001b[0m0.8242   \u001b[0m | \u001b[0m0.2246   \u001b[0m | \u001b[0m0.05443  \u001b[0m | \u001b[0m6.379    \u001b[0m | \u001b[0m6.214    \u001b[0m | \u001b[0m892.3    \u001b[0m | \u001b[0m0.6693   \u001b[0m |\n",
      "| \u001b[0m67       \u001b[0m | \u001b[0m-0.6993  \u001b[0m | \u001b[0m0.7015   \u001b[0m | \u001b[0m0.6408   \u001b[0m | \u001b[0m0.5795   \u001b[0m | \u001b[0m0.2971   \u001b[0m | \u001b[0m0.05816  \u001b[0m | \u001b[0m3.966    \u001b[0m | \u001b[0m3.597    \u001b[0m | \u001b[0m170.7    \u001b[0m | \u001b[0m0.909    \u001b[0m |\n",
      "| \u001b[0m68       \u001b[0m | \u001b[0m-0.7235  \u001b[0m | \u001b[0m0.5533   \u001b[0m | \u001b[0m0.5762   \u001b[0m | \u001b[0m0.9277   \u001b[0m | \u001b[0m0.05775  \u001b[0m | \u001b[0m0.07742  \u001b[0m | \u001b[0m4.779    \u001b[0m | \u001b[0m4.464    \u001b[0m | \u001b[0m322.9    \u001b[0m | \u001b[0m0.8463   \u001b[0m |\n",
      "| \u001b[0m69       \u001b[0m | \u001b[0m-0.7401  \u001b[0m | \u001b[0m0.6995   \u001b[0m | \u001b[0m0.5638   \u001b[0m | \u001b[0m0.8062   \u001b[0m | \u001b[0m0.332    \u001b[0m | \u001b[0m0.07386  \u001b[0m | \u001b[0m7.713    \u001b[0m | \u001b[0m6.453    \u001b[0m | \u001b[0m515.8    \u001b[0m | \u001b[0m0.5177   \u001b[0m |\n",
      "| \u001b[0m70       \u001b[0m | \u001b[0m-0.7159  \u001b[0m | \u001b[0m0.6048   \u001b[0m | \u001b[0m0.6941   \u001b[0m | \u001b[0m0.8177   \u001b[0m | \u001b[0m0.2734   \u001b[0m | \u001b[0m0.08011  \u001b[0m | \u001b[0m5.182    \u001b[0m | \u001b[0m2.686    \u001b[0m | \u001b[0m169.2    \u001b[0m | \u001b[0m0.7111   \u001b[0m |\n",
      "| \u001b[0m71       \u001b[0m | \u001b[0m-0.7183  \u001b[0m | \u001b[0m0.9408   \u001b[0m | \u001b[0m0.9596   \u001b[0m | \u001b[0m0.6237   \u001b[0m | \u001b[0m0.1452   \u001b[0m | \u001b[0m0.06638  \u001b[0m | \u001b[0m7.167    \u001b[0m | \u001b[0m4.049    \u001b[0m | \u001b[0m105.5    \u001b[0m | \u001b[0m0.6375   \u001b[0m |\n",
      "| \u001b[0m72       \u001b[0m | \u001b[0m-0.7268  \u001b[0m | \u001b[0m0.8777   \u001b[0m | \u001b[0m0.8116   \u001b[0m | \u001b[0m0.8435   \u001b[0m | \u001b[0m0.4804   \u001b[0m | \u001b[0m0.09154  \u001b[0m | \u001b[0m6.776    \u001b[0m | \u001b[0m6.662    \u001b[0m | \u001b[0m804.3    \u001b[0m | \u001b[0m0.8075   \u001b[0m |\n",
      "| \u001b[0m73       \u001b[0m | \u001b[0m-0.7297  \u001b[0m | \u001b[0m0.5509   \u001b[0m | \u001b[0m0.9933   \u001b[0m | \u001b[0m0.5538   \u001b[0m | \u001b[0m0.2487   \u001b[0m | \u001b[0m0.04508  \u001b[0m | \u001b[0m7.762    \u001b[0m | \u001b[0m7.95     \u001b[0m | \u001b[0m600.8    \u001b[0m | \u001b[0m0.692    \u001b[0m |\n",
      "| \u001b[0m74       \u001b[0m | \u001b[0m-0.7011  \u001b[0m | \u001b[0m0.7785   \u001b[0m | \u001b[0m0.9008   \u001b[0m | \u001b[0m0.7632   \u001b[0m | \u001b[0m0.008256 \u001b[0m | \u001b[0m0.01203  \u001b[0m | \u001b[0m5.03     \u001b[0m | \u001b[0m5.579    \u001b[0m | \u001b[0m222.7    \u001b[0m | \u001b[0m0.6181   \u001b[0m |\n",
      "| \u001b[0m75       \u001b[0m | \u001b[0m-0.6964  \u001b[0m | \u001b[0m0.8707   \u001b[0m | \u001b[0m0.8063   \u001b[0m | \u001b[0m0.6789   \u001b[0m | \u001b[0m0.006286 \u001b[0m | \u001b[0m0.01663  \u001b[0m | \u001b[0m3.264    \u001b[0m | \u001b[0m2.795    \u001b[0m | \u001b[0m377.3    \u001b[0m | \u001b[0m0.6162   \u001b[0m |\n",
      "| \u001b[0m76       \u001b[0m | \u001b[0m-0.7329  \u001b[0m | \u001b[0m0.6193   \u001b[0m | \u001b[0m0.7074   \u001b[0m | \u001b[0m0.6947   \u001b[0m | \u001b[0m0.4097   \u001b[0m | \u001b[0m0.06096  \u001b[0m | \u001b[0m9.803    \u001b[0m | \u001b[0m4.375    \u001b[0m | \u001b[0m455.4    \u001b[0m | \u001b[0m0.5598   \u001b[0m |\n",
      "| \u001b[0m77       \u001b[0m | \u001b[0m-0.7218  \u001b[0m | \u001b[0m0.6739   \u001b[0m | \u001b[0m0.5286   \u001b[0m | \u001b[0m0.6282   \u001b[0m | \u001b[0m0.1704   \u001b[0m | \u001b[0m0.02903  \u001b[0m | \u001b[0m6.429    \u001b[0m | \u001b[0m9.601    \u001b[0m | \u001b[0m823.1    \u001b[0m | \u001b[0m0.9229   \u001b[0m |\n",
      "| \u001b[0m78       \u001b[0m | \u001b[0m-0.7177  \u001b[0m | \u001b[0m0.8165   \u001b[0m | \u001b[0m0.6584   \u001b[0m | \u001b[0m0.9918   \u001b[0m | \u001b[0m0.238    \u001b[0m | \u001b[0m0.04813  \u001b[0m | \u001b[0m4.273    \u001b[0m | \u001b[0m2.621    \u001b[0m | \u001b[0m405.4    \u001b[0m | \u001b[0m0.7926   \u001b[0m |\n",
      "| \u001b[0m79       \u001b[0m | \u001b[0m-0.7157  \u001b[0m | \u001b[0m0.8271   \u001b[0m | \u001b[0m0.5473   \u001b[0m | \u001b[0m0.5004   \u001b[0m | \u001b[0m0.2738   \u001b[0m | \u001b[0m0.03392  \u001b[0m | \u001b[0m4.458    \u001b[0m | \u001b[0m3.337    \u001b[0m | \u001b[0m857.5    \u001b[0m | \u001b[0m0.8229   \u001b[0m |\n",
      "| \u001b[0m80       \u001b[0m | \u001b[0m-0.7147  \u001b[0m | \u001b[0m0.9734   \u001b[0m | \u001b[0m0.7832   \u001b[0m | \u001b[0m0.6456   \u001b[0m | \u001b[0m0.06639  \u001b[0m | \u001b[0m0.05993  \u001b[0m | \u001b[0m3.787    \u001b[0m | \u001b[0m3.138    \u001b[0m | \u001b[0m378.6    \u001b[0m | \u001b[0m0.5955   \u001b[0m |\n",
      "| \u001b[0m81       \u001b[0m | \u001b[0m-0.7072  \u001b[0m | \u001b[0m0.5388   \u001b[0m | \u001b[0m0.7556   \u001b[0m | \u001b[0m0.6123   \u001b[0m | \u001b[0m0.4515   \u001b[0m | \u001b[0m0.05906  \u001b[0m | \u001b[0m8.857    \u001b[0m | \u001b[0m5.726    \u001b[0m | \u001b[0m266.1    \u001b[0m | \u001b[0m0.92     \u001b[0m |\n",
      "| \u001b[0m82       \u001b[0m | \u001b[0m-0.7166  \u001b[0m | \u001b[0m0.7769   \u001b[0m | \u001b[0m0.6484   \u001b[0m | \u001b[0m0.6003   \u001b[0m | \u001b[0m0.3573   \u001b[0m | \u001b[0m0.07669  \u001b[0m | \u001b[0m5.1      \u001b[0m | \u001b[0m4.936    \u001b[0m | \u001b[0m222.6    \u001b[0m | \u001b[0m0.6441   \u001b[0m |\n",
      "| \u001b[0m83       \u001b[0m | \u001b[0m-0.7368  \u001b[0m | \u001b[0m0.788    \u001b[0m | \u001b[0m0.8004   \u001b[0m | \u001b[0m0.5701   \u001b[0m | \u001b[0m0.1157   \u001b[0m | \u001b[0m0.05478  \u001b[0m | \u001b[0m6.735    \u001b[0m | \u001b[0m4.952    \u001b[0m | \u001b[0m493.1    \u001b[0m | \u001b[0m0.62     \u001b[0m |\n",
      "| \u001b[0m84       \u001b[0m | \u001b[0m-0.7518  \u001b[0m | \u001b[0m0.7765   \u001b[0m | \u001b[0m0.5322   \u001b[0m | \u001b[0m0.5207   \u001b[0m | \u001b[0m0.1384   \u001b[0m | \u001b[0m0.08046  \u001b[0m | \u001b[0m4.736    \u001b[0m | \u001b[0m3.921    \u001b[0m | \u001b[0m857.5    \u001b[0m | \u001b[0m0.5565   \u001b[0m |\n",
      "| \u001b[0m85       \u001b[0m | \u001b[0m-0.6972  \u001b[0m | \u001b[0m0.8408   \u001b[0m | \u001b[0m0.6596   \u001b[0m | \u001b[0m0.8078   \u001b[0m | \u001b[0m0.08278  \u001b[0m | \u001b[0m0.02127  \u001b[0m | \u001b[0m3.466    \u001b[0m | \u001b[0m3.229    \u001b[0m | \u001b[0m376.8    \u001b[0m | \u001b[0m0.7054   \u001b[0m |\n",
      "| \u001b[0m86       \u001b[0m | \u001b[0m-0.7104  \u001b[0m | \u001b[0m0.7103   \u001b[0m | \u001b[0m0.702    \u001b[0m | \u001b[0m0.7632   \u001b[0m | \u001b[0m0.02446  \u001b[0m | \u001b[0m0.06219  \u001b[0m | \u001b[0m4.548    \u001b[0m | \u001b[0m8.283    \u001b[0m | \u001b[0m227.1    \u001b[0m | \u001b[0m0.6087   \u001b[0m |\n",
      "| \u001b[0m87       \u001b[0m | \u001b[0m-0.7212  \u001b[0m | \u001b[0m0.8877   \u001b[0m | \u001b[0m0.7813   \u001b[0m | \u001b[0m0.7442   \u001b[0m | \u001b[0m0.09099  \u001b[0m | \u001b[0m0.06263  \u001b[0m | \u001b[0m5.168    \u001b[0m | \u001b[0m5.635    \u001b[0m | \u001b[0m223.1    \u001b[0m | \u001b[0m0.7874   \u001b[0m |\n",
      "| \u001b[0m88       \u001b[0m | \u001b[0m-0.7054  \u001b[0m | \u001b[0m0.514    \u001b[0m | \u001b[0m0.5794   \u001b[0m | \u001b[0m0.6886   \u001b[0m | \u001b[0m0.4162   \u001b[0m | \u001b[0m0.08329  \u001b[0m | \u001b[0m4.593    \u001b[0m | \u001b[0m2.355    \u001b[0m | \u001b[0m344.3    \u001b[0m | \u001b[0m0.9747   \u001b[0m |\n",
      "| \u001b[0m89       \u001b[0m | \u001b[0m-0.7219  \u001b[0m | \u001b[0m0.8995   \u001b[0m | \u001b[0m0.7958   \u001b[0m | \u001b[0m0.8441   \u001b[0m | \u001b[0m0.4293   \u001b[0m | \u001b[0m0.0745   \u001b[0m | \u001b[0m4.657    \u001b[0m | \u001b[0m2.428    \u001b[0m | \u001b[0m344.4    \u001b[0m | \u001b[0m0.7425   \u001b[0m |\n",
      "| \u001b[0m90       \u001b[0m | \u001b[0m-0.7017  \u001b[0m | \u001b[0m0.8609   \u001b[0m | \u001b[0m0.6505   \u001b[0m | \u001b[0m0.9286   \u001b[0m | \u001b[0m0.2778   \u001b[0m | \u001b[0m0.02546  \u001b[0m | \u001b[0m5.928    \u001b[0m | \u001b[0m5.871    \u001b[0m | \u001b[0m108.9    \u001b[0m | \u001b[0m0.6456   \u001b[0m |\n",
      "| \u001b[0m91       \u001b[0m | \u001b[0m-0.7235  \u001b[0m | \u001b[0m0.8435   \u001b[0m | \u001b[0m0.8753   \u001b[0m | \u001b[0m0.8214   \u001b[0m | \u001b[0m0.2925   \u001b[0m | \u001b[0m0.08689  \u001b[0m | \u001b[0m3.333    \u001b[0m | \u001b[0m2.293    \u001b[0m | \u001b[0m377.1    \u001b[0m | \u001b[0m0.5703   \u001b[0m |\n",
      "| \u001b[0m92       \u001b[0m | \u001b[0m-0.7313  \u001b[0m | \u001b[0m0.7612   \u001b[0m | \u001b[0m0.5915   \u001b[0m | \u001b[0m0.7524   \u001b[0m | \u001b[0m0.3799   \u001b[0m | \u001b[0m0.07206  \u001b[0m | \u001b[0m7.006    \u001b[0m | \u001b[0m1.967    \u001b[0m | \u001b[0m564.7    \u001b[0m | \u001b[0m0.5547   \u001b[0m |\n",
      "| \u001b[0m93       \u001b[0m | \u001b[0m-0.7023  \u001b[0m | \u001b[0m0.9028   \u001b[0m | \u001b[0m0.8327   \u001b[0m | \u001b[0m0.7427   \u001b[0m | \u001b[0m0.2192   \u001b[0m | \u001b[0m0.0325   \u001b[0m | \u001b[0m3.686    \u001b[0m | \u001b[0m2.911    \u001b[0m | \u001b[0m377.2    \u001b[0m | \u001b[0m0.6149   \u001b[0m |\n",
      "| \u001b[0m94       \u001b[0m | \u001b[0m-0.6987  \u001b[0m | \u001b[0m0.9085   \u001b[0m | \u001b[0m0.6513   \u001b[0m | \u001b[0m0.9005   \u001b[0m | \u001b[0m0.3539   \u001b[0m | \u001b[0m0.00437  \u001b[0m | \u001b[0m4.842    \u001b[0m | \u001b[0m5.337    \u001b[0m | \u001b[0m687.5    \u001b[0m | \u001b[0m0.9902   \u001b[0m |\n",
      "| \u001b[0m95       \u001b[0m | \u001b[0m-0.7146  \u001b[0m | \u001b[0m0.9558   \u001b[0m | \u001b[0m0.8061   \u001b[0m | \u001b[0m0.9293   \u001b[0m | \u001b[0m0.1628   \u001b[0m | \u001b[0m0.05004  \u001b[0m | \u001b[0m3.051    \u001b[0m | \u001b[0m8.652    \u001b[0m | \u001b[0m517.2    \u001b[0m | \u001b[0m0.6006   \u001b[0m |\n",
      "| \u001b[0m96       \u001b[0m | \u001b[0m-0.7294  \u001b[0m | \u001b[0m0.9466   \u001b[0m | \u001b[0m0.8364   \u001b[0m | \u001b[0m0.7804   \u001b[0m | \u001b[0m0.06262  \u001b[0m | \u001b[0m0.0496   \u001b[0m | \u001b[0m7.312    \u001b[0m | \u001b[0m5.275    \u001b[0m | \u001b[0m265.0    \u001b[0m | \u001b[0m0.7706   \u001b[0m |\n",
      "| \u001b[0m97       \u001b[0m | \u001b[0m-0.7104  \u001b[0m | \u001b[0m0.7833   \u001b[0m | \u001b[0m0.7469   \u001b[0m | \u001b[0m0.6984   \u001b[0m | \u001b[0m0.2257   \u001b[0m | \u001b[0m0.08085  \u001b[0m | \u001b[0m5.239    \u001b[0m | \u001b[0m7.323    \u001b[0m | \u001b[0m104.1    \u001b[0m | \u001b[0m0.9301   \u001b[0m |\n",
      "| \u001b[0m98       \u001b[0m | \u001b[0m-0.7063  \u001b[0m | \u001b[0m0.6433   \u001b[0m | \u001b[0m0.538    \u001b[0m | \u001b[0m0.688    \u001b[0m | \u001b[0m0.5      \u001b[0m | \u001b[0m0.0859   \u001b[0m | \u001b[0m4.441    \u001b[0m | \u001b[0m6.472    \u001b[0m | \u001b[0m412.7    \u001b[0m | \u001b[0m0.9548   \u001b[0m |\n",
      "| \u001b[0m99       \u001b[0m | \u001b[0m-0.7405  \u001b[0m | \u001b[0m0.694    \u001b[0m | \u001b[0m0.8103   \u001b[0m | \u001b[0m0.9937   \u001b[0m | \u001b[0m0.2728   \u001b[0m | \u001b[0m0.07738  \u001b[0m | \u001b[0m6.23     \u001b[0m | \u001b[0m7.929    \u001b[0m | \u001b[0m845.0    \u001b[0m | \u001b[0m0.677    \u001b[0m |\n",
      "| \u001b[0m100      \u001b[0m | \u001b[0m-0.7027  \u001b[0m | \u001b[0m0.9721   \u001b[0m | \u001b[0m0.781    \u001b[0m | \u001b[0m0.8079   \u001b[0m | \u001b[0m0.464    \u001b[0m | \u001b[0m0.03767  \u001b[0m | \u001b[0m5.296    \u001b[0m | \u001b[0m9.479    \u001b[0m | \u001b[0m111.7    \u001b[0m | \u001b[0m0.8974   \u001b[0m |\n",
      "| \u001b[0m101      \u001b[0m | \u001b[0m-0.7197  \u001b[0m | \u001b[0m0.5856   \u001b[0m | \u001b[0m0.6629   \u001b[0m | \u001b[0m0.961    \u001b[0m | \u001b[0m0.4639   \u001b[0m | \u001b[0m0.08221  \u001b[0m | \u001b[0m9.252    \u001b[0m | \u001b[0m4.748    \u001b[0m | \u001b[0m532.5    \u001b[0m | \u001b[0m0.6681   \u001b[0m |\n",
      "| \u001b[0m102      \u001b[0m | \u001b[0m-0.9396  \u001b[0m | \u001b[0m0.9887   \u001b[0m | \u001b[0m0.9109   \u001b[0m | \u001b[0m0.5548   \u001b[0m | \u001b[0m0.4688   \u001b[0m | \u001b[0m0.001163 \u001b[0m | \u001b[0m3.926    \u001b[0m | \u001b[0m3.422    \u001b[0m | \u001b[0m170.4    \u001b[0m | \u001b[0m0.964    \u001b[0m |\n",
      "| \u001b[0m103      \u001b[0m | \u001b[0m-0.7413  \u001b[0m | \u001b[0m0.8868   \u001b[0m | \u001b[0m0.8922   \u001b[0m | \u001b[0m0.8945   \u001b[0m | \u001b[0m0.3092   \u001b[0m | \u001b[0m0.09091  \u001b[0m | \u001b[0m4.429    \u001b[0m | \u001b[0m5.108    \u001b[0m | \u001b[0m687.4    \u001b[0m | \u001b[0m0.8355   \u001b[0m |\n",
      "| \u001b[0m104      \u001b[0m | \u001b[0m-0.7189  \u001b[0m | \u001b[0m0.7742   \u001b[0m | \u001b[0m0.6231   \u001b[0m | \u001b[0m0.861    \u001b[0m | \u001b[0m0.3529   \u001b[0m | \u001b[0m0.0803   \u001b[0m | \u001b[0m3.448    \u001b[0m | \u001b[0m2.877    \u001b[0m | \u001b[0m377.2    \u001b[0m | \u001b[0m0.5146   \u001b[0m |\n",
      "| \u001b[0m105      \u001b[0m | \u001b[0m-0.746   \u001b[0m | \u001b[0m0.6756   \u001b[0m | \u001b[0m0.7564   \u001b[0m | \u001b[0m0.629    \u001b[0m | \u001b[0m0.2199   \u001b[0m | \u001b[0m0.06669  \u001b[0m | \u001b[0m4.877    \u001b[0m | \u001b[0m2.621    \u001b[0m | \u001b[0m863.4    \u001b[0m | \u001b[0m0.6232   \u001b[0m |\n",
      "| \u001b[0m106      \u001b[0m | \u001b[0m-0.7447  \u001b[0m | \u001b[0m0.8691   \u001b[0m | \u001b[0m0.6348   \u001b[0m | \u001b[0m0.9705   \u001b[0m | \u001b[0m0.02106  \u001b[0m | \u001b[0m0.004238 \u001b[0m | \u001b[0m7.51     \u001b[0m | \u001b[0m5.483    \u001b[0m | \u001b[0m264.9    \u001b[0m | \u001b[0m0.9262   \u001b[0m |\n",
      "| \u001b[0m107      \u001b[0m | \u001b[0m-0.7422  \u001b[0m | \u001b[0m0.6645   \u001b[0m | \u001b[0m0.6568   \u001b[0m | \u001b[0m0.7541   \u001b[0m | \u001b[0m0.1166   \u001b[0m | \u001b[0m0.0937   \u001b[0m | \u001b[0m6.52     \u001b[0m | \u001b[0m2.762    \u001b[0m | \u001b[0m734.3    \u001b[0m | \u001b[0m0.7432   \u001b[0m |\n",
      "| \u001b[0m108      \u001b[0m | \u001b[0m-0.7225  \u001b[0m | \u001b[0m0.7905   \u001b[0m | \u001b[0m0.7082   \u001b[0m | \u001b[0m0.7277   \u001b[0m | \u001b[0m0.1678   \u001b[0m | \u001b[0m0.0256   \u001b[0m | \u001b[0m8.2      \u001b[0m | \u001b[0m7.978    \u001b[0m | \u001b[0m548.5    \u001b[0m | \u001b[0m0.7862   \u001b[0m |\n",
      "| \u001b[0m109      \u001b[0m | \u001b[0m-0.6975  \u001b[0m | \u001b[0m0.5742   \u001b[0m | \u001b[0m0.6173   \u001b[0m | \u001b[0m0.6996   \u001b[0m | \u001b[0m0.3845   \u001b[0m | \u001b[0m0.0176   \u001b[0m | \u001b[0m3.543    \u001b[0m | \u001b[0m3.449    \u001b[0m | \u001b[0m261.1    \u001b[0m | \u001b[0m0.5925   \u001b[0m |\n",
      "| \u001b[0m110      \u001b[0m | \u001b[0m-0.8647  \u001b[0m | \u001b[0m0.8485   \u001b[0m | \u001b[0m0.9941   \u001b[0m | \u001b[0m0.8817   \u001b[0m | \u001b[0m0.0002094\u001b[0m | \u001b[0m0.001696 \u001b[0m | \u001b[0m6.828    \u001b[0m | \u001b[0m6.81     \u001b[0m | \u001b[0m236.7    \u001b[0m | \u001b[0m0.6941   \u001b[0m |\n",
      "=====================================================================================================================================\n"
     ]
    }
   ],
   "source": [
    "# define the parameter search space\n",
    "param_bounds = {\n",
    "    'max_depth': (3, 10),\n",
    "    'n_estimators': (100, 1000),\n",
    "    'learning_rate': (0.001, 0.1),\n",
    "    'gamma': (0, 0.5),\n",
    "    'min_child_weight': (1, 10),\n",
    "    'subsample': (0.5, 1.0),\n",
    "    'colsample_bytree': (0.5, 1.0),\n",
    "    'colsample_bylevel': (0.5, 1.0),\n",
    "    'colsample_bynode': (0.5, 1.0)\n",
    "}\n",
    "\n",
    "# run bayesian optimization\n",
    "optimizer = BayesianOptimization(\n",
    "    f=lambda max_depth, n_estimators, learning_rate, gamma, min_child_weight, subsample, colsample_bytree, colsample_bylevel, colsample_bynode: \n",
    "        xgb_cv(max_depth, n_estimators, learning_rate, gamma, min_child_weight, subsample, colsample_bytree, colsample_bylevel, colsample_bynode, X, y),\n",
    "    pbounds=param_bounds,\n",
    "    random_state=SEED,\n",
    "    verbose=2\n",
    ")\n",
    "\n",
    "# optimize for 110 iterations\n",
    "optimizer.maximize(init_points=10, n_iter=100)"
   ]
  },
  {
   "cell_type": "code",
   "execution_count": null,
   "metadata": {},
   "outputs": [],
   "source": [
    "# best params\n",
    "best_params = {'colsample_bylevel': 0.5051870769428499, 'colsample_bynode': 0.7509372960743694, 'colsample_bytree': 0.747886646567073, 'gamma': 0.06691476447963829, \n",
    "               'learning_rate': 0.015068997459999317, 'max_depth': 4, 'min_child_weight': 4.766573624594072, 'n_estimators': 323, 'subsample': 0.542029825582675}"
   ]
  },
  {
   "cell_type": "markdown",
   "metadata": {},
   "source": [
    "# Final Accuracy Check"
   ]
  },
  {
   "cell_type": "code",
   "execution_count": 37,
   "metadata": {},
   "outputs": [
    {
     "name": "stdout",
     "output_type": "stream",
     "text": [
      "RMSE without rounding: 0.7033\n",
      "RMSE with rounding: 0.7014\n"
     ]
    }
   ],
   "source": [
    "# split data\n",
    "X_train, X_val, y_train, y_val = train_test_split(X, y, test_size=0.2, random_state=SEED)\n",
    "\n",
    "# train model with best parameters\n",
    "pipeline = Pipeline([('scaler', MinMaxScaler()), ('model', XGBRegressor(**best_params))\n",
    "])\n",
    "pipeline.fit(X_train, y_train)\n",
    "\n",
    "# evaluate on val data\n",
    "preds = pipeline.predict(X_val)\n",
    "rmse = root_mean_squared_error(y_val, preds)\n",
    "print(f'RMSE without rounding: {rmse:.4f}')\n",
    "\n",
    "# round to nearest 0.5 and evaluate\n",
    "rounded_preds = np.round(preds * 2) / 2\n",
    "rmse = root_mean_squared_error(y_val, rounded_preds)\n",
    "print(f'RMSE with rounding: {rmse:.4f}')"
   ]
  },
  {
   "cell_type": "markdown",
   "metadata": {},
   "source": [
    "- Final RMSE of about 0.7 on the validation data.\n",
    "- Rounding did boost performance slightly."
   ]
  },
  {
   "cell_type": "markdown",
   "metadata": {},
   "source": [
    "# Format Test Data"
   ]
  },
  {
   "cell_type": "code",
   "execution_count": 26,
   "metadata": {},
   "outputs": [
    {
     "name": "stdout",
     "output_type": "stream",
     "text": [
      "Shape: (6, 11)\n",
      "Null values:\n"
     ]
    },
    {
     "data": {
      "text/html": [
       "<div>\n",
       "<style scoped>\n",
       "    .dataframe tbody tr th:only-of-type {\n",
       "        vertical-align: middle;\n",
       "    }\n",
       "\n",
       "    .dataframe tbody tr th {\n",
       "        vertical-align: top;\n",
       "    }\n",
       "\n",
       "    .dataframe thead th {\n",
       "        text-align: right;\n",
       "    }\n",
       "</style>\n",
       "<table border=\"1\" class=\"dataframe\">\n",
       "  <thead>\n",
       "    <tr style=\"text-align: right;\">\n",
       "      <th></th>\n",
       "      <th>id</th>\n",
       "      <th>event_id</th>\n",
       "      <th>down_time</th>\n",
       "      <th>up_time</th>\n",
       "      <th>action_time</th>\n",
       "      <th>activity</th>\n",
       "      <th>down_event</th>\n",
       "      <th>up_event</th>\n",
       "      <th>text_change</th>\n",
       "      <th>cursor_position</th>\n",
       "      <th>word_count</th>\n",
       "    </tr>\n",
       "  </thead>\n",
       "  <tbody>\n",
       "    <tr>\n",
       "      <th>0</th>\n",
       "      <td>0</td>\n",
       "      <td>0</td>\n",
       "      <td>0</td>\n",
       "      <td>0</td>\n",
       "      <td>0</td>\n",
       "      <td>0</td>\n",
       "      <td>0</td>\n",
       "      <td>0</td>\n",
       "      <td>0</td>\n",
       "      <td>0</td>\n",
       "      <td>0</td>\n",
       "    </tr>\n",
       "  </tbody>\n",
       "</table>\n",
       "</div>"
      ],
      "text/plain": [
       "   id  event_id  down_time  up_time  action_time  activity  down_event  \\\n",
       "0   0         0          0        0            0         0           0   \n",
       "\n",
       "   up_event  text_change  cursor_position  word_count  \n",
       "0         0            0                0           0  "
      ]
     },
     "metadata": {},
     "output_type": "display_data"
    }
   ],
   "source": [
    "# apply these transformations to test data\n",
    "test = pd.read_csv('data/test_logs.csv')\n",
    "\n",
    "# combine 'Move' activities\n",
    "test.loc[test['activity'].str.contains('Move', na=False), 'activity'] = 'Move'\n",
    "\n",
    "# check for nulls\n",
    "show_shape_and_nulls(test)"
   ]
  },
  {
   "cell_type": "markdown",
   "metadata": {},
   "source": [
    "- Test data is ready for predictions."
   ]
  },
  {
   "cell_type": "markdown",
   "metadata": {},
   "source": [
    "# Final Predictions"
   ]
  },
  {
   "cell_type": "code",
   "execution_count": 41,
   "metadata": {},
   "outputs": [
    {
     "data": {
      "text/html": [
       "<div>\n",
       "<style scoped>\n",
       "    .dataframe tbody tr th:only-of-type {\n",
       "        vertical-align: middle;\n",
       "    }\n",
       "\n",
       "    .dataframe tbody tr th {\n",
       "        vertical-align: top;\n",
       "    }\n",
       "\n",
       "    .dataframe thead th {\n",
       "        text-align: right;\n",
       "    }\n",
       "</style>\n",
       "<table border=\"1\" class=\"dataframe\">\n",
       "  <thead>\n",
       "    <tr style=\"text-align: right;\">\n",
       "      <th></th>\n",
       "      <th>id</th>\n",
       "      <th>score</th>\n",
       "    </tr>\n",
       "  </thead>\n",
       "  <tbody>\n",
       "    <tr>\n",
       "      <th>2</th>\n",
       "      <td>4444cccc</td>\n",
       "      <td>2.0</td>\n",
       "    </tr>\n",
       "  </tbody>\n",
       "</table>\n",
       "</div>"
      ],
      "text/plain": [
       "         id  score\n",
       "2  4444cccc    2.0"
      ]
     },
     "execution_count": 41,
     "metadata": {},
     "output_type": "execute_result"
    }
   ],
   "source": [
    "# create test features\n",
    "test_features = create_features(test)\n",
    "\n",
    "# define X\n",
    "X_test = test_features.drop(columns=['id'])\n",
    "\n",
    "# fit pipeline on all data\n",
    "pipeline.fit(X, y)\n",
    "\n",
    "# get predictions\n",
    "preds = pipeline.predict(X_test)\n",
    "\n",
    "# round to nearest 0.5 and clip\n",
    "rounded_preds = np.round(preds * 2) / 2\n",
    "final_preds = np.clip(rounded_preds, 0.5, 6)\n",
    "\n",
    "# create submission df\n",
    "submission = pd.DataFrame({'id': test['id'].unique(), 'score': final_preds})\n",
    "\n",
    "# check\n",
    "submission.sample()"
   ]
  },
  {
   "cell_type": "code",
   "execution_count": 42,
   "metadata": {},
   "outputs": [],
   "source": [
    "# save submission\n",
    "submission.to_csv('submission.csv', index=False)"
   ]
  },
  {
   "cell_type": "code",
   "execution_count": null,
   "metadata": {},
   "outputs": [],
   "source": []
  }
 ],
 "metadata": {
  "kaggle": {
   "accelerator": "none",
   "dataSources": [
    {
     "databundleVersionId": 6678907,
     "sourceId": 59291,
     "sourceType": "competition"
    }
   ],
   "dockerImageVersionId": 30626,
   "isGpuEnabled": false,
   "isInternetEnabled": false,
   "language": "python",
   "sourceType": "notebook"
  },
  "kernelspec": {
   "display_name": "mmlm_env",
   "language": "python",
   "name": "python3"
  },
  "language_info": {
   "codemirror_mode": {
    "name": "ipython",
    "version": 3
   },
   "file_extension": ".py",
   "mimetype": "text/x-python",
   "name": "python",
   "nbconvert_exporter": "python",
   "pygments_lexer": "ipython3",
   "version": "3.11.11"
  }
 },
 "nbformat": 4,
 "nbformat_minor": 4
}
