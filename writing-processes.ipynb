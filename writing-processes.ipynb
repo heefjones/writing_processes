{
 "cells": [
  {
   "cell_type": "markdown",
   "id": "2a16c49d",
   "metadata": {
    "papermill": {
     "duration": 0.00875,
     "end_time": "2024-01-06T20:12:39.919141",
     "exception": false,
     "start_time": "2024-01-06T20:12:39.910391",
     "status": "completed"
    },
    "tags": []
   },
   "source": [
    "# Inspect data"
   ]
  },
  {
   "cell_type": "code",
   "execution_count": 1,
   "id": "1d404723",
   "metadata": {
    "execution": {
     "iopub.execute_input": "2024-01-06T20:12:39.937086Z",
     "iopub.status.busy": "2024-01-06T20:12:39.935896Z",
     "iopub.status.idle": "2024-01-06T20:12:41.569603Z",
     "shell.execute_reply": "2024-01-06T20:12:41.567958Z"
    },
    "papermill": {
     "duration": 1.645937,
     "end_time": "2024-01-06T20:12:41.572954",
     "exception": false,
     "start_time": "2024-01-06T20:12:39.927017",
     "status": "completed"
    },
    "tags": []
   },
   "outputs": [],
   "source": [
    "import pandas as pd\n",
    "import numpy as np\n",
    "\n",
    "import matplotlib.pyplot as plt\n",
    "import seaborn as sns"
   ]
  },
  {
   "cell_type": "code",
   "execution_count": 2,
   "id": "cbce832d",
   "metadata": {
    "execution": {
     "iopub.execute_input": "2024-01-06T20:12:41.591036Z",
     "iopub.status.busy": "2024-01-06T20:12:41.590564Z",
     "iopub.status.idle": "2024-01-06T20:12:52.173477Z",
     "shell.execute_reply": "2024-01-06T20:12:52.171740Z"
    },
    "papermill": {
     "duration": 10.594827,
     "end_time": "2024-01-06T20:12:52.176248",
     "exception": false,
     "start_time": "2024-01-06T20:12:41.581421",
     "status": "completed"
    },
    "tags": []
   },
   "outputs": [],
   "source": [
    "# root = '/kaggle/input/linking-writing-processes-to-writing-quality/'\n",
    "root = 'data/'\n",
    "\n",
    "# load the data into pandas dataframes\n",
    "scores = pd.read_csv(root + 'train_scores.csv')\n",
    "train = pd.read_csv(root + 'train_logs.csv')\n",
    "test = pd.read_csv(root + 'test_logs.csv')\n",
    "sample = pd.read_csv(root + 'sample_submission.csv')"
   ]
  },
  {
   "cell_type": "code",
   "execution_count": 7,
   "id": "2a3ba051",
   "metadata": {
    "execution": {
     "iopub.execute_input": "2024-01-06T20:12:52.193325Z",
     "iopub.status.busy": "2024-01-06T20:12:52.193001Z",
     "iopub.status.idle": "2024-01-06T20:12:52.559170Z",
     "shell.execute_reply": "2024-01-06T20:12:52.557766Z"
    },
    "papermill": {
     "duration": 0.377255,
     "end_time": "2024-01-06T20:12:52.561273",
     "exception": false,
     "start_time": "2024-01-06T20:12:52.184018",
     "status": "completed"
    },
    "tags": []
   },
   "outputs": [
    {
     "data": {
      "image/png": "[encoded data removed]",
      "text/plain": [
       "<Figure size 640x480 with 1 Axes>"
      ]
     },
     "metadata": {},
     "output_type": "display_data"
    }
   ],
   "source": [
    "plt.title('Distribution of scores')\n",
    "scores['score'].hist();"
   ]
  },
  {
   "cell_type": "code",
   "execution_count": 8,
   "id": "f7730598",
   "metadata": {
    "execution": {
     "iopub.execute_input": "2024-01-06T20:12:52.579959Z",
     "iopub.status.busy": "2024-01-06T20:12:52.579559Z",
     "iopub.status.idle": "2024-01-06T20:12:52.591844Z",
     "shell.execute_reply": "2024-01-06T20:12:52.591115Z"
    },
    "papermill": {
     "duration": 0.02408,
     "end_time": "2024-01-06T20:12:52.593766",
     "exception": false,
     "start_time": "2024-01-06T20:12:52.569686",
     "status": "completed"
    },
    "tags": []
   },
   "outputs": [
    {
     "data": {
      "text/plain": [
       "count    2471.000000\n",
       "mean        3.711251\n",
       "std         1.024937\n",
       "min         0.500000\n",
       "25%         3.000000\n",
       "50%         4.000000\n",
       "75%         4.500000\n",
       "max         6.000000\n",
       "Name: score, dtype: float64"
      ]
     },
     "execution_count": 8,
     "metadata": {},
     "output_type": "execute_result"
    }
   ],
   "source": [
    "scores['score'].describe()"
   ]
  },
  {
   "cell_type": "markdown",
   "id": "5d09b74a",
   "metadata": {
    "papermill": {
     "duration": 0.00799,
     "end_time": "2024-01-06T20:12:52.609815",
     "exception": false,
     "start_time": "2024-01-06T20:12:52.601825",
     "status": "completed"
    },
    "tags": []
   },
   "source": [
    "- Min score of 0.5, max of 6"
   ]
  },
  {
   "cell_type": "code",
   "execution_count": 9,
   "id": "fa1d8e23",
   "metadata": {
    "execution": {
     "iopub.execute_input": "2024-01-06T20:12:52.700513Z",
     "iopub.status.busy": "2024-01-06T20:12:52.700186Z",
     "iopub.status.idle": "2024-01-06T20:12:53.158126Z",
     "shell.execute_reply": "2024-01-06T20:12:53.156982Z"
    },
    "papermill": {
     "duration": 0.469834,
     "end_time": "2024-01-06T20:12:53.160187",
     "exception": false,
     "start_time": "2024-01-06T20:12:52.690353",
     "status": "completed"
    },
    "tags": []
   },
   "outputs": [
    {
     "data": {
      "text/plain": [
       "2471"
      ]
     },
     "execution_count": 9,
     "metadata": {},
     "output_type": "execute_result"
    }
   ],
   "source": [
    "train.id.nunique()"
   ]
  },
  {
   "cell_type": "markdown",
   "id": "87bad5ee",
   "metadata": {
    "papermill": {
     "duration": 0.008684,
     "end_time": "2024-01-06T20:12:53.178491",
     "exception": false,
     "start_time": "2024-01-06T20:12:53.169807",
     "status": "completed"
    },
    "tags": []
   },
   "source": [
    "- 2471 total writers"
   ]
  },
  {
   "cell_type": "markdown",
   "id": "48e4c452",
   "metadata": {
    "papermill": {
     "duration": 0.00976,
     "end_time": "2024-01-06T20:12:56.517627",
     "exception": false,
     "start_time": "2024-01-06T20:12:56.507867",
     "status": "completed"
    },
    "tags": []
   },
   "source": [
    "# Create feature df"
   ]
  },
  {
   "cell_type": "code",
   "execution_count": 3,
   "id": "5c0c8b85",
   "metadata": {
    "execution": {
     "iopub.execute_input": "2024-01-06T20:12:56.559070Z",
     "iopub.status.busy": "2024-01-06T20:12:56.558699Z",
     "iopub.status.idle": "2024-01-06T20:12:56.570848Z",
     "shell.execute_reply": "2024-01-06T20:12:56.569577Z"
    },
    "papermill": {
     "duration": 0.025747,
     "end_time": "2024-01-06T20:12:56.573069",
     "exception": false,
     "start_time": "2024-01-06T20:12:56.547322",
     "status": "completed"
    },
    "tags": []
   },
   "outputs": [],
   "source": [
    "# function to convert logs to a features df\n",
    "\n",
    "def create_features_dataframe(df):\n",
    "    # If activity column contains 'Move', set that value to 'Move'\n",
    "    df.loc[df['activity'].str.contains('Move', na=False), 'activity'] = 'Move'\n",
    "\n",
    "    # Group users by id\n",
    "    grouped = df.groupby('id')\n",
    "\n",
    "    # Calculate summary statistics for each user\n",
    "    features = grouped.agg({\n",
    "        'down_time': ['sum', 'mean', 'std', 'min', 'max'], \n",
    "        'up_time': ['sum', 'mean', 'std', 'min', 'max'],    \n",
    "        'action_time': ['sum', 'mean', 'std', 'min', 'max'],\n",
    "        'id': 'count'                                       \n",
    "    })\n",
    "\n",
    "    # Flatten the multi-level columns\n",
    "    features.columns = ['_'.join(col).strip() for col in features.columns.values]\n",
    "\n",
    "    # Reset index to make 'id' a column again\n",
    "    features.reset_index(inplace=True)\n",
    "\n",
    "    # Rename 'id_count' to 'tot_actions'\n",
    "    features = features.rename(columns={\"id_count\": \"tot_actions\"})\n",
    "\n",
    "    # Group by user and take the last 'word_count' value\n",
    "    last_word_count = df.groupby('id')['word_count'].last().reset_index()\n",
    "\n",
    "    # Add to features dataframe\n",
    "    features = features.merge(last_word_count, on='id', how='left')\n",
    "\n",
    "    # Add column 'keys_per_word' by dividing 'tot_actions' by 'word_count'\n",
    "    features['keys_per_word'] = features['tot_actions'] / features['word_count']\n",
    "\n",
    "    # Replace infinite values with 0\n",
    "    features['keys_per_word'].replace([np.inf, -np.inf], 0, inplace=True)\n",
    "\n",
    "    # Calculate the count of each activity type per user\n",
    "    activity_counts = df.pivot_table(index='id', columns='activity', aggfunc='size', fill_value=0).reset_index()\n",
    "\n",
    "    # Ensure all expected activity columns are present\n",
    "    expected_activities = ['Move', 'Nonproduction', 'Paste', 'Remove/Cut', 'Replace', 'Input']\n",
    "    for activity in expected_activities:\n",
    "        if activity not in activity_counts:\n",
    "            activity_counts[activity] = 0\n",
    "\n",
    "    # Now, calculate the percentages by dividing each activity count by the total count of activities ('tot_actions')\n",
    "    activity_percentages = activity_counts.iloc[:, 1:].div(features['tot_actions'], axis=0)\n",
    "\n",
    "    # Rename the columns to reflect that these are percentages\n",
    "    activity_percentages.columns = [str(col) + '_percent' for col in activity_percentages.columns]\n",
    "\n",
    "    # Add the activity percentages to the features dataframe\n",
    "    features = pd.concat([features, activity_percentages], axis=1)\n",
    "\n",
    "    return features"
   ]
  },
  {
   "cell_type": "code",
   "execution_count": 4,
   "id": "e23f2a99",
   "metadata": {
    "execution": {
     "iopub.execute_input": "2024-01-06T20:12:56.594528Z",
     "iopub.status.busy": "2024-01-06T20:12:56.594195Z",
     "iopub.status.idle": "2024-01-06T20:13:03.099469Z",
     "shell.execute_reply": "2024-01-06T20:13:03.098385Z"
    },
    "papermill": {
     "duration": 6.519012,
     "end_time": "2024-01-06T20:13:03.102166",
     "exception": false,
     "start_time": "2024-01-06T20:12:56.583154",
     "status": "completed"
    },
    "tags": []
   },
   "outputs": [],
   "source": [
    "# create the features df\n",
    "train = create_features_dataframe(train)\n",
    "\n",
    "# add essay scores\n",
    "train = train.merge(scores, on='id', how='left')"
   ]
  },
  {
   "cell_type": "code",
   "execution_count": 5,
   "id": "d002a478",
   "metadata": {
    "execution": {
     "iopub.execute_input": "2024-01-06T20:13:03.122694Z",
     "iopub.status.busy": "2024-01-06T20:13:03.122317Z",
     "iopub.status.idle": "2024-01-06T20:13:03.151063Z",
     "shell.execute_reply": "2024-01-06T20:13:03.149723Z"
    },
    "papermill": {
     "duration": 0.041161,
     "end_time": "2024-01-06T20:13:03.153108",
     "exception": false,
     "start_time": "2024-01-06T20:13:03.111947",
     "status": "completed"
    },
    "tags": []
   },
   "outputs": [
    {
     "data": {
      "text/html": [
       "<div>\n",
       "<style scoped>\n",
       "    .dataframe tbody tr th:only-of-type {\n",
       "        vertical-align: middle;\n",
       "    }\n",
       "\n",
       "    .dataframe tbody tr th {\n",
       "        vertical-align: top;\n",
       "    }\n",
       "\n",
       "    .dataframe thead th {\n",
       "        text-align: right;\n",
       "    }\n",
       "</style>\n",
       "<table border=\"1\" class=\"dataframe\">\n",
       "  <thead>\n",
       "    <tr style=\"text-align: right;\">\n",
       "      <th></th>\n",
       "      <th>id</th>\n",
       "      <th>down_time_sum</th>\n",
       "      <th>down_time_mean</th>\n",
       "      <th>down_time_std</th>\n",
       "      <th>down_time_min</th>\n",
       "      <th>down_time_max</th>\n",
       "      <th>up_time_sum</th>\n",
       "      <th>up_time_mean</th>\n",
       "      <th>up_time_std</th>\n",
       "      <th>up_time_min</th>\n",
       "      <th>...</th>\n",
       "      <th>tot_actions</th>\n",
       "      <th>word_count</th>\n",
       "      <th>keys_per_word</th>\n",
       "      <th>Input_percent</th>\n",
       "      <th>Move_percent</th>\n",
       "      <th>Nonproduction_percent</th>\n",
       "      <th>Paste_percent</th>\n",
       "      <th>Remove/Cut_percent</th>\n",
       "      <th>Replace_percent</th>\n",
       "      <th>score</th>\n",
       "    </tr>\n",
       "  </thead>\n",
       "  <tbody>\n",
       "    <tr>\n",
       "      <th>0</th>\n",
       "      <td>001519c8</td>\n",
       "      <td>2168798234</td>\n",
       "      <td>8.481808e+05</td>\n",
       "      <td>395112.665961</td>\n",
       "      <td>4526</td>\n",
       "      <td>1801877</td>\n",
       "      <td>2169095477</td>\n",
       "      <td>8.482970e+05</td>\n",
       "      <td>395105.685655</td>\n",
       "      <td>4557</td>\n",
       "      <td>...</td>\n",
       "      <td>2557</td>\n",
       "      <td>255</td>\n",
       "      <td>10.027451</td>\n",
       "      <td>0.786077</td>\n",
       "      <td>0.001173</td>\n",
       "      <td>0.046930</td>\n",
       "      <td>0.000000</td>\n",
       "      <td>0.163082</td>\n",
       "      <td>0.002738</td>\n",
       "      <td>3.5</td>\n",
       "    </tr>\n",
       "    <tr>\n",
       "      <th>1</th>\n",
       "      <td>0022f953</td>\n",
       "      <td>1273271023</td>\n",
       "      <td>5.188553e+05</td>\n",
       "      <td>384959.404177</td>\n",
       "      <td>30623</td>\n",
       "      <td>1788842</td>\n",
       "      <td>1273546414</td>\n",
       "      <td>5.189676e+05</td>\n",
       "      <td>384952.728796</td>\n",
       "      <td>30853</td>\n",
       "      <td>...</td>\n",
       "      <td>2454</td>\n",
       "      <td>320</td>\n",
       "      <td>7.668750</td>\n",
       "      <td>0.789731</td>\n",
       "      <td>0.000000</td>\n",
       "      <td>0.103504</td>\n",
       "      <td>0.000407</td>\n",
       "      <td>0.105949</td>\n",
       "      <td>0.000407</td>\n",
       "      <td>3.5</td>\n",
       "    </tr>\n",
       "    <tr>\n",
       "      <th>2</th>\n",
       "      <td>0042269b</td>\n",
       "      <td>3426641982</td>\n",
       "      <td>8.284918e+05</td>\n",
       "      <td>489500.796565</td>\n",
       "      <td>4441</td>\n",
       "      <td>1771219</td>\n",
       "      <td>3427063183</td>\n",
       "      <td>8.285936e+05</td>\n",
       "      <td>489500.438784</td>\n",
       "      <td>4540</td>\n",
       "      <td>...</td>\n",
       "      <td>4136</td>\n",
       "      <td>404</td>\n",
       "      <td>10.237624</td>\n",
       "      <td>0.849855</td>\n",
       "      <td>0.000000</td>\n",
       "      <td>0.042311</td>\n",
       "      <td>0.000000</td>\n",
       "      <td>0.106141</td>\n",
       "      <td>0.001692</td>\n",
       "      <td>6.0</td>\n",
       "    </tr>\n",
       "    <tr>\n",
       "      <th>3</th>\n",
       "      <td>0059420b</td>\n",
       "      <td>1222211589</td>\n",
       "      <td>7.854830e+05</td>\n",
       "      <td>385205.014399</td>\n",
       "      <td>41395</td>\n",
       "      <td>1404394</td>\n",
       "      <td>1222401185</td>\n",
       "      <td>7.856049e+05</td>\n",
       "      <td>385206.081250</td>\n",
       "      <td>41513</td>\n",
       "      <td>...</td>\n",
       "      <td>1556</td>\n",
       "      <td>206</td>\n",
       "      <td>7.553398</td>\n",
       "      <td>0.838046</td>\n",
       "      <td>0.000000</td>\n",
       "      <td>0.063625</td>\n",
       "      <td>0.000643</td>\n",
       "      <td>0.097044</td>\n",
       "      <td>0.000643</td>\n",
       "      <td>2.0</td>\n",
       "    </tr>\n",
       "    <tr>\n",
       "      <th>4</th>\n",
       "      <td>0075873a</td>\n",
       "      <td>1805499474</td>\n",
       "      <td>7.133542e+05</td>\n",
       "      <td>405576.409034</td>\n",
       "      <td>78470</td>\n",
       "      <td>1662390</td>\n",
       "      <td>1805813176</td>\n",
       "      <td>7.134781e+05</td>\n",
       "      <td>405575.631746</td>\n",
       "      <td>78693</td>\n",
       "      <td>...</td>\n",
       "      <td>2531</td>\n",
       "      <td>252</td>\n",
       "      <td>10.043651</td>\n",
       "      <td>0.767286</td>\n",
       "      <td>0.000000</td>\n",
       "      <td>0.028447</td>\n",
       "      <td>0.000000</td>\n",
       "      <td>0.204267</td>\n",
       "      <td>0.000000</td>\n",
       "      <td>4.0</td>\n",
       "    </tr>\n",
       "    <tr>\n",
       "      <th>...</th>\n",
       "      <td>...</td>\n",
       "      <td>...</td>\n",
       "      <td>...</td>\n",
       "      <td>...</td>\n",
       "      <td>...</td>\n",
       "      <td>...</td>\n",
       "      <td>...</td>\n",
       "      <td>...</td>\n",
       "      <td>...</td>\n",
       "      <td>...</td>\n",
       "      <td>...</td>\n",
       "      <td>...</td>\n",
       "      <td>...</td>\n",
       "      <td>...</td>\n",
       "      <td>...</td>\n",
       "      <td>...</td>\n",
       "      <td>...</td>\n",
       "      <td>...</td>\n",
       "      <td>...</td>\n",
       "      <td>...</td>\n",
       "      <td>...</td>\n",
       "    </tr>\n",
       "    <tr>\n",
       "      <th>2466</th>\n",
       "      <td>ffb8c745</td>\n",
       "      <td>3488386746</td>\n",
       "      <td>7.361019e+05</td>\n",
       "      <td>503882.020411</td>\n",
       "      <td>22467</td>\n",
       "      <td>1791581</td>\n",
       "      <td>3488886416</td>\n",
       "      <td>7.362073e+05</td>\n",
       "      <td>503869.416702</td>\n",
       "      <td>22551</td>\n",
       "      <td>...</td>\n",
       "      <td>4739</td>\n",
       "      <td>273</td>\n",
       "      <td>17.358974</td>\n",
       "      <td>0.757122</td>\n",
       "      <td>0.000000</td>\n",
       "      <td>0.039882</td>\n",
       "      <td>0.000000</td>\n",
       "      <td>0.202574</td>\n",
       "      <td>0.000422</td>\n",
       "      <td>3.5</td>\n",
       "    </tr>\n",
       "    <tr>\n",
       "      <th>2467</th>\n",
       "      <td>ffbef7e5</td>\n",
       "      <td>2192480040</td>\n",
       "      <td>8.419662e+05</td>\n",
       "      <td>512744.745940</td>\n",
       "      <td>21732</td>\n",
       "      <td>1799124</td>\n",
       "      <td>2192694261</td>\n",
       "      <td>8.420485e+05</td>\n",
       "      <td>512743.480803</td>\n",
       "      <td>22027</td>\n",
       "      <td>...</td>\n",
       "      <td>2604</td>\n",
       "      <td>438</td>\n",
       "      <td>5.945205</td>\n",
       "      <td>0.919739</td>\n",
       "      <td>0.000000</td>\n",
       "      <td>0.056836</td>\n",
       "      <td>0.000000</td>\n",
       "      <td>0.023041</td>\n",
       "      <td>0.000384</td>\n",
       "      <td>4.0</td>\n",
       "    </tr>\n",
       "    <tr>\n",
       "      <th>2468</th>\n",
       "      <td>ffccd6fd</td>\n",
       "      <td>3764472937</td>\n",
       "      <td>1.229015e+06</td>\n",
       "      <td>514320.848199</td>\n",
       "      <td>23482</td>\n",
       "      <td>1959273</td>\n",
       "      <td>3764704517</td>\n",
       "      <td>1.229091e+06</td>\n",
       "      <td>514304.092076</td>\n",
       "      <td>23570</td>\n",
       "      <td>...</td>\n",
       "      <td>3063</td>\n",
       "      <td>201</td>\n",
       "      <td>15.238806</td>\n",
       "      <td>0.930134</td>\n",
       "      <td>0.000000</td>\n",
       "      <td>0.041136</td>\n",
       "      <td>0.000000</td>\n",
       "      <td>0.028730</td>\n",
       "      <td>0.000000</td>\n",
       "      <td>1.5</td>\n",
       "    </tr>\n",
       "    <tr>\n",
       "      <th>2469</th>\n",
       "      <td>ffec5b38</td>\n",
       "      <td>1869073112</td>\n",
       "      <td>5.765185e+05</td>\n",
       "      <td>334477.976640</td>\n",
       "      <td>19885</td>\n",
       "      <td>1508335</td>\n",
       "      <td>1869362551</td>\n",
       "      <td>5.766078e+05</td>\n",
       "      <td>334470.259981</td>\n",
       "      <td>20088</td>\n",
       "      <td>...</td>\n",
       "      <td>3242</td>\n",
       "      <td>413</td>\n",
       "      <td>7.849879</td>\n",
       "      <td>0.892967</td>\n",
       "      <td>0.000000</td>\n",
       "      <td>0.021900</td>\n",
       "      <td>0.000000</td>\n",
       "      <td>0.085133</td>\n",
       "      <td>0.000000</td>\n",
       "      <td>5.0</td>\n",
       "    </tr>\n",
       "    <tr>\n",
       "      <th>2470</th>\n",
       "      <td>fff05981</td>\n",
       "      <td>3897099261</td>\n",
       "      <td>1.076844e+06</td>\n",
       "      <td>581107.759299</td>\n",
       "      <td>39727</td>\n",
       "      <td>2070065</td>\n",
       "      <td>3897400496</td>\n",
       "      <td>1.076927e+06</td>\n",
       "      <td>581107.579304</td>\n",
       "      <td>39880</td>\n",
       "      <td>...</td>\n",
       "      <td>3619</td>\n",
       "      <td>240</td>\n",
       "      <td>15.079167</td>\n",
       "      <td>0.677535</td>\n",
       "      <td>0.000276</td>\n",
       "      <td>0.232937</td>\n",
       "      <td>0.000276</td>\n",
       "      <td>0.085659</td>\n",
       "      <td>0.003316</td>\n",
       "      <td>4.0</td>\n",
       "    </tr>\n",
       "  </tbody>\n",
       "</table>\n",
       "<p>2471 rows × 26 columns</p>\n",
       "</div>"
      ],
      "text/plain": [
       "            id  down_time_sum  down_time_mean  down_time_std  down_time_min  \\\n",
       "0     001519c8     2168798234    8.481808e+05  395112.665961           4526   \n",
       "1     0022f953     1273271023    5.188553e+05  384959.404177          30623   \n",
       "2     0042269b     3426641982    8.284918e+05  489500.796565           4441   \n",
       "3     0059420b     1222211589    7.854830e+05  385205.014399          41395   \n",
       "4     0075873a     1805499474    7.133542e+05  405576.409034          78470   \n",
       "...        ...            ...             ...            ...            ...   \n",
       "2466  ffb8c745     3488386746    7.361019e+05  503882.020411          22467   \n",
       "2467  ffbef7e5     2192480040    8.419662e+05  512744.745940          21732   \n",
       "2468  ffccd6fd     3764472937    1.229015e+06  514320.848199          23482   \n",
       "2469  ffec5b38     1869073112    5.765185e+05  334477.976640          19885   \n",
       "2470  fff05981     3897099261    1.076844e+06  581107.759299          39727   \n",
       "\n",
       "      down_time_max  up_time_sum  up_time_mean    up_time_std  up_time_min  \\\n",
       "0           1801877   2169095477  8.482970e+05  395105.685655         4557   \n",
       "1           1788842   1273546414  5.189676e+05  384952.728796        30853   \n",
       "2           1771219   3427063183  8.285936e+05  489500.438784         4540   \n",
       "3           1404394   1222401185  7.856049e+05  385206.081250        41513   \n",
       "4           1662390   1805813176  7.134781e+05  405575.631746        78693   \n",
       "...             ...          ...           ...            ...          ...   \n",
       "2466        1791581   3488886416  7.362073e+05  503869.416702        22551   \n",
       "2467        1799124   2192694261  8.420485e+05  512743.480803        22027   \n",
       "2468        1959273   3764704517  1.229091e+06  514304.092076        23570   \n",
       "2469        1508335   1869362551  5.766078e+05  334470.259981        20088   \n",
       "2470        2070065   3897400496  1.076927e+06  581107.579304        39880   \n",
       "\n",
       "      ...  tot_actions  word_count  keys_per_word  Input_percent  \\\n",
       "0     ...         2557         255      10.027451       0.786077   \n",
       "1     ...         2454         320       7.668750       0.789731   \n",
       "2     ...         4136         404      10.237624       0.849855   \n",
       "3     ...         1556         206       7.553398       0.838046   \n",
       "4     ...         2531         252      10.043651       0.767286   \n",
       "...   ...          ...         ...            ...            ...   \n",
       "2466  ...         4739         273      17.358974       0.757122   \n",
       "2467  ...         2604         438       5.945205       0.919739   \n",
       "2468  ...         3063         201      15.238806       0.930134   \n",
       "2469  ...         3242         413       7.849879       0.892967   \n",
       "2470  ...         3619         240      15.079167       0.677535   \n",
       "\n",
       "      Move_percent  Nonproduction_percent  Paste_percent  Remove/Cut_percent  \\\n",
       "0         0.001173               0.046930       0.000000            0.163082   \n",
       "1         0.000000               0.103504       0.000407            0.105949   \n",
       "2         0.000000               0.042311       0.000000            0.106141   \n",
       "3         0.000000               0.063625       0.000643            0.097044   \n",
       "4         0.000000               0.028447       0.000000            0.204267   \n",
       "...            ...                    ...            ...                 ...   \n",
       "2466      0.000000               0.039882       0.000000            0.202574   \n",
       "2467      0.000000               0.056836       0.000000            0.023041   \n",
       "2468      0.000000               0.041136       0.000000            0.028730   \n",
       "2469      0.000000               0.021900       0.000000            0.085133   \n",
       "2470      0.000276               0.232937       0.000276            0.085659   \n",
       "\n",
       "      Replace_percent  score  \n",
       "0            0.002738    3.5  \n",
       "1            0.000407    3.5  \n",
       "2            0.001692    6.0  \n",
       "3            0.000643    2.0  \n",
       "4            0.000000    4.0  \n",
       "...               ...    ...  \n",
       "2466         0.000422    3.5  \n",
       "2467         0.000384    4.0  \n",
       "2468         0.000000    1.5  \n",
       "2469         0.000000    5.0  \n",
       "2470         0.003316    4.0  \n",
       "\n",
       "[2471 rows x 26 columns]"
      ]
     },
     "execution_count": 5,
     "metadata": {},
     "output_type": "execute_result"
    }
   ],
   "source": [
    "# check\n",
    "train"
   ]
  },
  {
   "cell_type": "markdown",
   "id": "f5e6e8a1",
   "metadata": {
    "papermill": {
     "duration": 0.009683,
     "end_time": "2024-01-06T20:13:03.172992",
     "exception": false,
     "start_time": "2024-01-06T20:13:03.163309",
     "status": "completed"
    },
    "tags": []
   },
   "source": [
    "- Have the final features df with 24 total features (+ id and score) to train models on."
   ]
  },
  {
   "cell_type": "markdown",
   "id": "0d2e6029",
   "metadata": {
    "papermill": {
     "duration": 0.009796,
     "end_time": "2024-01-06T20:13:03.192776",
     "exception": false,
     "start_time": "2024-01-06T20:13:03.182980",
     "status": "completed"
    },
    "tags": []
   },
   "source": [
    "# Split and Scale data"
   ]
  },
  {
   "cell_type": "code",
   "execution_count": 6,
   "id": "a001192f",
   "metadata": {
    "execution": {
     "iopub.execute_input": "2024-01-06T20:13:03.215084Z",
     "iopub.status.busy": "2024-01-06T20:13:03.214746Z",
     "iopub.status.idle": "2024-01-06T20:13:03.484643Z",
     "shell.execute_reply": "2024-01-06T20:13:03.482923Z"
    },
    "papermill": {
     "duration": 0.28428,
     "end_time": "2024-01-06T20:13:03.487102",
     "exception": false,
     "start_time": "2024-01-06T20:13:03.202822",
     "status": "completed"
    },
    "tags": []
   },
   "outputs": [],
   "source": [
    "from sklearn.model_selection import cross_val_score\n",
    "from sklearn.preprocessing import StandardScaler\n",
    "from sklearn.metrics import mean_squared_error, make_scorer\n",
    "\n",
    "random_state = 0"
   ]
  },
  {
   "cell_type": "code",
   "execution_count": 7,
   "id": "66d13542",
   "metadata": {
    "execution": {
     "iopub.execute_input": "2024-01-06T20:13:03.509191Z",
     "iopub.status.busy": "2024-01-06T20:13:03.508820Z",
     "iopub.status.idle": "2024-01-06T20:13:03.518720Z",
     "shell.execute_reply": "2024-01-06T20:13:03.516840Z"
    },
    "papermill": {
     "duration": 0.023805,
     "end_time": "2024-01-06T20:13:03.521285",
     "exception": false,
     "start_time": "2024-01-06T20:13:03.497480",
     "status": "completed"
    },
    "tags": []
   },
   "outputs": [],
   "source": [
    "X, y = train.drop(['id', 'score'], axis=1), train['score']"
   ]
  },
  {
   "cell_type": "code",
   "execution_count": 8,
   "id": "a49b0dd2",
   "metadata": {
    "execution": {
     "iopub.execute_input": "2024-01-06T20:13:03.543481Z",
     "iopub.status.busy": "2024-01-06T20:13:03.543151Z",
     "iopub.status.idle": "2024-01-06T20:13:03.556049Z",
     "shell.execute_reply": "2024-01-06T20:13:03.554888Z"
    },
    "papermill": {
     "duration": 0.026392,
     "end_time": "2024-01-06T20:13:03.558045",
     "exception": false,
     "start_time": "2024-01-06T20:13:03.531653",
     "status": "completed"
    },
    "tags": []
   },
   "outputs": [],
   "source": [
    "scaler = StandardScaler()\n",
    "X = scaler.fit_transform(X)"
   ]
  },
  {
   "cell_type": "markdown",
   "id": "5caca112",
   "metadata": {},
   "source": [
    "# RMSE scoring"
   ]
  },
  {
   "cell_type": "code",
   "execution_count": 23,
   "id": "c19d455d",
   "metadata": {},
   "outputs": [],
   "source": [
    "# Define a function to calculate negative RMSE\n",
    "def negative_rmse(y_true, y_pred):\n",
    "    return -np.sqrt(mean_squared_error(y_true, y_pred))\n",
    "\n",
    "# Create a custom scorer. The greater_is_better parameter is False because a lower RMSE is better.\n",
    "rmse_scorer = make_scorer(negative_rmse, greater_is_better=False)"
   ]
  },
  {
   "cell_type": "markdown",
   "id": "3c83699d",
   "metadata": {
    "papermill": {
     "duration": 0.010839,
     "end_time": "2024-01-06T20:13:03.580285",
     "exception": false,
     "start_time": "2024-01-06T20:13:03.569446",
     "status": "completed"
    },
    "tags": []
   },
   "source": [
    "# Models"
   ]
  },
  {
   "cell_type": "code",
   "execution_count": 24,
   "id": "ffcf0691",
   "metadata": {
    "execution": {
     "iopub.execute_input": "2024-01-06T20:13:03.603361Z",
     "iopub.status.busy": "2024-01-06T20:13:03.603002Z",
     "iopub.status.idle": "2024-01-06T20:13:03.859016Z",
     "shell.execute_reply": "2024-01-06T20:13:03.858189Z"
    },
    "papermill": {
     "duration": 0.268973,
     "end_time": "2024-01-06T20:13:03.860728",
     "exception": false,
     "start_time": "2024-01-06T20:13:03.591755",
     "status": "completed"
    },
    "tags": []
   },
   "outputs": [],
   "source": [
    "from sklearn.pipeline import Pipeline\n",
    "from sklearn.tree import DecisionTreeRegressor\n",
    "from sklearn.ensemble import ExtraTreesRegressor, RandomForestRegressor, VotingRegressor, StackingRegressor\n",
    "from sklearn.linear_model import LinearRegression\n",
    "from sklearn.svm import SVR\n",
    "from sklearn.neighbors import KNeighborsRegressor\n",
    "from sklearn.neural_network import MLPRegressor\n",
    "from xgboost import XGBRegressor"
   ]
  },
  {
   "cell_type": "code",
   "execution_count": 27,
   "id": "127d3759",
   "metadata": {},
   "outputs": [],
   "source": [
    "regressors = [['NeuralNetwork :', MLPRegressor(max_iter = 1000, random_state=random_state)],\n",
    "               ['LinearRegression :', LinearRegression(n_jobs=-1)],\n",
    "               ['ExtraTreesClassifier :', ExtraTreesRegressor(n_jobs=-1, random_state=random_state)],\n",
    "               ['DecisionTree :',DecisionTreeRegressor(random_state=random_state)],\n",
    "               ['RandomForest :',RandomForestRegressor(n_jobs=-1, random_state=random_state)],\n",
    "               ['KNeighbors :', KNeighborsRegressor(n_jobs=-1)],\n",
    "               ['SVM :', SVR()],\n",
    "               ['XGB :', XGBRegressor(n_jobs=-1, random_state=random_state)]]"
   ]
  },
  {
   "cell_type": "code",
   "execution_count": 38,
   "id": "8c087d46",
   "metadata": {},
   "outputs": [
    {
     "name": "stdout",
     "output_type": "stream",
     "text": [
      "NeuralNetwork : 0.7214644395186861\n",
      "LinearRegression : 0.7584734465615021\n",
      "ExtraTreesClassifier : 0.7019652621075528\n",
      "DecisionTree : 0.9676938616583893\n",
      "RandomForest : 0.7021256346601337\n",
      "KNeighbors : 0.7810512275463075\n",
      "SVM : 0.7134290379300061\n",
      "XGB : 0.735591776681426\n"
     ]
    }
   ],
   "source": [
    "# default hyperparameters\n",
    "for name,regressor in regressors:\n",
    "    print(name, cross_val_score(regressor, X, y, cv=5, scoring=rmse_scorer, n_jobs=-1).mean())"
   ]
  },
  {
   "cell_type": "markdown",
   "id": "c9025fab",
   "metadata": {},
   "source": [
    "- 8 Different models. ExtraTrees and RandomForest performing the best."
   ]
  },
  {
   "cell_type": "markdown",
   "id": "49be552a",
   "metadata": {},
   "source": [
    "# Optimization"
   ]
  },
  {
   "cell_type": "code",
   "execution_count": 42,
   "id": "4cda5613",
   "metadata": {},
   "outputs": [],
   "source": [
    "from skopt import gp_minimize\n",
    "from skopt.space import Real, Categorical, Integer\n",
    "from skopt.utils import use_named_args\n",
    "\n",
    "from bayes_opt import BayesianOptimization"
   ]
  },
  {
   "cell_type": "markdown",
   "id": "78271355",
   "metadata": {},
   "source": [
    "### Random Forest"
   ]
  },
  {
   "cell_type": "code",
   "execution_count": 30,
   "id": "ecfc498c",
   "metadata": {},
   "outputs": [],
   "source": [
    "def objective_function(n_estimators, max_depth, min_samples_split, min_samples_leaf, max_features):\n",
    "    # cast continuous values to int\n",
    "    n_estimators = int(n_estimators)\n",
    "    max_depth = int(max_depth)\n",
    "    min_samples_split = int(min_samples_split)\n",
    "    min_samples_leaf = int(min_samples_leaf)\n",
    "    max_features = int(max_features)\n",
    "\n",
    "    # define the model with the given hyperparameters\n",
    "    model = RandomForestRegressor(\n",
    "        n_estimators=n_estimators,\n",
    "        max_depth=max_depth,\n",
    "        min_samples_split=min_samples_split,\n",
    "        min_samples_leaf=min_samples_leaf,\n",
    "        max_features=max_features,\n",
    "        random_state=random_state,\n",
    "        n_jobs=-1\n",
    "    )\n",
    "\n",
    "    # calculate the validation metric for this set of hyperparameters\n",
    "    val_rmse = cross_val_score(model, X, y, cv=5, scoring=rmse_scorer, n_jobs=-1).mean()\n",
    "    \n",
    "    # return the negative of the validation metric (since Bayesian optimization minimizes)\n",
    "    return -val_rmse\n",
    "\n",
    "# define bounds of each hyperparameter\n",
    "pbounds = {\n",
    "    'n_estimators': (100, 1000),\n",
    "    'max_depth': (2, 20),\n",
    "    'min_samples_split': (2, 10),\n",
    "    'min_samples_leaf': (1, 10),\n",
    "    'max_features': (1, 24)\n",
    "}\n",
    "\n",
    "# create the Bayesian optimizer\n",
    "optimizer = BayesianOptimization(\n",
    "    f=objective_function,\n",
    "    pbounds=pbounds,\n",
    "    random_state=random_state,\n",
    "    allow_duplicate_points=True\n",
    ")"
   ]
  },
  {
   "cell_type": "code",
   "execution_count": 32,
   "id": "aa0662c1",
   "metadata": {},
   "outputs": [
    {
     "name": "stdout",
     "output_type": "stream",
     "text": [
      "|   iter    |  target   | max_depth | max_fe... | min_sa... | min_sa... | n_esti... |\n",
      "-------------------------------------------------------------------------------------\n",
      "| \u001b[0m1        \u001b[0m | \u001b[0m-0.6931  \u001b[0m | \u001b[0m11.88    \u001b[0m | \u001b[0m17.45    \u001b[0m | \u001b[0m6.425    \u001b[0m | \u001b[0m6.359    \u001b[0m | \u001b[0m481.3    \u001b[0m |\n",
      "| \u001b[95m2        \u001b[0m | \u001b[95m-0.6918  \u001b[0m | \u001b[95m13.63    \u001b[0m | \u001b[95m11.06    \u001b[0m | \u001b[95m9.026    \u001b[0m | \u001b[95m9.709    \u001b[0m | \u001b[95m445.1    \u001b[0m |\n",
      "| \u001b[0m3        \u001b[0m | \u001b[0m-0.6931  \u001b[0m | \u001b[0m16.25    \u001b[0m | \u001b[0m13.16    \u001b[0m | \u001b[0m6.112    \u001b[0m | \u001b[0m9.405    \u001b[0m | \u001b[0m163.9    \u001b[0m |\n",
      "| \u001b[0m4        \u001b[0m | \u001b[0m-0.8712  \u001b[0m | \u001b[0m3.568    \u001b[0m | \u001b[0m1.465    \u001b[0m | \u001b[0m8.494    \u001b[0m | \u001b[0m8.225    \u001b[0m | \u001b[0m883.0    \u001b[0m |\n",
      "| \u001b[0m5        \u001b[0m | \u001b[0m-0.6964  \u001b[0m | \u001b[0m19.62    \u001b[0m | \u001b[0m19.38    \u001b[0m | \u001b[0m5.153    \u001b[0m | \u001b[0m8.244    \u001b[0m | \u001b[0m206.4    \u001b[0m |\n",
      "| \u001b[0m6        \u001b[0m | \u001b[0m-0.6936  \u001b[0m | \u001b[0m13.52    \u001b[0m | \u001b[0m4.297    \u001b[0m | \u001b[0m9.502    \u001b[0m | \u001b[0m6.175    \u001b[0m | \u001b[0m473.2    \u001b[0m |\n",
      "| \u001b[0m7        \u001b[0m | \u001b[0m-0.6941  \u001b[0m | \u001b[0m6.762    \u001b[0m | \u001b[0m18.81    \u001b[0m | \u001b[0m5.105    \u001b[0m | \u001b[0m6.547    \u001b[0m | \u001b[0m116.9    \u001b[0m |\n",
      "| \u001b[0m8        \u001b[0m | \u001b[0m-0.6924  \u001b[0m | \u001b[0m13.12    \u001b[0m | \u001b[0m15.08    \u001b[0m | \u001b[0m6.552    \u001b[0m | \u001b[0m9.55     \u001b[0m | \u001b[0m713.6    \u001b[0m |\n",
      "| \u001b[95m9        \u001b[0m | \u001b[95m-0.6918  \u001b[0m | \u001b[95m8.471    \u001b[0m | \u001b[95m11.05    \u001b[0m | \u001b[95m7.279    \u001b[0m | \u001b[95m2.482    \u001b[0m | \u001b[95m700.1    \u001b[0m |\n",
      "| \u001b[95m10       \u001b[0m | \u001b[95m-0.69    \u001b[0m | \u001b[95m14.07    \u001b[0m | \u001b[95m5.839    \u001b[0m | \u001b[95m2.16     \u001b[0m | \u001b[95m4.523    \u001b[0m | \u001b[95m427.3    \u001b[0m |\n",
      "| \u001b[0m11       \u001b[0m | \u001b[0m-0.6993  \u001b[0m | \u001b[0m20.0     \u001b[0m | \u001b[0m24.0     \u001b[0m | \u001b[0m1.0      \u001b[0m | \u001b[0m10.0     \u001b[0m | \u001b[0m607.7    \u001b[0m |\n",
      "| \u001b[0m12       \u001b[0m | \u001b[0m-0.9162  \u001b[0m | \u001b[0m2.0      \u001b[0m | \u001b[0m1.0      \u001b[0m | \u001b[0m10.0     \u001b[0m | \u001b[0m2.0      \u001b[0m | \u001b[0m320.1    \u001b[0m |\n",
      "| \u001b[0m13       \u001b[0m | \u001b[0m-0.6914  \u001b[0m | \u001b[0m10.74    \u001b[0m | \u001b[0m4.61     \u001b[0m | \u001b[0m3.439    \u001b[0m | \u001b[0m2.886    \u001b[0m | \u001b[0m426.2    \u001b[0m |\n",
      "| \u001b[0m14       \u001b[0m | \u001b[0m-0.7075  \u001b[0m | \u001b[0m3.206    \u001b[0m | \u001b[0m21.56    \u001b[0m | \u001b[0m5.68     \u001b[0m | \u001b[0m3.125    \u001b[0m | \u001b[0m999.6    \u001b[0m |\n",
      "| \u001b[0m15       \u001b[0m | \u001b[0m-0.9115  \u001b[0m | \u001b[0m2.0      \u001b[0m | \u001b[0m1.0      \u001b[0m | \u001b[0m10.0     \u001b[0m | \u001b[0m2.0      \u001b[0m | \u001b[0m551.4    \u001b[0m |\n",
      "| \u001b[0m16       \u001b[0m | \u001b[0m-0.6974  \u001b[0m | \u001b[0m18.41    \u001b[0m | \u001b[0m23.45    \u001b[0m | \u001b[0m3.82     \u001b[0m | \u001b[0m7.665    \u001b[0m | \u001b[0m651.3    \u001b[0m |\n",
      "| \u001b[0m17       \u001b[0m | \u001b[0m-0.7895  \u001b[0m | \u001b[0m2.303    \u001b[0m | \u001b[0m4.571    \u001b[0m | \u001b[0m1.083    \u001b[0m | \u001b[0m2.078    \u001b[0m | \u001b[0m769.4    \u001b[0m |\n",
      "| \u001b[0m18       \u001b[0m | \u001b[0m-0.7164  \u001b[0m | \u001b[0m20.0     \u001b[0m | \u001b[0m1.0      \u001b[0m | \u001b[0m1.0      \u001b[0m | \u001b[0m10.0     \u001b[0m | \u001b[0m965.9    \u001b[0m |\n",
      "| \u001b[0m19       \u001b[0m | \u001b[0m-0.9203  \u001b[0m | \u001b[0m2.0      \u001b[0m | \u001b[0m1.0      \u001b[0m | \u001b[0m1.0      \u001b[0m | \u001b[0m2.0      \u001b[0m | \u001b[0m192.4    \u001b[0m |\n",
      "| \u001b[0m20       \u001b[0m | \u001b[0m-0.6943  \u001b[0m | \u001b[0m20.0     \u001b[0m | \u001b[0m24.0     \u001b[0m | \u001b[0m10.0     \u001b[0m | \u001b[0m10.0     \u001b[0m | \u001b[0m239.4    \u001b[0m |\n",
      "| \u001b[0m21       \u001b[0m | \u001b[0m-0.6948  \u001b[0m | \u001b[0m20.0     \u001b[0m | \u001b[0m24.0     \u001b[0m | \u001b[0m10.0     \u001b[0m | \u001b[0m10.0     \u001b[0m | \u001b[0m141.2    \u001b[0m |\n",
      "| \u001b[0m22       \u001b[0m | \u001b[0m-0.9146  \u001b[0m | \u001b[0m2.0      \u001b[0m | \u001b[0m1.0      \u001b[0m | \u001b[0m10.0     \u001b[0m | \u001b[0m2.0      \u001b[0m | \u001b[0m631.8    \u001b[0m |\n",
      "| \u001b[0m23       \u001b[0m | \u001b[0m-0.6982  \u001b[0m | \u001b[0m19.6     \u001b[0m | \u001b[0m21.27    \u001b[0m | \u001b[0m1.078    \u001b[0m | \u001b[0m8.429    \u001b[0m | \u001b[0m677.8    \u001b[0m |\n",
      "| \u001b[0m24       \u001b[0m | \u001b[0m-0.6939  \u001b[0m | \u001b[0m20.0     \u001b[0m | \u001b[0m24.0     \u001b[0m | \u001b[0m10.0     \u001b[0m | \u001b[0m10.0     \u001b[0m | \u001b[0m398.0    \u001b[0m |\n",
      "| \u001b[0m25       \u001b[0m | \u001b[0m-0.6943  \u001b[0m | \u001b[0m19.6     \u001b[0m | \u001b[0m3.181    \u001b[0m | \u001b[0m3.819    \u001b[0m | \u001b[0m8.254    \u001b[0m | \u001b[0m100.1    \u001b[0m |\n",
      "| \u001b[0m26       \u001b[0m | \u001b[0m-0.918   \u001b[0m | \u001b[0m2.0      \u001b[0m | \u001b[0m1.0      \u001b[0m | \u001b[0m1.0      \u001b[0m | \u001b[0m2.0      \u001b[0m | \u001b[0m136.4    \u001b[0m |\n",
      "| \u001b[0m27       \u001b[0m | \u001b[0m-0.7008  \u001b[0m | \u001b[0m4.358    \u001b[0m | \u001b[0m23.85    \u001b[0m | \u001b[0m2.524    \u001b[0m | \u001b[0m7.732    \u001b[0m | \u001b[0m418.8    \u001b[0m |\n",
      "| \u001b[0m28       \u001b[0m | \u001b[0m-0.9137  \u001b[0m | \u001b[0m2.0      \u001b[0m | \u001b[0m1.0      \u001b[0m | \u001b[0m1.0      \u001b[0m | \u001b[0m10.0     \u001b[0m | \u001b[0m393.4    \u001b[0m |\n",
      "| \u001b[0m29       \u001b[0m | \u001b[0m-0.6956  \u001b[0m | \u001b[0m20.0     \u001b[0m | \u001b[0m24.0     \u001b[0m | \u001b[0m10.0     \u001b[0m | \u001b[0m10.0     \u001b[0m | \u001b[0m100.3    \u001b[0m |\n",
      "| \u001b[0m30       \u001b[0m | \u001b[0m-0.7199  \u001b[0m | \u001b[0m2.157    \u001b[0m | \u001b[0m20.53    \u001b[0m | \u001b[0m1.012    \u001b[0m | \u001b[0m3.879    \u001b[0m | \u001b[0m462.2    \u001b[0m |\n",
      "| \u001b[0m31       \u001b[0m | \u001b[0m-0.7222  \u001b[0m | \u001b[0m2.0      \u001b[0m | \u001b[0m24.0     \u001b[0m | \u001b[0m10.0     \u001b[0m | \u001b[0m2.0      \u001b[0m | \u001b[0m966.7    \u001b[0m |\n",
      "| \u001b[0m32       \u001b[0m | \u001b[0m-0.6938  \u001b[0m | \u001b[0m20.0     \u001b[0m | \u001b[0m24.0     \u001b[0m | \u001b[0m10.0     \u001b[0m | \u001b[0m2.0      \u001b[0m | \u001b[0m427.4    \u001b[0m |\n",
      "| \u001b[0m33       \u001b[0m | \u001b[0m-0.7163  \u001b[0m | \u001b[0m15.75    \u001b[0m | \u001b[0m1.75     \u001b[0m | \u001b[0m1.74     \u001b[0m | \u001b[0m2.805    \u001b[0m | \u001b[0m254.3    \u001b[0m |\n",
      "| \u001b[0m34       \u001b[0m | \u001b[0m-0.7021  \u001b[0m | \u001b[0m19.12    \u001b[0m | \u001b[0m2.304    \u001b[0m | \u001b[0m5.429    \u001b[0m | \u001b[0m8.287    \u001b[0m | \u001b[0m997.1    \u001b[0m |\n",
      "| \u001b[0m35       \u001b[0m | \u001b[0m-0.6939  \u001b[0m | \u001b[0m20.0     \u001b[0m | \u001b[0m24.0     \u001b[0m | \u001b[0m10.0     \u001b[0m | \u001b[0m10.0     \u001b[0m | \u001b[0m819.9    \u001b[0m |\n",
      "| \u001b[0m36       \u001b[0m | \u001b[0m-0.9142  \u001b[0m | \u001b[0m2.0      \u001b[0m | \u001b[0m1.0      \u001b[0m | \u001b[0m1.0      \u001b[0m | \u001b[0m2.0      \u001b[0m | \u001b[0m821.4    \u001b[0m |\n",
      "| \u001b[0m37       \u001b[0m | \u001b[0m-0.7224  \u001b[0m | \u001b[0m2.0      \u001b[0m | \u001b[0m24.0     \u001b[0m | \u001b[0m10.0     \u001b[0m | \u001b[0m2.0      \u001b[0m | \u001b[0m262.8    \u001b[0m |\n",
      "| \u001b[0m38       \u001b[0m | \u001b[0m-0.7174  \u001b[0m | \u001b[0m20.0     \u001b[0m | \u001b[0m1.0      \u001b[0m | \u001b[0m1.0      \u001b[0m | \u001b[0m10.0     \u001b[0m | \u001b[0m499.8    \u001b[0m |\n",
      "| \u001b[0m39       \u001b[0m | \u001b[0m-0.9146  \u001b[0m | \u001b[0m2.0      \u001b[0m | \u001b[0m1.0      \u001b[0m | \u001b[0m1.0      \u001b[0m | \u001b[0m2.0      \u001b[0m | \u001b[0m726.3    \u001b[0m |\n",
      "| \u001b[0m40       \u001b[0m | \u001b[0m-0.6991  \u001b[0m | \u001b[0m20.0     \u001b[0m | \u001b[0m24.0     \u001b[0m | \u001b[0m1.0      \u001b[0m | \u001b[0m10.0     \u001b[0m | \u001b[0m700.7    \u001b[0m |\n",
      "| \u001b[0m41       \u001b[0m | \u001b[0m-0.7226  \u001b[0m | \u001b[0m2.0      \u001b[0m | \u001b[0m24.0     \u001b[0m | \u001b[0m1.0      \u001b[0m | \u001b[0m10.0     \u001b[0m | \u001b[0m228.7    \u001b[0m |\n",
      "| \u001b[0m42       \u001b[0m | \u001b[0m-0.759   \u001b[0m | \u001b[0m20.0     \u001b[0m | \u001b[0m1.0      \u001b[0m | \u001b[0m10.0     \u001b[0m | \u001b[0m10.0     \u001b[0m | \u001b[0m685.9    \u001b[0m |\n",
      "| \u001b[0m43       \u001b[0m | \u001b[0m-0.7222  \u001b[0m | \u001b[0m2.0      \u001b[0m | \u001b[0m24.0     \u001b[0m | \u001b[0m10.0     \u001b[0m | \u001b[0m2.0      \u001b[0m | \u001b[0m681.0    \u001b[0m |\n",
      "| \u001b[0m44       \u001b[0m | \u001b[0m-0.76    \u001b[0m | \u001b[0m20.0     \u001b[0m | \u001b[0m1.0      \u001b[0m | \u001b[0m10.0     \u001b[0m | \u001b[0m10.0     \u001b[0m | \u001b[0m228.8    \u001b[0m |\n",
      "| \u001b[0m45       \u001b[0m | \u001b[0m-0.6945  \u001b[0m | \u001b[0m20.0     \u001b[0m | \u001b[0m24.0     \u001b[0m | \u001b[0m10.0     \u001b[0m | \u001b[0m10.0     \u001b[0m | \u001b[0m179.4    \u001b[0m |\n",
      "| \u001b[0m46       \u001b[0m | \u001b[0m-0.6972  \u001b[0m | \u001b[0m18.48    \u001b[0m | \u001b[0m22.29    \u001b[0m | \u001b[0m2.476    \u001b[0m | \u001b[0m7.816    \u001b[0m | \u001b[0m933.2    \u001b[0m |\n",
      "| \u001b[0m47       \u001b[0m | \u001b[0m-0.7895  \u001b[0m | \u001b[0m2.959    \u001b[0m | \u001b[0m4.005    \u001b[0m | \u001b[0m7.731    \u001b[0m | \u001b[0m2.525    \u001b[0m | \u001b[0m941.2    \u001b[0m |\n",
      "| \u001b[0m48       \u001b[0m | \u001b[0m-0.6985  \u001b[0m | \u001b[0m19.34    \u001b[0m | \u001b[0m23.3     \u001b[0m | \u001b[0m2.021    \u001b[0m | \u001b[0m5.346    \u001b[0m | \u001b[0m980.9    \u001b[0m |\n",
      "| \u001b[0m49       \u001b[0m | \u001b[0m-0.7269  \u001b[0m | \u001b[0m2.0      \u001b[0m | \u001b[0m14.89    \u001b[0m | \u001b[0m10.0     \u001b[0m | \u001b[0m10.0     \u001b[0m | \u001b[0m100.0    \u001b[0m |\n",
      "| \u001b[0m50       \u001b[0m | \u001b[0m-0.7223  \u001b[0m | \u001b[0m2.0      \u001b[0m | \u001b[0m24.0     \u001b[0m | \u001b[0m10.0     \u001b[0m | \u001b[0m10.0     \u001b[0m | \u001b[0m504.6    \u001b[0m |\n",
      "| \u001b[0m51       \u001b[0m | \u001b[0m-0.694   \u001b[0m | \u001b[0m20.0     \u001b[0m | \u001b[0m24.0     \u001b[0m | \u001b[0m10.0     \u001b[0m | \u001b[0m10.0     \u001b[0m | \u001b[0m793.0    \u001b[0m |\n",
      "| \u001b[0m52       \u001b[0m | \u001b[0m-0.7001  \u001b[0m | \u001b[0m20.0     \u001b[0m | \u001b[0m24.0     \u001b[0m | \u001b[0m1.0      \u001b[0m | \u001b[0m10.0     \u001b[0m | \u001b[0m275.8    \u001b[0m |\n",
      "| \u001b[0m53       \u001b[0m | \u001b[0m-0.9163  \u001b[0m | \u001b[0m2.0      \u001b[0m | \u001b[0m1.0      \u001b[0m | \u001b[0m10.0     \u001b[0m | \u001b[0m2.0      \u001b[0m | \u001b[0m490.9    \u001b[0m |\n",
      "| \u001b[0m54       \u001b[0m | \u001b[0m-0.6936  \u001b[0m | \u001b[0m20.0     \u001b[0m | \u001b[0m20.53    \u001b[0m | \u001b[0m10.0     \u001b[0m | \u001b[0m10.0     \u001b[0m | \u001b[0m465.8    \u001b[0m |\n",
      "| \u001b[0m55       \u001b[0m | \u001b[0m-0.6992  \u001b[0m | \u001b[0m19.46    \u001b[0m | \u001b[0m2.166    \u001b[0m | \u001b[0m2.05     \u001b[0m | \u001b[0m9.765    \u001b[0m | \u001b[0m458.6    \u001b[0m |\n",
      "| \u001b[0m56       \u001b[0m | \u001b[0m-0.8119  \u001b[0m | \u001b[0m2.755    \u001b[0m | \u001b[0m3.163    \u001b[0m | \u001b[0m7.994    \u001b[0m | \u001b[0m8.013    \u001b[0m | \u001b[0m984.7    \u001b[0m |\n",
      "| \u001b[0m57       \u001b[0m | \u001b[0m-0.6994  \u001b[0m | \u001b[0m20.0     \u001b[0m | \u001b[0m24.0     \u001b[0m | \u001b[0m1.0      \u001b[0m | \u001b[0m10.0     \u001b[0m | \u001b[0m496.2    \u001b[0m |\n",
      "| \u001b[0m58       \u001b[0m | \u001b[0m-0.6988  \u001b[0m | \u001b[0m20.0     \u001b[0m | \u001b[0m24.0     \u001b[0m | \u001b[0m1.0      \u001b[0m | \u001b[0m10.0     \u001b[0m | \u001b[0m1e+03    \u001b[0m |\n",
      "| \u001b[0m59       \u001b[0m | \u001b[0m-0.6993  \u001b[0m | \u001b[0m20.0     \u001b[0m | \u001b[0m24.0     \u001b[0m | \u001b[0m1.0      \u001b[0m | \u001b[0m10.0     \u001b[0m | \u001b[0m584.7    \u001b[0m |\n",
      "| \u001b[0m60       \u001b[0m | \u001b[0m-0.7004  \u001b[0m | \u001b[0m20.0     \u001b[0m | \u001b[0m24.0     \u001b[0m | \u001b[0m1.0      \u001b[0m | \u001b[0m2.0      \u001b[0m | \u001b[0m955.3    \u001b[0m |\n",
      "| \u001b[0m61       \u001b[0m | \u001b[0m-0.7222  \u001b[0m | \u001b[0m2.0      \u001b[0m | \u001b[0m24.0     \u001b[0m | \u001b[0m10.0     \u001b[0m | \u001b[0m10.0     \u001b[0m | \u001b[0m704.5    \u001b[0m |\n",
      "| \u001b[0m62       \u001b[0m | \u001b[0m-0.6957  \u001b[0m | \u001b[0m20.0     \u001b[0m | \u001b[0m24.0     \u001b[0m | \u001b[0m10.0     \u001b[0m | \u001b[0m2.0      \u001b[0m | \u001b[0m119.2    \u001b[0m |\n",
      "| \u001b[0m63       \u001b[0m | \u001b[0m-0.7222  \u001b[0m | \u001b[0m2.0      \u001b[0m | \u001b[0m24.0     \u001b[0m | \u001b[0m10.0     \u001b[0m | \u001b[0m10.0     \u001b[0m | \u001b[0m594.3    \u001b[0m |\n",
      "| \u001b[0m64       \u001b[0m | \u001b[0m-0.7223  \u001b[0m | \u001b[0m2.0      \u001b[0m | \u001b[0m24.0     \u001b[0m | \u001b[0m1.0      \u001b[0m | \u001b[0m2.0      \u001b[0m | \u001b[0m437.9    \u001b[0m |\n",
      "| \u001b[0m65       \u001b[0m | \u001b[0m-0.731   \u001b[0m | \u001b[0m16.73    \u001b[0m | \u001b[0m1.306    \u001b[0m | \u001b[0m3.227    \u001b[0m | \u001b[0m9.837    \u001b[0m | \u001b[0m279.3    \u001b[0m |\n",
      "| \u001b[0m66       \u001b[0m | \u001b[0m-0.7004  \u001b[0m | \u001b[0m20.0     \u001b[0m | \u001b[0m24.0     \u001b[0m | \u001b[0m1.0      \u001b[0m | \u001b[0m2.0      \u001b[0m | \u001b[0m910.8    \u001b[0m |\n",
      "| \u001b[0m67       \u001b[0m | \u001b[0m-0.6994  \u001b[0m | \u001b[0m20.0     \u001b[0m | \u001b[0m24.0     \u001b[0m | \u001b[0m1.0      \u001b[0m | \u001b[0m10.0     \u001b[0m | \u001b[0m522.1    \u001b[0m |\n",
      "| \u001b[0m68       \u001b[0m | \u001b[0m-0.7167  \u001b[0m | \u001b[0m20.0     \u001b[0m | \u001b[0m1.0      \u001b[0m | \u001b[0m1.0      \u001b[0m | \u001b[0m10.0     \u001b[0m | \u001b[0m593.3    \u001b[0m |\n",
      "| \u001b[0m69       \u001b[0m | \u001b[0m-0.7016  \u001b[0m | \u001b[0m20.0     \u001b[0m | \u001b[0m24.0     \u001b[0m | \u001b[0m1.0      \u001b[0m | \u001b[0m10.0     \u001b[0m | \u001b[0m159.6    \u001b[0m |\n",
      "| \u001b[0m70       \u001b[0m | \u001b[0m-0.6974  \u001b[0m | \u001b[0m19.78    \u001b[0m | \u001b[0m23.09    \u001b[0m | \u001b[0m3.961    \u001b[0m | \u001b[0m3.496    \u001b[0m | \u001b[0m360.8    \u001b[0m |\n",
      "| \u001b[0m71       \u001b[0m | \u001b[0m-0.9159  \u001b[0m | \u001b[0m2.0      \u001b[0m | \u001b[0m1.0      \u001b[0m | \u001b[0m10.0     \u001b[0m | \u001b[0m2.0      \u001b[0m | \u001b[0m447.3    \u001b[0m |\n",
      "| \u001b[0m72       \u001b[0m | \u001b[0m-0.6988  \u001b[0m | \u001b[0m19.76    \u001b[0m | \u001b[0m23.3     \u001b[0m | \u001b[0m1.22     \u001b[0m | \u001b[0m9.872    \u001b[0m | \u001b[0m437.3    \u001b[0m |\n",
      "| \u001b[0m73       \u001b[0m | \u001b[0m-0.6911  \u001b[0m | \u001b[0m20.0     \u001b[0m | \u001b[0m12.13    \u001b[0m | \u001b[0m10.0     \u001b[0m | \u001b[0m2.0      \u001b[0m | \u001b[0m413.5    \u001b[0m |\n",
      "| \u001b[0m74       \u001b[0m | \u001b[0m-0.7227  \u001b[0m | \u001b[0m2.0      \u001b[0m | \u001b[0m24.0     \u001b[0m | \u001b[0m10.0     \u001b[0m | \u001b[0m10.0     \u001b[0m | \u001b[0m164.1    \u001b[0m |\n",
      "| \u001b[0m75       \u001b[0m | \u001b[0m-0.7222  \u001b[0m | \u001b[0m2.0      \u001b[0m | \u001b[0m24.0     \u001b[0m | \u001b[0m1.0      \u001b[0m | \u001b[0m10.0     \u001b[0m | \u001b[0m662.3    \u001b[0m |\n",
      "| \u001b[0m76       \u001b[0m | \u001b[0m-0.7003  \u001b[0m | \u001b[0m20.0     \u001b[0m | \u001b[0m24.0     \u001b[0m | \u001b[0m1.0      \u001b[0m | \u001b[0m10.0     \u001b[0m | \u001b[0m255.7    \u001b[0m |\n",
      "| \u001b[0m77       \u001b[0m | \u001b[0m-0.694   \u001b[0m | \u001b[0m20.0     \u001b[0m | \u001b[0m24.0     \u001b[0m | \u001b[0m10.0     \u001b[0m | \u001b[0m10.0     \u001b[0m | \u001b[0m769.7    \u001b[0m |\n",
      "| \u001b[0m78       \u001b[0m | \u001b[0m-0.6939  \u001b[0m | \u001b[0m20.0     \u001b[0m | \u001b[0m24.0     \u001b[0m | \u001b[0m10.0     \u001b[0m | \u001b[0m10.0     \u001b[0m | \u001b[0m844.6    \u001b[0m |\n",
      "| \u001b[0m79       \u001b[0m | \u001b[0m-0.696   \u001b[0m | \u001b[0m20.0     \u001b[0m | \u001b[0m12.66    \u001b[0m | \u001b[0m1.0      \u001b[0m | \u001b[0m2.0      \u001b[0m | \u001b[0m472.5    \u001b[0m |\n",
      "| \u001b[0m80       \u001b[0m | \u001b[0m-0.6945  \u001b[0m | \u001b[0m20.0     \u001b[0m | \u001b[0m24.0     \u001b[0m | \u001b[0m10.0     \u001b[0m | \u001b[0m2.0      \u001b[0m | \u001b[0m221.4    \u001b[0m |\n",
      "| \u001b[0m81       \u001b[0m | \u001b[0m-0.6938  \u001b[0m | \u001b[0m20.0     \u001b[0m | \u001b[0m24.0     \u001b[0m | \u001b[0m10.0     \u001b[0m | \u001b[0m10.0     \u001b[0m | \u001b[0m377.1    \u001b[0m |\n",
      "| \u001b[0m82       \u001b[0m | \u001b[0m-0.694   \u001b[0m | \u001b[0m20.0     \u001b[0m | \u001b[0m24.0     \u001b[0m | \u001b[0m10.0     \u001b[0m | \u001b[0m10.0     \u001b[0m | \u001b[0m743.2    \u001b[0m |\n",
      "| \u001b[0m83       \u001b[0m | \u001b[0m-0.6991  \u001b[0m | \u001b[0m20.0     \u001b[0m | \u001b[0m24.0     \u001b[0m | \u001b[0m1.0      \u001b[0m | \u001b[0m10.0     \u001b[0m | \u001b[0m724.4    \u001b[0m |\n",
      "| \u001b[0m84       \u001b[0m | \u001b[0m-0.7004  \u001b[0m | \u001b[0m20.0     \u001b[0m | \u001b[0m24.0     \u001b[0m | \u001b[0m1.0      \u001b[0m | \u001b[0m2.0      \u001b[0m | \u001b[0m862.3    \u001b[0m |\n",
      "| \u001b[0m85       \u001b[0m | \u001b[0m-0.7223  \u001b[0m | \u001b[0m2.0      \u001b[0m | \u001b[0m24.0     \u001b[0m | \u001b[0m10.0     \u001b[0m | \u001b[0m2.0      \u001b[0m | \u001b[0m363.0    \u001b[0m |\n",
      "| \u001b[0m86       \u001b[0m | \u001b[0m-0.6941  \u001b[0m | \u001b[0m20.0     \u001b[0m | \u001b[0m24.0     \u001b[0m | \u001b[0m10.0     \u001b[0m | \u001b[0m2.0      \u001b[0m | \u001b[0m711.5    \u001b[0m |\n",
      "| \u001b[0m87       \u001b[0m | \u001b[0m-0.7221  \u001b[0m | \u001b[0m2.0      \u001b[0m | \u001b[0m24.0     \u001b[0m | \u001b[0m1.0      \u001b[0m | \u001b[0m10.0     \u001b[0m | \u001b[0m852.2    \u001b[0m |\n",
      "| \u001b[0m88       \u001b[0m | \u001b[0m-0.7585  \u001b[0m | \u001b[0m20.0     \u001b[0m | \u001b[0m1.0      \u001b[0m | \u001b[0m10.0     \u001b[0m | \u001b[0m10.0     \u001b[0m | \u001b[0m358.5    \u001b[0m |\n",
      "| \u001b[0m89       \u001b[0m | \u001b[0m-0.7222  \u001b[0m | \u001b[0m2.0      \u001b[0m | \u001b[0m24.0     \u001b[0m | \u001b[0m10.0     \u001b[0m | \u001b[0m10.0     \u001b[0m | \u001b[0m785.6    \u001b[0m |\n",
      "| \u001b[0m90       \u001b[0m | \u001b[0m-0.7206  \u001b[0m | \u001b[0m2.802    \u001b[0m | \u001b[0m22.71    \u001b[0m | \u001b[0m1.933    \u001b[0m | \u001b[0m5.118    \u001b[0m | \u001b[0m915.8    \u001b[0m |\n",
      "| \u001b[0m91       \u001b[0m | \u001b[0m-0.7107  \u001b[0m | \u001b[0m20.0     \u001b[0m | \u001b[0m1.0      \u001b[0m | \u001b[0m1.0      \u001b[0m | \u001b[0m2.0      \u001b[0m | \u001b[0m918.3    \u001b[0m |\n",
      "| \u001b[0m92       \u001b[0m | \u001b[0m-0.7586  \u001b[0m | \u001b[0m20.0     \u001b[0m | \u001b[0m1.0      \u001b[0m | \u001b[0m10.0     \u001b[0m | \u001b[0m10.0     \u001b[0m | \u001b[0m786.8    \u001b[0m |\n",
      "| \u001b[0m93       \u001b[0m | \u001b[0m-0.6941  \u001b[0m | \u001b[0m20.0     \u001b[0m | \u001b[0m24.0     \u001b[0m | \u001b[0m10.0     \u001b[0m | \u001b[0m2.0      \u001b[0m | \u001b[0m665.4    \u001b[0m |\n",
      "| \u001b[0m94       \u001b[0m | \u001b[0m-0.7022  \u001b[0m | \u001b[0m20.0     \u001b[0m | \u001b[0m24.0     \u001b[0m | \u001b[0m1.0      \u001b[0m | \u001b[0m10.0     \u001b[0m | \u001b[0m113.3    \u001b[0m |\n",
      "| \u001b[0m95       \u001b[0m | \u001b[0m-0.7013  \u001b[0m | \u001b[0m20.0     \u001b[0m | \u001b[0m24.0     \u001b[0m | \u001b[0m1.0      \u001b[0m | \u001b[0m2.0      \u001b[0m | \u001b[0m296.5    \u001b[0m |\n",
      "| \u001b[0m96       \u001b[0m | \u001b[0m-0.7219  \u001b[0m | \u001b[0m2.089    \u001b[0m | \u001b[0m23.85    \u001b[0m | \u001b[0m5.286    \u001b[0m | \u001b[0m6.988    \u001b[0m | \u001b[0m284.3    \u001b[0m |\n",
      "| \u001b[0m97       \u001b[0m | \u001b[0m-0.6997  \u001b[0m | \u001b[0m20.0     \u001b[0m | \u001b[0m24.0     \u001b[0m | \u001b[0m1.0      \u001b[0m | \u001b[0m10.0     \u001b[0m | \u001b[0m339.6    \u001b[0m |\n",
      "| \u001b[0m98       \u001b[0m | \u001b[0m-0.6941  \u001b[0m | \u001b[0m20.0     \u001b[0m | \u001b[0m24.0     \u001b[0m | \u001b[0m10.0     \u001b[0m | \u001b[0m10.0     \u001b[0m | \u001b[0m965.6    \u001b[0m |\n",
      "| \u001b[0m99       \u001b[0m | \u001b[0m-0.6939  \u001b[0m | \u001b[0m20.0     \u001b[0m | \u001b[0m24.0     \u001b[0m | \u001b[0m10.0     \u001b[0m | \u001b[0m2.0      \u001b[0m | \u001b[0m449.4    \u001b[0m |\n",
      "| \u001b[0m100      \u001b[0m | \u001b[0m-0.7171  \u001b[0m | \u001b[0m20.0     \u001b[0m | \u001b[0m1.0      \u001b[0m | \u001b[0m1.0      \u001b[0m | \u001b[0m10.0     \u001b[0m | \u001b[0m477.5    \u001b[0m |\n",
      "| \u001b[0m101      \u001b[0m | \u001b[0m-0.7557  \u001b[0m | \u001b[0m2.0      \u001b[0m | \u001b[0m7.559    \u001b[0m | \u001b[0m10.0     \u001b[0m | \u001b[0m10.0     \u001b[0m | \u001b[0m248.6    \u001b[0m |\n",
      "| \u001b[0m102      \u001b[0m | \u001b[0m-0.6947  \u001b[0m | \u001b[0m20.0     \u001b[0m | \u001b[0m24.0     \u001b[0m | \u001b[0m10.0     \u001b[0m | \u001b[0m2.0      \u001b[0m | \u001b[0m163.8    \u001b[0m |\n",
      "| \u001b[0m103      \u001b[0m | \u001b[0m-0.7006  \u001b[0m | \u001b[0m20.0     \u001b[0m | \u001b[0m24.0     \u001b[0m | \u001b[0m1.0      \u001b[0m | \u001b[0m2.0      \u001b[0m | \u001b[0m781.8    \u001b[0m |\n",
      "| \u001b[0m104      \u001b[0m | \u001b[0m-0.6942  \u001b[0m | \u001b[0m20.0     \u001b[0m | \u001b[0m24.0     \u001b[0m | \u001b[0m10.0     \u001b[0m | \u001b[0m2.0      \u001b[0m | \u001b[0m596.0    \u001b[0m |\n",
      "| \u001b[0m105      \u001b[0m | \u001b[0m-0.7006  \u001b[0m | \u001b[0m20.0     \u001b[0m | \u001b[0m24.0     \u001b[0m | \u001b[0m1.0      \u001b[0m | \u001b[0m2.0      \u001b[0m | \u001b[0m756.2    \u001b[0m |\n",
      "| \u001b[0m106      \u001b[0m | \u001b[0m-0.7172  \u001b[0m | \u001b[0m20.0     \u001b[0m | \u001b[0m1.0      \u001b[0m | \u001b[0m1.0      \u001b[0m | \u001b[0m10.0     \u001b[0m | \u001b[0m520.9    \u001b[0m |\n",
      "| \u001b[0m107      \u001b[0m | \u001b[0m-0.7222  \u001b[0m | \u001b[0m2.0      \u001b[0m | \u001b[0m24.0     \u001b[0m | \u001b[0m10.0     \u001b[0m | \u001b[0m10.0     \u001b[0m | \u001b[0m755.2    \u001b[0m |\n",
      "| \u001b[0m108      \u001b[0m | \u001b[0m-0.7002  \u001b[0m | \u001b[0m9.3      \u001b[0m | \u001b[0m24.0     \u001b[0m | \u001b[0m1.0      \u001b[0m | \u001b[0m2.0      \u001b[0m | \u001b[0m100.0    \u001b[0m |\n",
      "| \u001b[0m109      \u001b[0m | \u001b[0m-0.7006  \u001b[0m | \u001b[0m20.0     \u001b[0m | \u001b[0m24.0     \u001b[0m | \u001b[0m1.0      \u001b[0m | \u001b[0m2.0      \u001b[0m | \u001b[0m805.4    \u001b[0m |\n",
      "| \u001b[0m110      \u001b[0m | \u001b[0m-0.6922  \u001b[0m | \u001b[0m20.0     \u001b[0m | \u001b[0m6.477    \u001b[0m | \u001b[0m1.0      \u001b[0m | \u001b[0m2.0      \u001b[0m | \u001b[0m662.8    \u001b[0m |\n",
      "=====================================================================================\n"
     ]
    }
   ],
   "source": [
    "# iterate through feature space\n",
    "optimizer.maximize(init_points=10, n_iter=100)"
   ]
  },
  {
   "cell_type": "code",
   "execution_count": 34,
   "id": "9273778c",
   "metadata": {},
   "outputs": [
    {
     "data": {
      "text/plain": [
       "({'max_depth': 14.07148165312687,\n",
       "  'max_features': 5.838798904698341,\n",
       "  'min_samples_leaf': 2.16033667889368,\n",
       "  'min_samples_split': 4.523426807393471,\n",
       "  'n_estimators': 427.33969384836035},\n",
       " -0.689973321552295)"
      ]
     },
     "execution_count": 34,
     "metadata": {},
     "output_type": "execute_result"
    }
   ],
   "source": [
    "# look at params that gave lowest cross val RMSE\n",
    "best_hyperparams = optimizer.max['params']\n",
    "best_hyperparams, optimizer.max['target']"
   ]
  },
  {
   "cell_type": "markdown",
   "id": "ebc2f242",
   "metadata": {},
   "source": [
    "Best Random Forest:\n",
    "RMSE = 0.690\n",
    "'max_depth': 14.07148165312687,\n",
    "  'max_features': 5.838798904698341,\n",
    "  'min_samples_leaf': 2.16033667889368,\n",
    "  'min_samples_split': 4.523426807393471,\n",
    "  'n_estimators': 427.33969384836035}"
   ]
  },
  {
   "cell_type": "markdown",
   "id": "c3d11075",
   "metadata": {},
   "source": [
    "### Extra Trees"
   ]
  },
  {
   "cell_type": "code",
   "execution_count": 43,
   "id": "916842ed",
   "metadata": {},
   "outputs": [
    {
     "ename": "AttributeError",
     "evalue": "module 'numpy' has no attribute 'int'.\n`np.int` was a deprecated alias for the builtin `int`. To avoid this error in existing code, use `int` by itself. Doing this will not modify any behavior and is safe. When replacing `np.int`, you may wish to use e.g. `np.int64` or `np.int32` to specify the precision. If you wish to review your current use, check the release note link for additional information.\nThe aliases was originally deprecated in NumPy 1.20; for more details and guidance see the original release note at:\n    https://numpy.org/devdocs/release/1.20.0-notes.html#deprecations",
     "output_type": "error",
     "traceback": [
      "\u001b[1;31m---------------------------------------------------------------------------\u001b[0m",
      "\u001b[1;31mAttributeError\u001b[0m                            Traceback (most recent call last)",
      "Cell \u001b[1;32mIn[43], line 14\u001b[0m\n\u001b[0;32m     11\u001b[0m     \u001b[38;5;28;01mreturn\u001b[39;00m \u001b[38;5;241m-\u001b[39mnp\u001b[38;5;241m.\u001b[39mmean(cross_val_score(model, X, y, cv\u001b[38;5;241m=\u001b[39m\u001b[38;5;241m5\u001b[39m, n_jobs\u001b[38;5;241m=\u001b[39m\u001b[38;5;241m-\u001b[39m\u001b[38;5;241m1\u001b[39m))\n\u001b[0;32m     13\u001b[0m \u001b[38;5;66;03m# Run the optimization with parallel evaluations\u001b[39;00m\n\u001b[1;32m---> 14\u001b[0m res_gp \u001b[38;5;241m=\u001b[39m \u001b[43mgp_minimize\u001b[49m\u001b[43m(\u001b[49m\u001b[43mobjective\u001b[49m\u001b[43m,\u001b[49m\u001b[43m \u001b[49m\u001b[43mspace\u001b[49m\u001b[43m,\u001b[49m\u001b[43m \u001b[49m\u001b[43mn_calls\u001b[49m\u001b[38;5;241;43m=\u001b[39;49m\u001b[38;5;241;43m50\u001b[39;49m\u001b[43m,\u001b[49m\u001b[43m \u001b[49m\u001b[43mn_random_starts\u001b[49m\u001b[38;5;241;43m=\u001b[39;49m\u001b[38;5;241;43m10\u001b[39;49m\u001b[43m,\u001b[49m\u001b[43m \u001b[49m\u001b[43mn_jobs\u001b[49m\u001b[38;5;241;43m=\u001b[39;49m\u001b[38;5;241;43m-\u001b[39;49m\u001b[38;5;241;43m1\u001b[39;49m\u001b[43m)\u001b[49m\n",
      "File \u001b[1;32mc:\\Users\\heefj\\anaconda3\\envs\\torch_env\\lib\\site-packages\\skopt\\optimizer\\gp.py:259\u001b[0m, in \u001b[0;36mgp_minimize\u001b[1;34m(func, dimensions, base_estimator, n_calls, n_random_starts, n_initial_points, initial_point_generator, acq_func, acq_optimizer, x0, y0, random_state, verbose, callback, n_points, n_restarts_optimizer, xi, kappa, noise, n_jobs, model_queue_size)\u001b[0m\n\u001b[0;32m    254\u001b[0m \u001b[38;5;28;01mif\u001b[39;00m base_estimator \u001b[38;5;129;01mis\u001b[39;00m \u001b[38;5;28;01mNone\u001b[39;00m:\n\u001b[0;32m    255\u001b[0m     base_estimator \u001b[38;5;241m=\u001b[39m cook_estimator(\n\u001b[0;32m    256\u001b[0m         \u001b[38;5;124m\"\u001b[39m\u001b[38;5;124mGP\u001b[39m\u001b[38;5;124m\"\u001b[39m, space\u001b[38;5;241m=\u001b[39mspace, random_state\u001b[38;5;241m=\u001b[39mrng\u001b[38;5;241m.\u001b[39mrandint(\u001b[38;5;241m0\u001b[39m, np\u001b[38;5;241m.\u001b[39miinfo(np\u001b[38;5;241m.\u001b[39mint32)\u001b[38;5;241m.\u001b[39mmax),\n\u001b[0;32m    257\u001b[0m         noise\u001b[38;5;241m=\u001b[39mnoise)\n\u001b[1;32m--> 259\u001b[0m \u001b[38;5;28;01mreturn\u001b[39;00m \u001b[43mbase_minimize\u001b[49m\u001b[43m(\u001b[49m\n\u001b[0;32m    260\u001b[0m \u001b[43m    \u001b[49m\u001b[43mfunc\u001b[49m\u001b[43m,\u001b[49m\u001b[43m \u001b[49m\u001b[43mspace\u001b[49m\u001b[43m,\u001b[49m\u001b[43m \u001b[49m\u001b[43mbase_estimator\u001b[49m\u001b[38;5;241;43m=\u001b[39;49m\u001b[43mbase_estimator\u001b[49m\u001b[43m,\u001b[49m\n\u001b[0;32m    261\u001b[0m \u001b[43m    \u001b[49m\u001b[43macq_func\u001b[49m\u001b[38;5;241;43m=\u001b[39;49m\u001b[43macq_func\u001b[49m\u001b[43m,\u001b[49m\n\u001b[0;32m    262\u001b[0m \u001b[43m    \u001b[49m\u001b[43mxi\u001b[49m\u001b[38;5;241;43m=\u001b[39;49m\u001b[43mxi\u001b[49m\u001b[43m,\u001b[49m\u001b[43m \u001b[49m\u001b[43mkappa\u001b[49m\u001b[38;5;241;43m=\u001b[39;49m\u001b[43mkappa\u001b[49m\u001b[43m,\u001b[49m\u001b[43m \u001b[49m\u001b[43macq_optimizer\u001b[49m\u001b[38;5;241;43m=\u001b[39;49m\u001b[43macq_optimizer\u001b[49m\u001b[43m,\u001b[49m\u001b[43m \u001b[49m\u001b[43mn_calls\u001b[49m\u001b[38;5;241;43m=\u001b[39;49m\u001b[43mn_calls\u001b[49m\u001b[43m,\u001b[49m\n\u001b[0;32m    263\u001b[0m \u001b[43m    \u001b[49m\u001b[43mn_points\u001b[49m\u001b[38;5;241;43m=\u001b[39;49m\u001b[43mn_points\u001b[49m\u001b[43m,\u001b[49m\u001b[43m \u001b[49m\u001b[43mn_random_starts\u001b[49m\u001b[38;5;241;43m=\u001b[39;49m\u001b[43mn_random_starts\u001b[49m\u001b[43m,\u001b[49m\n\u001b[0;32m    264\u001b[0m \u001b[43m    \u001b[49m\u001b[43mn_initial_points\u001b[49m\u001b[38;5;241;43m=\u001b[39;49m\u001b[43mn_initial_points\u001b[49m\u001b[43m,\u001b[49m\n\u001b[0;32m    265\u001b[0m \u001b[43m    \u001b[49m\u001b[43minitial_point_generator\u001b[49m\u001b[38;5;241;43m=\u001b[39;49m\u001b[43minitial_point_generator\u001b[49m\u001b[43m,\u001b[49m\n\u001b[0;32m    266\u001b[0m \u001b[43m    \u001b[49m\u001b[43mn_restarts_optimizer\u001b[49m\u001b[38;5;241;43m=\u001b[39;49m\u001b[43mn_restarts_optimizer\u001b[49m\u001b[43m,\u001b[49m\n\u001b[0;32m    267\u001b[0m \u001b[43m    \u001b[49m\u001b[43mx0\u001b[49m\u001b[38;5;241;43m=\u001b[39;49m\u001b[43mx0\u001b[49m\u001b[43m,\u001b[49m\u001b[43m \u001b[49m\u001b[43my0\u001b[49m\u001b[38;5;241;43m=\u001b[39;49m\u001b[43my0\u001b[49m\u001b[43m,\u001b[49m\u001b[43m \u001b[49m\u001b[43mrandom_state\u001b[49m\u001b[38;5;241;43m=\u001b[39;49m\u001b[43mrng\u001b[49m\u001b[43m,\u001b[49m\u001b[43m \u001b[49m\u001b[43mverbose\u001b[49m\u001b[38;5;241;43m=\u001b[39;49m\u001b[43mverbose\u001b[49m\u001b[43m,\u001b[49m\n\u001b[0;32m    268\u001b[0m \u001b[43m    \u001b[49m\u001b[43mcallback\u001b[49m\u001b[38;5;241;43m=\u001b[39;49m\u001b[43mcallback\u001b[49m\u001b[43m,\u001b[49m\u001b[43m \u001b[49m\u001b[43mn_jobs\u001b[49m\u001b[38;5;241;43m=\u001b[39;49m\u001b[43mn_jobs\u001b[49m\u001b[43m,\u001b[49m\u001b[43m \u001b[49m\u001b[43mmodel_queue_size\u001b[49m\u001b[38;5;241;43m=\u001b[39;49m\u001b[43mmodel_queue_size\u001b[49m\u001b[43m)\u001b[49m\n",
      "File \u001b[1;32mc:\\Users\\heefj\\anaconda3\\envs\\torch_env\\lib\\site-packages\\skopt\\optimizer\\base.py:298\u001b[0m, in \u001b[0;36mbase_minimize\u001b[1;34m(func, dimensions, base_estimator, n_calls, n_random_starts, n_initial_points, initial_point_generator, acq_func, acq_optimizer, x0, y0, random_state, verbose, callback, n_points, n_restarts_optimizer, xi, kappa, n_jobs, model_queue_size)\u001b[0m\n\u001b[0;32m    296\u001b[0m \u001b[38;5;66;03m# Optimize\u001b[39;00m\n\u001b[0;32m    297\u001b[0m \u001b[38;5;28;01mfor\u001b[39;00m n \u001b[38;5;129;01min\u001b[39;00m \u001b[38;5;28mrange\u001b[39m(n_calls):\n\u001b[1;32m--> 298\u001b[0m     next_x \u001b[38;5;241m=\u001b[39m \u001b[43moptimizer\u001b[49m\u001b[38;5;241;43m.\u001b[39;49m\u001b[43mask\u001b[49m\u001b[43m(\u001b[49m\u001b[43m)\u001b[49m\n\u001b[0;32m    299\u001b[0m     next_y \u001b[38;5;241m=\u001b[39m func(next_x)\n\u001b[0;32m    300\u001b[0m     result \u001b[38;5;241m=\u001b[39m optimizer\u001b[38;5;241m.\u001b[39mtell(next_x, next_y)\n",
      "File \u001b[1;32mc:\\Users\\heefj\\anaconda3\\envs\\torch_env\\lib\\site-packages\\skopt\\optimizer\\optimizer.py:367\u001b[0m, in \u001b[0;36mOptimizer.ask\u001b[1;34m(self, n_points, strategy)\u001b[0m\n\u001b[0;32m    336\u001b[0m \u001b[38;5;250m\u001b[39m\u001b[38;5;124;03m\"\"\"Query point or multiple points at which objective should be evaluated.\u001b[39;00m\n\u001b[0;32m    337\u001b[0m \n\u001b[0;32m    338\u001b[0m \u001b[38;5;124;03mn_points : int or None, default: None\u001b[39;00m\n\u001b[1;32m   (...)\u001b[0m\n\u001b[0;32m    364\u001b[0m \n\u001b[0;32m    365\u001b[0m \u001b[38;5;124;03m\"\"\"\u001b[39;00m\n\u001b[0;32m    366\u001b[0m \u001b[38;5;28;01mif\u001b[39;00m n_points \u001b[38;5;129;01mis\u001b[39;00m \u001b[38;5;28;01mNone\u001b[39;00m:\n\u001b[1;32m--> 367\u001b[0m     \u001b[38;5;28;01mreturn\u001b[39;00m \u001b[38;5;28;43mself\u001b[39;49m\u001b[38;5;241;43m.\u001b[39;49m\u001b[43m_ask\u001b[49m\u001b[43m(\u001b[49m\u001b[43m)\u001b[49m\n\u001b[0;32m    369\u001b[0m supported_strategies \u001b[38;5;241m=\u001b[39m [\u001b[38;5;124m\"\u001b[39m\u001b[38;5;124mcl_min\u001b[39m\u001b[38;5;124m\"\u001b[39m, \u001b[38;5;124m\"\u001b[39m\u001b[38;5;124mcl_mean\u001b[39m\u001b[38;5;124m\"\u001b[39m, \u001b[38;5;124m\"\u001b[39m\u001b[38;5;124mcl_max\u001b[39m\u001b[38;5;124m\"\u001b[39m]\n\u001b[0;32m    371\u001b[0m \u001b[38;5;28;01mif\u001b[39;00m \u001b[38;5;129;01mnot\u001b[39;00m (\u001b[38;5;28misinstance\u001b[39m(n_points, \u001b[38;5;28mint\u001b[39m) \u001b[38;5;129;01mand\u001b[39;00m n_points \u001b[38;5;241m>\u001b[39m \u001b[38;5;241m0\u001b[39m):\n",
      "File \u001b[1;32mc:\\Users\\heefj\\anaconda3\\envs\\torch_env\\lib\\site-packages\\skopt\\optimizer\\optimizer.py:434\u001b[0m, in \u001b[0;36mOptimizer._ask\u001b[1;34m(self)\u001b[0m\n\u001b[0;32m    430\u001b[0m \u001b[38;5;28;01mif\u001b[39;00m \u001b[38;5;28mself\u001b[39m\u001b[38;5;241m.\u001b[39m_n_initial_points \u001b[38;5;241m>\u001b[39m \u001b[38;5;241m0\u001b[39m \u001b[38;5;129;01mor\u001b[39;00m \u001b[38;5;28mself\u001b[39m\u001b[38;5;241m.\u001b[39mbase_estimator_ \u001b[38;5;129;01mis\u001b[39;00m \u001b[38;5;28;01mNone\u001b[39;00m:\n\u001b[0;32m    431\u001b[0m     \u001b[38;5;66;03m# this will not make a copy of `self.rng` and hence keep advancing\u001b[39;00m\n\u001b[0;32m    432\u001b[0m     \u001b[38;5;66;03m# our random state.\u001b[39;00m\n\u001b[0;32m    433\u001b[0m     \u001b[38;5;28;01mif\u001b[39;00m \u001b[38;5;28mself\u001b[39m\u001b[38;5;241m.\u001b[39m_initial_samples \u001b[38;5;129;01mis\u001b[39;00m \u001b[38;5;28;01mNone\u001b[39;00m:\n\u001b[1;32m--> 434\u001b[0m         \u001b[38;5;28;01mreturn\u001b[39;00m \u001b[38;5;28;43mself\u001b[39;49m\u001b[38;5;241;43m.\u001b[39;49m\u001b[43mspace\u001b[49m\u001b[38;5;241;43m.\u001b[39;49m\u001b[43mrvs\u001b[49m\u001b[43m(\u001b[49m\u001b[43mrandom_state\u001b[49m\u001b[38;5;241;43m=\u001b[39;49m\u001b[38;5;28;43mself\u001b[39;49m\u001b[38;5;241;43m.\u001b[39;49m\u001b[43mrng\u001b[49m\u001b[43m)\u001b[49m[\u001b[38;5;241m0\u001b[39m]\n\u001b[0;32m    435\u001b[0m     \u001b[38;5;28;01melse\u001b[39;00m:\n\u001b[0;32m    436\u001b[0m         \u001b[38;5;66;03m# The samples are evaluated starting form initial_samples[0]\u001b[39;00m\n\u001b[0;32m    437\u001b[0m         \u001b[38;5;28;01mreturn\u001b[39;00m \u001b[38;5;28mself\u001b[39m\u001b[38;5;241m.\u001b[39m_initial_samples[\n\u001b[0;32m    438\u001b[0m             \u001b[38;5;28mlen\u001b[39m(\u001b[38;5;28mself\u001b[39m\u001b[38;5;241m.\u001b[39m_initial_samples) \u001b[38;5;241m-\u001b[39m \u001b[38;5;28mself\u001b[39m\u001b[38;5;241m.\u001b[39m_n_initial_points]\n",
      "File \u001b[1;32mc:\\Users\\heefj\\anaconda3\\envs\\torch_env\\lib\\site-packages\\skopt\\space\\space.py:900\u001b[0m, in \u001b[0;36mSpace.rvs\u001b[1;34m(self, n_samples, random_state)\u001b[0m\n\u001b[0;32m    897\u001b[0m columns \u001b[38;5;241m=\u001b[39m []\n\u001b[0;32m    899\u001b[0m \u001b[38;5;28;01mfor\u001b[39;00m dim \u001b[38;5;129;01min\u001b[39;00m \u001b[38;5;28mself\u001b[39m\u001b[38;5;241m.\u001b[39mdimensions:\n\u001b[1;32m--> 900\u001b[0m     columns\u001b[38;5;241m.\u001b[39mappend(\u001b[43mdim\u001b[49m\u001b[38;5;241;43m.\u001b[39;49m\u001b[43mrvs\u001b[49m\u001b[43m(\u001b[49m\u001b[43mn_samples\u001b[49m\u001b[38;5;241;43m=\u001b[39;49m\u001b[43mn_samples\u001b[49m\u001b[43m,\u001b[49m\u001b[43m \u001b[49m\u001b[43mrandom_state\u001b[49m\u001b[38;5;241;43m=\u001b[39;49m\u001b[43mrng\u001b[49m\u001b[43m)\u001b[49m)\n\u001b[0;32m    902\u001b[0m \u001b[38;5;66;03m# Transpose\u001b[39;00m\n\u001b[0;32m    903\u001b[0m \u001b[38;5;28;01mreturn\u001b[39;00m _transpose_list_array(columns)\n",
      "File \u001b[1;32mc:\\Users\\heefj\\anaconda3\\envs\\torch_env\\lib\\site-packages\\skopt\\space\\space.py:158\u001b[0m, in \u001b[0;36mDimension.rvs\u001b[1;34m(self, n_samples, random_state)\u001b[0m\n\u001b[0;32m    156\u001b[0m rng \u001b[38;5;241m=\u001b[39m check_random_state(random_state)\n\u001b[0;32m    157\u001b[0m samples \u001b[38;5;241m=\u001b[39m \u001b[38;5;28mself\u001b[39m\u001b[38;5;241m.\u001b[39m_rvs\u001b[38;5;241m.\u001b[39mrvs(size\u001b[38;5;241m=\u001b[39mn_samples, random_state\u001b[38;5;241m=\u001b[39mrng)\n\u001b[1;32m--> 158\u001b[0m \u001b[38;5;28;01mreturn\u001b[39;00m \u001b[38;5;28;43mself\u001b[39;49m\u001b[38;5;241;43m.\u001b[39;49m\u001b[43minverse_transform\u001b[49m\u001b[43m(\u001b[49m\u001b[43msamples\u001b[49m\u001b[43m)\u001b[49m\n",
      "File \u001b[1;32mc:\\Users\\heefj\\anaconda3\\envs\\torch_env\\lib\\site-packages\\skopt\\space\\space.py:528\u001b[0m, in \u001b[0;36mInteger.inverse_transform\u001b[1;34m(self, Xt)\u001b[0m\n\u001b[0;32m    523\u001b[0m \u001b[38;5;250m\u001b[39m\u001b[38;5;124;03m\"\"\"Inverse transform samples from the warped space back into the\u001b[39;00m\n\u001b[0;32m    524\u001b[0m \u001b[38;5;124;03m   original space.\u001b[39;00m\n\u001b[0;32m    525\u001b[0m \u001b[38;5;124;03m\"\"\"\u001b[39;00m\n\u001b[0;32m    526\u001b[0m \u001b[38;5;66;03m# The concatenation of all transformed dimensions makes Xt to be\u001b[39;00m\n\u001b[0;32m    527\u001b[0m \u001b[38;5;66;03m# of type float, hence the required cast back to int.\u001b[39;00m\n\u001b[1;32m--> 528\u001b[0m inv_transform \u001b[38;5;241m=\u001b[39m \u001b[38;5;28;43msuper\u001b[39;49m\u001b[43m(\u001b[49m\u001b[43mInteger\u001b[49m\u001b[43m,\u001b[49m\u001b[43m \u001b[49m\u001b[38;5;28;43mself\u001b[39;49m\u001b[43m)\u001b[49m\u001b[38;5;241;43m.\u001b[39;49m\u001b[43minverse_transform\u001b[49m\u001b[43m(\u001b[49m\u001b[43mXt\u001b[49m\u001b[43m)\u001b[49m\n\u001b[0;32m    529\u001b[0m \u001b[38;5;28;01mif\u001b[39;00m \u001b[38;5;28misinstance\u001b[39m(inv_transform, \u001b[38;5;28mlist\u001b[39m):\n\u001b[0;32m    530\u001b[0m     inv_transform \u001b[38;5;241m=\u001b[39m np\u001b[38;5;241m.\u001b[39marray(inv_transform)\n",
      "File \u001b[1;32mc:\\Users\\heefj\\anaconda3\\envs\\torch_env\\lib\\site-packages\\skopt\\space\\space.py:168\u001b[0m, in \u001b[0;36mDimension.inverse_transform\u001b[1;34m(self, Xt)\u001b[0m\n\u001b[0;32m    164\u001b[0m \u001b[38;5;28;01mdef\u001b[39;00m \u001b[38;5;21minverse_transform\u001b[39m(\u001b[38;5;28mself\u001b[39m, Xt):\n\u001b[0;32m    165\u001b[0m \u001b[38;5;250m    \u001b[39m\u001b[38;5;124;03m\"\"\"Inverse transform samples from the warped space back into the\u001b[39;00m\n\u001b[0;32m    166\u001b[0m \u001b[38;5;124;03m       original space.\u001b[39;00m\n\u001b[0;32m    167\u001b[0m \u001b[38;5;124;03m    \"\"\"\u001b[39;00m\n\u001b[1;32m--> 168\u001b[0m     \u001b[38;5;28;01mreturn\u001b[39;00m \u001b[38;5;28;43mself\u001b[39;49m\u001b[38;5;241;43m.\u001b[39;49m\u001b[43mtransformer\u001b[49m\u001b[38;5;241;43m.\u001b[39;49m\u001b[43minverse_transform\u001b[49m\u001b[43m(\u001b[49m\u001b[43mXt\u001b[49m\u001b[43m)\u001b[49m\n",
      "File \u001b[1;32mc:\\Users\\heefj\\anaconda3\\envs\\torch_env\\lib\\site-packages\\skopt\\space\\transformers.py:309\u001b[0m, in \u001b[0;36mPipeline.inverse_transform\u001b[1;34m(self, X)\u001b[0m\n\u001b[0;32m    307\u001b[0m \u001b[38;5;28;01mdef\u001b[39;00m \u001b[38;5;21minverse_transform\u001b[39m(\u001b[38;5;28mself\u001b[39m, X):\n\u001b[0;32m    308\u001b[0m     \u001b[38;5;28;01mfor\u001b[39;00m transformer \u001b[38;5;129;01min\u001b[39;00m \u001b[38;5;28mself\u001b[39m\u001b[38;5;241m.\u001b[39mtransformers[::\u001b[38;5;241m-\u001b[39m\u001b[38;5;241m1\u001b[39m]:\n\u001b[1;32m--> 309\u001b[0m         X \u001b[38;5;241m=\u001b[39m \u001b[43mtransformer\u001b[49m\u001b[38;5;241;43m.\u001b[39;49m\u001b[43minverse_transform\u001b[49m\u001b[43m(\u001b[49m\u001b[43mX\u001b[49m\u001b[43m)\u001b[49m\n\u001b[0;32m    310\u001b[0m     \u001b[38;5;28;01mreturn\u001b[39;00m X\n",
      "File \u001b[1;32mc:\\Users\\heefj\\anaconda3\\envs\\torch_env\\lib\\site-packages\\skopt\\space\\transformers.py:275\u001b[0m, in \u001b[0;36mNormalize.inverse_transform\u001b[1;34m(self, X)\u001b[0m\n\u001b[0;32m    273\u001b[0m X_orig \u001b[38;5;241m=\u001b[39m X \u001b[38;5;241m*\u001b[39m (\u001b[38;5;28mself\u001b[39m\u001b[38;5;241m.\u001b[39mhigh \u001b[38;5;241m-\u001b[39m \u001b[38;5;28mself\u001b[39m\u001b[38;5;241m.\u001b[39mlow) \u001b[38;5;241m+\u001b[39m \u001b[38;5;28mself\u001b[39m\u001b[38;5;241m.\u001b[39mlow\n\u001b[0;32m    274\u001b[0m \u001b[38;5;28;01mif\u001b[39;00m \u001b[38;5;28mself\u001b[39m\u001b[38;5;241m.\u001b[39mis_int:\n\u001b[1;32m--> 275\u001b[0m     \u001b[38;5;28;01mreturn\u001b[39;00m np\u001b[38;5;241m.\u001b[39mround(X_orig)\u001b[38;5;241m.\u001b[39mastype(\u001b[43mnp\u001b[49m\u001b[38;5;241;43m.\u001b[39;49m\u001b[43mint\u001b[49m)\n\u001b[0;32m    276\u001b[0m \u001b[38;5;28;01mreturn\u001b[39;00m X_orig\n",
      "File \u001b[1;32mc:\\Users\\heefj\\anaconda3\\envs\\torch_env\\lib\\site-packages\\numpy\\__init__.py:305\u001b[0m, in \u001b[0;36m__getattr__\u001b[1;34m(attr)\u001b[0m\n\u001b[0;32m    300\u001b[0m     warnings\u001b[38;5;241m.\u001b[39mwarn(\n\u001b[0;32m    301\u001b[0m         \u001b[38;5;124mf\u001b[39m\u001b[38;5;124m\"\u001b[39m\u001b[38;5;124mIn the future `np.\u001b[39m\u001b[38;5;132;01m{\u001b[39;00mattr\u001b[38;5;132;01m}\u001b[39;00m\u001b[38;5;124m` will be defined as the \u001b[39m\u001b[38;5;124m\"\u001b[39m\n\u001b[0;32m    302\u001b[0m         \u001b[38;5;124m\"\u001b[39m\u001b[38;5;124mcorresponding NumPy scalar.\u001b[39m\u001b[38;5;124m\"\u001b[39m, \u001b[38;5;167;01mFutureWarning\u001b[39;00m, stacklevel\u001b[38;5;241m=\u001b[39m\u001b[38;5;241m2\u001b[39m)\n\u001b[0;32m    304\u001b[0m \u001b[38;5;28;01mif\u001b[39;00m attr \u001b[38;5;129;01min\u001b[39;00m __former_attrs__:\n\u001b[1;32m--> 305\u001b[0m     \u001b[38;5;28;01mraise\u001b[39;00m \u001b[38;5;167;01mAttributeError\u001b[39;00m(__former_attrs__[attr])\n\u001b[0;32m    307\u001b[0m \u001b[38;5;66;03m# Importing Tester requires importing all of UnitTest which is not a\u001b[39;00m\n\u001b[0;32m    308\u001b[0m \u001b[38;5;66;03m# cheap import Since it is mainly used in test suits, we lazy import it\u001b[39;00m\n\u001b[0;32m    309\u001b[0m \u001b[38;5;66;03m# here to save on the order of 10 ms of import time for most users\u001b[39;00m\n\u001b[0;32m    310\u001b[0m \u001b[38;5;66;03m#\u001b[39;00m\n\u001b[0;32m    311\u001b[0m \u001b[38;5;66;03m# The previous way Tester was imported also had a side effect of adding\u001b[39;00m\n\u001b[0;32m    312\u001b[0m \u001b[38;5;66;03m# the full `numpy.testing` namespace\u001b[39;00m\n\u001b[0;32m    313\u001b[0m \u001b[38;5;28;01mif\u001b[39;00m attr \u001b[38;5;241m==\u001b[39m \u001b[38;5;124m'\u001b[39m\u001b[38;5;124mtesting\u001b[39m\u001b[38;5;124m'\u001b[39m:\n",
      "\u001b[1;31mAttributeError\u001b[0m: module 'numpy' has no attribute 'int'.\n`np.int` was a deprecated alias for the builtin `int`. To avoid this error in existing code, use `int` by itself. Doing this will not modify any behavior and is safe. When replacing `np.int`, you may wish to use e.g. `np.int64` or `np.int32` to specify the precision. If you wish to review your current use, check the release note link for additional information.\nThe aliases was originally deprecated in NumPy 1.20; for more details and guidance see the original release note at:\n    https://numpy.org/devdocs/release/1.20.0-notes.html#deprecations"
     ]
    }
   ],
   "source": [
    "# Define the space of hyperparameters to search\n",
    "space  = [Integer(1, 100, name='n_estimators'),\n",
    "          Real(0.1, 1, name='min_samples_split'),\n",
    "          Integer(1, 24, name='max_features')]\n",
    "\n",
    "# Define the objective function to minimize\n",
    "@use_named_args(space)\n",
    "def objective(**params):\n",
    "    model = ExtraTreesRegressor(**params)\n",
    "\n",
    "    return -np.mean(cross_val_score(model, X, y, cv=5, n_jobs=-1))\n",
    "\n",
    "# Run the optimization with parallel evaluations\n",
    "res_gp = gp_minimize(objective, space, n_calls=50, n_random_starts=10, n_jobs=-1)\n",
    "\n",
    "# Early stopping can be implemented via a callback function\n"
   ]
  },
  {
   "cell_type": "code",
   "execution_count": null,
   "id": "dafa1216",
   "metadata": {},
   "outputs": [],
   "source": [
    "# Best hyperparameters\n",
    "best_hyperparams = res_gp.x"
   ]
  },
  {
   "cell_type": "code",
   "execution_count": null,
   "id": "5b635ffa",
   "metadata": {},
   "outputs": [],
   "source": []
  },
  {
   "cell_type": "code",
   "execution_count": null,
   "id": "8b55ae46",
   "metadata": {},
   "outputs": [],
   "source": []
  },
  {
   "cell_type": "code",
   "execution_count": null,
   "id": "d65bea42",
   "metadata": {},
   "outputs": [],
   "source": []
  },
  {
   "cell_type": "code",
   "execution_count": null,
   "id": "088a92b3",
   "metadata": {},
   "outputs": [],
   "source": []
  },
  {
   "cell_type": "code",
   "execution_count": null,
   "id": "ca66f382",
   "metadata": {},
   "outputs": [],
   "source": []
  },
  {
   "cell_type": "markdown",
   "id": "bbacfaad",
   "metadata": {
    "papermill": {
     "duration": 0.01118,
     "end_time": "2024-01-06T20:13:05.454342",
     "exception": false,
     "start_time": "2024-01-06T20:13:05.443162",
     "status": "completed"
    },
    "tags": []
   },
   "source": [
    "# Final predictions with best model"
   ]
  },
  {
   "cell_type": "code",
   "execution_count": 27,
   "id": "f5cf505b",
   "metadata": {
    "execution": {
     "iopub.execute_input": "2024-01-06T20:13:05.479032Z",
     "iopub.status.busy": "2024-01-06T20:13:05.478618Z",
     "iopub.status.idle": "2024-01-06T20:13:05.486787Z",
     "shell.execute_reply": "2024-01-06T20:13:05.485659Z"
    },
    "papermill": {
     "duration": 0.022876,
     "end_time": "2024-01-06T20:13:05.488833",
     "exception": false,
     "start_time": "2024-01-06T20:13:05.465957",
     "status": "completed"
    },
    "tags": []
   },
   "outputs": [
    {
     "data": {
      "text/plain": [
       "id                 0\n",
       "event_id           0\n",
       "down_time          0\n",
       "up_time            0\n",
       "action_time        0\n",
       "activity           0\n",
       "down_event         0\n",
       "up_event           0\n",
       "text_change        0\n",
       "cursor_position    0\n",
       "word_count         0\n",
       "dtype: int64"
      ]
     },
     "execution_count": 27,
     "metadata": {},
     "output_type": "execute_result"
    }
   ],
   "source": [
    "# look at nulls in test\n",
    "test.isnull().sum()"
   ]
  },
  {
   "cell_type": "code",
   "execution_count": null,
   "id": "4e513ff2",
   "metadata": {},
   "outputs": [],
   "source": [
    "best = "
   ]
  },
  {
   "cell_type": "code",
   "execution_count": 28,
   "id": "38e61b50",
   "metadata": {
    "execution": {
     "iopub.execute_input": "2024-01-06T20:13:05.514008Z",
     "iopub.status.busy": "2024-01-06T20:13:05.513621Z",
     "iopub.status.idle": "2024-01-06T20:13:05.546338Z",
     "shell.execute_reply": "2024-01-06T20:13:05.544678Z"
    },
    "papermill": {
     "duration": 0.048615,
     "end_time": "2024-01-06T20:13:05.549168",
     "exception": false,
     "start_time": "2024-01-06T20:13:05.500553",
     "status": "completed"
    },
    "tags": []
   },
   "outputs": [
    {
     "data": {
      "text/plain": [
       "array([1.525, 1.525, 1.525])"
      ]
     },
     "execution_count": 28,
     "metadata": {},
     "output_type": "execute_result"
    }
   ],
   "source": [
    "# create the features df\n",
    "test = create_features_dataframe(test)\n",
    "\n",
    "X = test.drop(['id'], axis=1)\n",
    "X = scaler.transform(X)\n",
    "\n",
    "y_pred = best.predict(X)\n",
    "\n",
    "y_pred"
   ]
  },
  {
   "cell_type": "markdown",
   "id": "d9e68d21",
   "metadata": {
    "papermill": {
     "duration": 0.011901,
     "end_time": "2024-01-06T20:13:05.573394",
     "exception": false,
     "start_time": "2024-01-06T20:13:05.561493",
     "status": "completed"
    },
    "tags": []
   },
   "source": [
    "# Submission"
   ]
  },
  {
   "cell_type": "code",
   "execution_count": 29,
   "id": "eb216f0c",
   "metadata": {
    "execution": {
     "iopub.execute_input": "2024-01-06T20:13:05.599724Z",
     "iopub.status.busy": "2024-01-06T20:13:05.599364Z",
     "iopub.status.idle": "2024-01-06T20:13:05.613864Z",
     "shell.execute_reply": "2024-01-06T20:13:05.612364Z"
    },
    "papermill": {
     "duration": 0.030902,
     "end_time": "2024-01-06T20:13:05.616389",
     "exception": false,
     "start_time": "2024-01-06T20:13:05.585487",
     "status": "completed"
    },
    "tags": []
   },
   "outputs": [
    {
     "data": {
      "text/html": [
       "<div>\n",
       "<style scoped>\n",
       "    .dataframe tbody tr th:only-of-type {\n",
       "        vertical-align: middle;\n",
       "    }\n",
       "\n",
       "    .dataframe tbody tr th {\n",
       "        vertical-align: top;\n",
       "    }\n",
       "\n",
       "    .dataframe thead th {\n",
       "        text-align: right;\n",
       "    }\n",
       "</style>\n",
       "<table border=\"1\" class=\"dataframe\">\n",
       "  <thead>\n",
       "    <tr style=\"text-align: right;\">\n",
       "      <th></th>\n",
       "      <th>id</th>\n",
       "      <th>score</th>\n",
       "    </tr>\n",
       "  </thead>\n",
       "  <tbody>\n",
       "    <tr>\n",
       "      <th>0</th>\n",
       "      <td>0000aaaa</td>\n",
       "      <td>1.525</td>\n",
       "    </tr>\n",
       "    <tr>\n",
       "      <th>1</th>\n",
       "      <td>2222bbbb</td>\n",
       "      <td>1.525</td>\n",
       "    </tr>\n",
       "    <tr>\n",
       "      <th>2</th>\n",
       "      <td>4444cccc</td>\n",
       "      <td>1.525</td>\n",
       "    </tr>\n",
       "  </tbody>\n",
       "</table>\n",
       "</div>"
      ],
      "text/plain": [
       "         id  score\n",
       "0  0000aaaa  1.525\n",
       "1  2222bbbb  1.525\n",
       "2  4444cccc  1.525"
      ]
     },
     "execution_count": 29,
     "metadata": {},
     "output_type": "execute_result"
    }
   ],
   "source": [
    "submission = pd.DataFrame({'id': test['id'], 'score': y_pred})\n",
    "submission.to_csv('submission.csv', index=False)\n",
    "\n",
    "submission"
   ]
  },
  {
   "cell_type": "code",
   "execution_count": null,
   "id": "1bbbbaf8",
   "metadata": {
    "papermill": {
     "duration": 0.012067,
     "end_time": "2024-01-06T20:13:05.640838",
     "exception": false,
     "start_time": "2024-01-06T20:13:05.628771",
     "status": "completed"
    },
    "tags": []
   },
   "outputs": [],
   "source": []
  }
 ],
 "metadata": {
  "kaggle": {
   "accelerator": "none",
   "dataSources": [
    {
     "databundleVersionId": 6678907,
     "sourceId": 59291,
     "sourceType": "competition"
    }
   ],
   "dockerImageVersionId": 30626,
   "isGpuEnabled": false,
   "isInternetEnabled": false,
   "language": "python",
   "sourceType": "notebook"
  },
  "kernelspec": {
   "display_name": "Python 3",
   "language": "python",
   "name": "python3"
  },
  "language_info": {
   "codemirror_mode": {
    "name": "ipython",
    "version": 3
   },
   "file_extension": ".py",
   "mimetype": "text/x-python",
   "name": "python",
   "nbconvert_exporter": "python",
   "pygments_lexer": "ipython3",
   "version": "3.8.17"
  },
  "papermill": {
   "default_parameters": {},
   "duration": 29.151737,
   "end_time": "2024-01-06T20:13:06.377469",
   "environment_variables": {},
   "exception": null,
   "input_path": "__notebook__.ipynb",
   "output_path": "__notebook__.ipynb",
   "parameters": {},
   "start_time": "2024-01-06T20:12:37.225732",
   "version": "2.4.0"
  }
 },
 "nbformat": 4,
 "nbformat_minor": 5
}
